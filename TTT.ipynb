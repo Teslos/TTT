{
 "cells": [
  {
   "cell_type": "markdown",
   "metadata": {},
   "source": [
    "In this simulation we are calculating TTT and CCT diagrams for following the cooling behaviour of the PM Steels.\n",
    "The current notebook follows presentation given by A.Malakizadi:\n",
    "\n",
    "Diploma work No. 42/2010\n",
    "at Department of Materials and Manufacturing Technology\n",
    "CHALMERS UNIVERSITY OF TECHNOLOGY\n",
    "Gotheburg Sweden\n"
   ]
  },
  {
   "cell_type": "markdown",
   "metadata": {},
   "source": [
    "# Constitutive equation and finite element formulation"
   ]
  },
  {
   "cell_type": "markdown",
   "metadata": {},
   "source": [
    "Heat equation is given here in the general form to model also the phase transformations during the phase transformations of the alloy:"
   ]
  },
  {
   "cell_type": "markdown",
   "metadata": {},
   "source": [
    "Conservation of the energy is given by the equation:\n",
    "$$\n",
    "\\rho \\frac{\\partial E}{\\partial t} - \\nabla(k\\nabla T)= 0\n",
    "$$\n",
    "where the E is specific internal energy. $ \\rho, k$ and $T,t$ are density, thermal conductivity, temperature and time.\n",
    "Specific internal energy can also be represented using:\n",
    "$$\n",
    "E(t,x)= e(T,X_i)\n",
    "$$\n",
    "where $ X_i $ for $i={1,2,3,4}$ are volume fraction for example of the perlite, bainite, ferrite and martensite phase.\n",
    "Differenting the $e(T,X_i)$ with the respect to internal variables:\n",
    "$$\n",
    "\\frac{\\partial e}{\\partial T} = c_p \\\\\n",
    "\\frac{\\partial e}{\\partial X_i}=-q_i\n",
    "$$\n",
    "Thus the general equation is given by:"
   ]
  },
  {
   "cell_type": "markdown",
   "metadata": {},
   "source": [
    "$$\n",
    "\\rho(T)c_p(T)\\frac{\\partial T}{\\partial t}=\\frac{\\partial }{\\partial x}(k(T)\\frac{\\partial T}{\\partial x}) +\n",
    "\\frac{\\partial }{\\partial y}(k(T)\\frac{\\partial T}{\\partial y})+\\frac{\\partial }{\\partial z}(k(T)\\frac{\\partial T}{\\partial z})\n",
    "+\\sum{\\rho_i(T)q_i(T) \\frac{\\partial X_i}{\\partial t}}\n",
    "$$"
   ]
  },
  {
   "cell_type": "markdown",
   "metadata": {},
   "source": [
    "It is important to set also the correct boundary conditions and initial boundary conditions  for the cooling:"
   ]
  },
  {
   "cell_type": "markdown",
   "metadata": {},
   "source": [
    "Cooling condition for radiation and air convection:\n",
    "$$\n",
    "-k\\frac{\\partial T}{\\partial n} = h_c(T) (T-T_{\\infty})+\\sigma\\epsilon(T)(T^{4}-T^{4}_\\infty)\n",
    "$$\n",
    "If we are cooling by water or quenching:\n",
    "$$\n",
    "-k\\frac{\\partial T}{\\partial n} = h_q(T) (T-T_{\\infty})\n",
    "$$\n",
    "And the start temperature of the sample is given:\n",
    "$$\n",
    "T_0 = T(x,y,0)\n",
    "$$\n",
    "here the $h_c(T)$ is the convective heat transfer coefficient, $\\sigma$ is the Stefan-Boltzmann constant, and $\\epsilon $ is radiation emissivity of the surface and $T_\\infty$ is the sorounding temperature.\n",
    "It is possible to reduce the surface radiation to:\n",
    "$$\n",
    "\\sigma \\epsilon(T) (T^4-T^4_\\infty)= \\sigma \\epsilon(T)(T^2+T^2_\\infty)(T+T_\\infty)(T-T_\\infty)=h_r(T)(T-T_\\infty)\n",
    "$$\n",
    "So combined radiation and convection boundary condition can be expressed by:\n",
    "$$\n",
    "-k\\frac{\\partial T}{\\partial n}=h_r(T)(T-T_\\infty)+h_c(T) (T-T_{\\infty})=h_{rc}(T)(T-T_{\\infty})\n",
    "$$\n",
    "where $h_{rc}$ is combined heat transfer.  "
   ]
  },
  {
   "cell_type": "markdown",
   "metadata": {},
   "source": [
    "$$\n",
    "\\rho(T)c_p(T) \\frac{\\partial T}{\\partial t} =k(T)\\left( \\frac{1}{r}  \\frac{\\partial }{\\partial r}(r\\frac{\\partial T}{\\partial r})+ \\frac{\\partial^2 T}{\\partial z^2}\\right)+\\sum{\\rho_i(T)q_i(T)\\frac{\\partial X_i}{\\partial t}}\n",
    "$$"
   ]
  },
  {
   "cell_type": "markdown",
   "metadata": {},
   "source": [
    "## Incoperation of the phase transformation terms"
   ]
  },
  {
   "cell_type": "markdown",
   "metadata": {},
   "source": [
    "Phase transformation in weak formulation for the phase transformation.\n",
    "$$\n",
    "R = \\int_{\\Gamma}{w rh_{rc} T_\\infty}+\\int_{\\omega} w\\sum{\\rho_i q_i \\frac{\\partial X_i}{\\partial t} rdrdz}\n",
    "$$\n",
    "At constant pressure is the latent heat of transformations are equal to entalphy changes $\\rho q_i = \\Delta H_i$\n",
    "\n",
    "$$\n",
    "R=\\int_{\\Gamma}{w rh_{rc} T_\\infty}+\\int_{\\omega} w\\sum{\\Delta H_i \\frac{\\partial X_i}{\\partial t} rdrdz}\n",
    "$$\n",
    "Time derivative can be approximated:\n",
    "$$\n",
    "\\frac{\\partial X_i}{\\partial t} = \\frac{\\Delta X_i}{\\Delta t}=\\frac{X_i^{j+1}-X_i^{j}}{\\Delta t}\n",
    "$$\n",
    "where $X^{j+1}_i$ is the volume fraction of the phase $i$ at time $j+1$. The thermal properties of the mixture are calculated\n",
    "using the mixture rule:\n",
    "$$\n",
    "\\rho c_p = \\sum{X_i\\rho_i c_{p_i}} \\\\\n",
    "k = \\sum{X_i k_i}\n",
    "$$\n",
    "Both models JMAK and AR model can be used to calculate the amount of the diffusive transformation. We focus now on the JMAK model.\n"
   ]
  },
  {
   "cell_type": "markdown",
   "metadata": {},
   "source": [
    "# Scheil principle\n"
   ]
  },
  {
   "cell_type": "markdown",
   "metadata": {},
   "source": [
    "The kinetics of the transformation during cooling (anisothermal condition) "
   ]
  },
  {
   "cell_type": "code",
   "execution_count": null,
   "metadata": {},
   "outputs": [],
   "source": []
  }
 ],
 "metadata": {
  "kernelspec": {
   "display_name": "Python 2",
   "language": "python",
   "name": "python2"
  },
  "language_info": {
   "codemirror_mode": {
    "name": "ipython",
    "version": 2
   },
   "file_extension": ".py",
   "mimetype": "text/x-python",
   "name": "python",
   "nbconvert_exporter": "python",
   "pygments_lexer": "ipython2",
   "version": "2.7.15"
  }
 },
 "nbformat": 4,
 "nbformat_minor": 2
}
