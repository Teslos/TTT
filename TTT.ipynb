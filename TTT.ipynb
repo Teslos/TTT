{
 "cells": [
  {
   "cell_type": "markdown",
   "metadata": {},
   "source": [
    "In this simulation we are calculating TTT and CCT diagrams for following the cooling behaviour of the PM Steels.\n",
    "The current notebook follows presentation given by A.Malakizadi:\n",
    "\n",
    "Diploma work No. 42/2010\n",
    "at Department of Materials and Manufacturing Technology\n",
    "CHALMERS UNIVERSITY OF TECHNOLOGY\n",
    "Gotheburg Sweden\n"
   ]
  },
  {
   "cell_type": "markdown",
   "metadata": {},
   "source": [
    "# Constitutive equation and finite element formulation"
   ]
  },
  {
   "cell_type": "markdown",
   "metadata": {},
   "source": [
    "Heat equation is given here in the general form to model also the phase transformations during the phase transformations of the alloy:"
   ]
  },
  {
   "cell_type": "markdown",
   "metadata": {},
   "source": [
    "Conservation of the energy is given by the equation:\n",
    "$$\n",
    "\\rho \\frac{\\partial E}{\\partial t} - \\nabla(k\\nabla T)= 0\n",
    "$$\n",
    "where the E is specific internal energy. $ \\rho, k$ and $T,t$ are density, thermal conductivity, temperature and time.\n",
    "Specific internal energy can also be represented using:\n",
    "$$\n",
    "E(t,x)= e(T,X_i)\n",
    "$$\n",
    "where $ X_i $ for $i={1,2,3,4}$ are volume fraction for example of the perlite, bainite, ferrite and martensite phase.\n",
    "Differenting the $e(T,X_i)$ with the respect to internal variables:\n",
    "$$\n",
    "\\frac{\\partial e}{\\partial T} = c_p \\\\\n",
    "\\frac{\\partial e}{\\partial X_i}=-q_i\n",
    "$$\n",
    "Thus the general equation is given by:"
   ]
  },
  {
   "cell_type": "markdown",
   "metadata": {},
   "source": [
    "$$\n",
    "\\rho(T)c_p(T)\\frac{\\partial T}{\\partial t}=\\frac{\\partial }{\\partial x}(k(T)\\frac{\\partial T}{\\partial x}) +\n",
    "\\frac{\\partial }{\\partial y}(k(T)\\frac{\\partial T}{\\partial y})+\\frac{\\partial }{\\partial z}(k(T)\\frac{\\partial T}{\\partial z})\n",
    "+\\sum{\\rho_i(T)q_i(T) \\frac{\\partial X_i}{\\partial t}}\n",
    "$$"
   ]
  },
  {
   "cell_type": "markdown",
   "metadata": {},
   "source": [
    "It is important to set also the correct boundary conditions and initial boundary conditions  for the cooling:"
   ]
  },
  {
   "cell_type": "markdown",
   "metadata": {},
   "source": [
    "Cooling condition for radiation and air convection:\n",
    "$$\n",
    "-k\\frac{\\partial T}{\\partial n} = h_c(T) (T-T_{\\infty})+\\sigma\\epsilon(T)(T^{4}-T^{4}_\\infty)\n",
    "$$\n",
    "If we are cooling by water or quenching:\n",
    "$$\n",
    "-k\\frac{\\partial T}{\\partial n} = h_q(T) (T-T_{\\infty})\n",
    "$$\n",
    "And the start temperature of the sample is given:\n",
    "$$\n",
    "T_0 = T(x,y,0)\n",
    "$$\n",
    "here the $h_c(T)$ is the convective heat transfer coefficient, $\\sigma$ is the Stefan-Boltzmann constant, and $\\epsilon $ is radiation emissivity of the surface and $T_\\infty$ is the sorounding temperature.\n",
    "It is possible to reduce the surface radiation to:\n",
    "$$\n",
    "\\sigma \\epsilon(T) (T^4-T^4_\\infty)= \\sigma \\epsilon(T)(T^2+T^2_\\infty)(T+T_\\infty)(T-T_\\infty)=h_r(T)(T-T_\\infty)\n",
    "$$\n",
    "So combined radiation and convection boundary condition can be expressed by:\n",
    "$$\n",
    "-k\\frac{\\partial T}{\\partial n}=h_r(T)(T-T_\\infty)+h_c(T) (T-T_{\\infty})=h_{rc}(T)(T-T_{\\infty})\n",
    "$$\n",
    "where $h_{rc}$ is combined heat transfer.  "
   ]
  },
  {
   "cell_type": "markdown",
   "metadata": {},
   "source": [
    "$$\n",
    "\\rho(T)c_p(T) \\frac{\\partial T}{\\partial t} =k(T)\\left( \\frac{1}{r}  \\frac{\\partial }{\\partial r}(r\\frac{\\partial T}{\\partial r})+ \\frac{\\partial^2 T}{\\partial z^2}\\right)+\\sum{\\rho_i(T)q_i(T)\\frac{\\partial X_i}{\\partial t}}\n",
    "$$"
   ]
  },
  {
   "cell_type": "markdown",
   "metadata": {},
   "source": [
    "## Incoperation of the phase transformation terms"
   ]
  },
  {
   "cell_type": "markdown",
   "metadata": {},
   "source": [
    "Phase transformation in weak formulation for the phase transformation.\n",
    "$$\n",
    "R = \\int_{\\Gamma}{w rh_{rc} T_\\infty}+\\int_{\\omega} w\\sum{\\rho_i q_i \\frac{\\partial X_i}{\\partial t} rdrdz}\n",
    "$$\n",
    "At constant pressure is the latent heat of transformations are equal to entalphy changes $\\rho q_i = \\Delta H_i$\n",
    "\n",
    "$$\n",
    "R=\\int_{\\Gamma}{w rh_{rc} T_\\infty}+\\int_{\\omega} w\\sum{\\Delta H_i \\frac{\\partial X_i}{\\partial t} rdrdz}\n",
    "$$\n",
    "Time derivative can be approximated:\n",
    "$$\n",
    "\\frac{\\partial X_i}{\\partial t} = \\frac{\\Delta X_i}{\\Delta t}=\\frac{X_i^{j+1}-X_i^{j}}{\\Delta t}\n",
    "$$\n",
    "where $X^{j+1}_i$ is the volume fraction of the phase $i$ at time $j+1$. The thermal properties of the mixture are calculated\n",
    "using the mixture rule:\n",
    "$$\n",
    "\\rho c_p = \\sum{X_i\\rho_i c_{p_i}} \\\\\n",
    "k = \\sum{X_i k_i}\n",
    "$$\n",
    "Both models JMAK and AR model can be used to calculate the amount of the diffusive transformation. We focus now on the JMAK model.\n"
   ]
  },
  {
   "cell_type": "markdown",
   "metadata": {},
   "source": [
    "# Scheil principle\n"
   ]
  },
  {
   "cell_type": "markdown",
   "metadata": {},
   "source": [
    "The kinetics of the transformation during cooling (anisothermal condition) according to Scheil principle can the approximated by means of infinitesimal time increments $\\Delta t$ and ficitious time $t^{*}$ need to gain same fraction of phase $i$ at the current temperature $T_j$"
   ]
  },
  {
   "cell_type": "markdown",
   "metadata": {},
   "source": [
    "$$\n",
    "t_j = \\Delta t + t_j^{*}\n",
    "$$\n",
    "where we can calculate $t^{*}$ from JMAK model as:\n",
    "$$\n",
    "t_j^{*} = \\left [ \\frac{ln(\\frac{1}{1-X_{i,j-1}})}{k(T_j)}\\right]\n",
    "$$\n",
    "In the case of the remaining austenite phase we should correct $X_{i,j-1}$ with:\n",
    "$$\n",
    "F_{i,j-1}=\\frac{X_{i,j-1}}{X_{i,j-1}+X_{\\gamma,j-1}}\n",
    "$$\n",
    "then previous equation is written as:\n",
    "$$\n",
    "t_j^{*} = \\left [ \\frac{ln(\\frac{1}{1-F_{i,j-1}})}{k(T_j)}\\right]\n",
    "$$\n",
    "So we can calculate then the fictious volume fraction of phase $i$ at time $j$:\n",
    "$$\n",
    "F_{i,j}^{*}=1-exp\\left(-k(T_j)t_j^{n(T_j)} \\right)\n",
    "$$\n",
    "The incubation time of the diffusive transformation are calculated using equation:\n",
    "$$\n",
    "Q = \\int_{0}^{t} \\frac{d\\epsilon}{\\tau_s(T(\\epsilon))}= \\sum\\frac{\\Delta t}{\\tau_s(T_j)}\n",
    "$$\n"
   ]
  },
  {
   "cell_type": "code",
   "execution_count": 1,
   "metadata": {},
   "outputs": [
    {
     "ename": "ImportError",
     "evalue": "No module named sympy",
     "output_type": "error",
     "traceback": [
      "\u001b[1;31m---------------------------------------------------------------------------\u001b[0m",
      "\u001b[1;31mImportError\u001b[0m                               Traceback (most recent call last)",
      "\u001b[1;32m<ipython-input-1-a3683bed840b>\u001b[0m in \u001b[0;36m<module>\u001b[1;34m()\u001b[0m\n\u001b[1;32m----> 1\u001b[1;33m \u001b[1;32mfrom\u001b[0m \u001b[0msympy\u001b[0m \u001b[1;32mimport\u001b[0m \u001b[0msymbols\u001b[0m\u001b[1;33m\u001b[0m\u001b[0m\n\u001b[0m",
      "\u001b[1;31mImportError\u001b[0m: No module named sympy"
     ]
    }
   ],
   "source": [
    "from sympy import symbols"
   ]
  },
  {
   "cell_type": "code",
   "execution_count": 2,
   "metadata": {},
   "outputs": [],
   "source": [
    "rho=7800; Cp=600.0; k=37.0; alpha=k/(Cp*rho)\n",
    "def h(T):\n",
    "    if (T < 225):\n",
    "        return 20.0\n",
    "    elif ( 225 < T < 800 ):\n",
    "        return -2.11e-9*T**4 + 3.78e-6 * T**3 -0.00217*T**2 + 0.555*T-32.47\n",
    "    else:\n",
    "        return 92.5\n",
    "    \n",
    "    "
   ]
  },
  {
   "cell_type": "markdown",
   "metadata": {},
   "source": [
    "Assuming that the Jominy test can be treated as the semi-infinite plate. The surface exposed to convective boundary condition exposed on one side, the analytical solution is given as:\n",
    "$$\n",
    "\\frac{T(x,t)-T_i}{T_{\\infty}-T_i}=erfc \\left(\\frac{x}{2\\sqrt{\\alpha t}}\\right) - exp\\left(\\frac{h x }{k}+\\frac{h^2 \\alpha t }{k^2}\\right)\n",
    "erfc\\left(\\frac{x}{2\\sqrt{\\alpha t}} + \\frac{h\\sqrt{\\alpha t} }{k}\\right)\n",
    "$$\n",
    "The temperature distribution of the bar at different position $x$ and time $t$ can be obtained if we know distribution of temperature $T$ at previous time step $t_{i-1}$."
   ]
  },
  {
   "cell_type": "code",
   "execution_count": 3,
   "metadata": {},
   "outputs": [],
   "source": [
    "import math\n",
    "def T(x,t,T):\n",
    "    return math.erfc(x/(2*math.sqrt(alpha*t)))-math.exp(h(T)*x/k + h(T)**2 * alpha * t/(k**2)) * math.erfc(x/(2*math.sqrt(alpha*t))+h(T)*math.sqrt(alpha*t)/k)"
   ]
  },
  {
   "cell_type": "markdown",
   "metadata": {},
   "source": [
    "Here we calculate the temperature drop from the one dimensional solution described in previous cell, we set initial temperature of the bar to $T=1173$ K:"
   ]
  },
  {
   "cell_type": "code",
   "execution_count": 4,
   "metadata": {},
   "outputs": [],
   "source": [
    "t_initial=900.0+273; t_inf=23.0+273\n",
    "tr=0.0\n",
    "temp=[]\n",
    "for step in range(1,120):\n",
    "    a=T(0.0,step,tr)\n",
    "    tr = a*(t_inf-t_initial)+t_initial\n",
    "    temp.append(tr)"
   ]
  },
  {
   "cell_type": "markdown",
   "metadata": {},
   "source": [
    "Plot the given temperature for position $x=0$"
   ]
  },
  {
   "cell_type": "code",
   "execution_count": 5,
   "metadata": {},
   "outputs": [
    {
     "ename": "AttributeError",
     "evalue": "'module' object has no attribute 'to_rgba'",
     "output_type": "error",
     "traceback": [
      "\u001b[1;31m---------------------------------------------------------------------------\u001b[0m",
      "\u001b[1;31mAttributeError\u001b[0m                            Traceback (most recent call last)",
      "\u001b[1;32m<ipython-input-5-df98684d9ec9>\u001b[0m in \u001b[0;36m<module>\u001b[1;34m()\u001b[0m\n\u001b[0;32m      2\u001b[0m \u001b[1;32mimport\u001b[0m \u001b[0mmatplotlib\u001b[0m\u001b[1;33m.\u001b[0m\u001b[0mpyplot\u001b[0m \u001b[1;32mas\u001b[0m \u001b[0mplt\u001b[0m\u001b[1;33m\u001b[0m\u001b[0m\n\u001b[0;32m      3\u001b[0m \u001b[0mplt\u001b[0m\u001b[1;33m.\u001b[0m\u001b[0mplot\u001b[0m\u001b[1;33m(\u001b[0m\u001b[0mtemp\u001b[0m\u001b[1;33m)\u001b[0m\u001b[1;33m\u001b[0m\u001b[0m\n\u001b[1;32m----> 4\u001b[1;33m \u001b[0mplt\u001b[0m\u001b[1;33m.\u001b[0m\u001b[0mshow\u001b[0m\u001b[1;33m(\u001b[0m\u001b[1;33m)\u001b[0m\u001b[1;33m\u001b[0m\u001b[0m\n\u001b[0m",
      "\u001b[1;32mC:\\Users\\ivas\\AppData\\Local\\Continuum\\anaconda3\\envs\\py27\\lib\\site-packages\\matplotlib\\pyplot.pyc\u001b[0m in \u001b[0;36mshow\u001b[1;34m(*args, **kw)\u001b[0m\n\u001b[0;32m    242\u001b[0m     \"\"\"\n\u001b[0;32m    243\u001b[0m     \u001b[1;32mglobal\u001b[0m \u001b[0m_show\u001b[0m\u001b[1;33m\u001b[0m\u001b[0m\n\u001b[1;32m--> 244\u001b[1;33m     \u001b[1;32mreturn\u001b[0m \u001b[0m_show\u001b[0m\u001b[1;33m(\u001b[0m\u001b[1;33m*\u001b[0m\u001b[0margs\u001b[0m\u001b[1;33m,\u001b[0m \u001b[1;33m**\u001b[0m\u001b[0mkw\u001b[0m\u001b[1;33m)\u001b[0m\u001b[1;33m\u001b[0m\u001b[0m\n\u001b[0m\u001b[0;32m    245\u001b[0m \u001b[1;33m\u001b[0m\u001b[0m\n\u001b[0;32m    246\u001b[0m \u001b[1;33m\u001b[0m\u001b[0m\n",
      "\u001b[1;32mC:\\Users\\ivas\\AppData\\Local\\Continuum\\anaconda3\\envs\\py27\\lib\\site-packages\\ipykernel\\pylab\\backend_inline.pyc\u001b[0m in \u001b[0;36mshow\u001b[1;34m(close, block)\u001b[0m\n\u001b[0;32m     37\u001b[0m             display(\n\u001b[0;32m     38\u001b[0m                 \u001b[0mfigure_manager\u001b[0m\u001b[1;33m.\u001b[0m\u001b[0mcanvas\u001b[0m\u001b[1;33m.\u001b[0m\u001b[0mfigure\u001b[0m\u001b[1;33m,\u001b[0m\u001b[1;33m\u001b[0m\u001b[0m\n\u001b[1;32m---> 39\u001b[1;33m                 \u001b[0mmetadata\u001b[0m\u001b[1;33m=\u001b[0m\u001b[0m_fetch_figure_metadata\u001b[0m\u001b[1;33m(\u001b[0m\u001b[0mfigure_manager\u001b[0m\u001b[1;33m.\u001b[0m\u001b[0mcanvas\u001b[0m\u001b[1;33m.\u001b[0m\u001b[0mfigure\u001b[0m\u001b[1;33m)\u001b[0m\u001b[1;33m\u001b[0m\u001b[0m\n\u001b[0m\u001b[0;32m     40\u001b[0m             )\n\u001b[0;32m     41\u001b[0m     \u001b[1;32mfinally\u001b[0m\u001b[1;33m:\u001b[0m\u001b[1;33m\u001b[0m\u001b[0m\n",
      "\u001b[1;32mC:\\Users\\ivas\\AppData\\Local\\Continuum\\anaconda3\\envs\\py27\\lib\\site-packages\\ipykernel\\pylab\\backend_inline.pyc\u001b[0m in \u001b[0;36m_fetch_figure_metadata\u001b[1;34m(fig)\u001b[0m\n\u001b[0;32m    172\u001b[0m     \u001b[1;34m\"\"\"Get some metadata to help with displaying a figure.\"\"\"\u001b[0m\u001b[1;33m\u001b[0m\u001b[0m\n\u001b[0;32m    173\u001b[0m     \u001b[1;31m# determine if a background is needed for legibility\u001b[0m\u001b[1;33m\u001b[0m\u001b[1;33m\u001b[0m\u001b[0m\n\u001b[1;32m--> 174\u001b[1;33m     \u001b[1;32mif\u001b[0m \u001b[0m_is_transparent\u001b[0m\u001b[1;33m(\u001b[0m\u001b[0mfig\u001b[0m\u001b[1;33m.\u001b[0m\u001b[0mget_facecolor\u001b[0m\u001b[1;33m(\u001b[0m\u001b[1;33m)\u001b[0m\u001b[1;33m)\u001b[0m\u001b[1;33m:\u001b[0m\u001b[1;33m\u001b[0m\u001b[0m\n\u001b[0m\u001b[0;32m    175\u001b[0m         \u001b[1;31m# the background is transparent\u001b[0m\u001b[1;33m\u001b[0m\u001b[1;33m\u001b[0m\u001b[0m\n\u001b[0;32m    176\u001b[0m         ticksLight = _is_light([label.get_color()\n",
      "\u001b[1;32mC:\\Users\\ivas\\AppData\\Local\\Continuum\\anaconda3\\envs\\py27\\lib\\site-packages\\ipykernel\\pylab\\backend_inline.pyc\u001b[0m in \u001b[0;36m_is_transparent\u001b[1;34m(color)\u001b[0m\n\u001b[0;32m    193\u001b[0m \u001b[1;32mdef\u001b[0m \u001b[0m_is_transparent\u001b[0m\u001b[1;33m(\u001b[0m\u001b[0mcolor\u001b[0m\u001b[1;33m)\u001b[0m\u001b[1;33m:\u001b[0m\u001b[1;33m\u001b[0m\u001b[0m\n\u001b[0;32m    194\u001b[0m     \u001b[1;34m\"\"\"Determine transparency from alpha.\"\"\"\u001b[0m\u001b[1;33m\u001b[0m\u001b[0m\n\u001b[1;32m--> 195\u001b[1;33m     \u001b[0mrgba\u001b[0m \u001b[1;33m=\u001b[0m \u001b[0mcolors\u001b[0m\u001b[1;33m.\u001b[0m\u001b[0mto_rgba\u001b[0m\u001b[1;33m(\u001b[0m\u001b[0mcolor\u001b[0m\u001b[1;33m)\u001b[0m\u001b[1;33m\u001b[0m\u001b[0m\n\u001b[0m\u001b[0;32m    196\u001b[0m     \u001b[1;32mreturn\u001b[0m \u001b[0mrgba\u001b[0m\u001b[1;33m[\u001b[0m\u001b[1;36m3\u001b[0m\u001b[1;33m]\u001b[0m \u001b[1;33m<\u001b[0m \u001b[1;36m.5\u001b[0m\u001b[1;33m\u001b[0m\u001b[0m\n",
      "\u001b[1;31mAttributeError\u001b[0m: 'module' object has no attribute 'to_rgba'"
     ]
    }
   ],
   "source": [
    "%matplotlib inline\n",
    "import matplotlib.pyplot as plt\n",
    "plt.plot(temp)\n",
    "plt.show()\n"
   ]
  },
  {
   "cell_type": "markdown",
   "metadata": {},
   "source": [
    "# Calculation of heat "
   ]
  },
  {
   "cell_type": "markdown",
   "metadata": {},
   "source": [
    "In this section we solve general 2d heat equation using fipy library."
   ]
  },
  {
   "cell_type": "code",
   "execution_count": 6,
   "metadata": {},
   "outputs": [],
   "source": [
    "from fipy import *\n",
    "import numpy as np"
   ]
  },
  {
   "cell_type": "markdown",
   "metadata": {},
   "source": [
    "Define some common mesh values for 2D heat flow. We create uniform cylinder mesh on which we solve axisymmetric case."
   ]
  },
  {
   "cell_type": "code",
   "execution_count": 7,
   "metadata": {},
   "outputs": [],
   "source": [
    "steps = 100\n",
    "N = 480\n",
    "L = 2.5*N/400\n",
    "dL = L / N\n",
    "dt = 1.e-4\n",
    "mesh = CylindricalGrid2D(dx = dL, dy = dL, nx = N, ny = N)"
   ]
  },
  {
   "cell_type": "code",
   "execution_count": 8,
   "metadata": {},
   "outputs": [],
   "source": [
    "temperature = CellVariable(mesh = mesh, name='temperature',value=1173.)\n",
    "r = CellVariable(mesh = mesh, name='radius')"
   ]
  },
  {
   "cell_type": "markdown",
   "metadata": {},
   "source": [
    "Initial temperature of the cylinder and surface is set to:\n",
    "$T_o= 1173K$.\n",
    "Boundary condition at $y=0$ is given by convection cooling condition:\n",
    "$$\n",
    "-k \\frac{\\partial T}{\\partial n} = h_{rc}(T) (T-T_{\\infty})\n",
    "$$\n",
    "\n",
    "The boundary condition on the $x=0$ left side of the domain is isolated:\n",
    "$$\n",
    "-k \\frac{\\partial T}{\\partial n} = 0\n",
    "$$\n",
    "The temperature on the top and right side of cylinder are set to surounding temperature:\n",
    "$T_0 = T_{\\infty}$"
   ]
  },
  {
   "cell_type": "code",
   "execution_count": 9,
   "metadata": {},
   "outputs": [],
   "source": [
    "vh = np.vectorize(h)\n",
    "temperature.faceGrad.dot([0,1]).constrain(vh(temperature.faceValue)*(temperature.faceValue-t_inf),mesh.facesBottom)\n",
    "temperature.faceGrad.dot([1,0]).constrain(0,mesh.facesLeft)\n",
    "temperature.constrain(t_inf, mesh.facesRight)\n",
    "temperature.constrain(t_inf, mesh.facesTop)"
   ]
  },
  {
   "cell_type": "markdown",
   "metadata": {},
   "source": [
    "Now setup the temperature equation for now we dont have a source term comming from the phase transformations."
   ]
  },
  {
   "cell_type": "code",
   "execution_count": 17,
   "metadata": {},
   "outputs": [],
   "source": [
    "temperatureEq = TransientTerm(coeff=rho*Cp*r,var=temperature) == ImplicitDiffusionTerm(coeff=k*r,var=temperature) "
   ]
  },
  {
   "cell_type": "code",
   "execution_count": 18,
   "metadata": {},
   "outputs": [
    {
     "ename": "AttributeError",
     "evalue": "'module' object has no attribute 'to_rgba'",
     "output_type": "error",
     "traceback": [
      "\u001b[1;31m---------------------------------------------------------------------------\u001b[0m",
      "\u001b[1;31mAttributeError\u001b[0m                            Traceback (most recent call last)",
      "\u001b[1;32mC:\\Users\\ivas\\AppData\\Local\\Continuum\\anaconda3\\envs\\py27\\lib\\site-packages\\ipykernel\\pylab\\backend_inline.pyc\u001b[0m in \u001b[0;36mshow\u001b[1;34m(close, block)\u001b[0m\n\u001b[0;32m     37\u001b[0m             display(\n\u001b[0;32m     38\u001b[0m                 \u001b[0mfigure_manager\u001b[0m\u001b[1;33m.\u001b[0m\u001b[0mcanvas\u001b[0m\u001b[1;33m.\u001b[0m\u001b[0mfigure\u001b[0m\u001b[1;33m,\u001b[0m\u001b[1;33m\u001b[0m\u001b[0m\n\u001b[1;32m---> 39\u001b[1;33m                 \u001b[0mmetadata\u001b[0m\u001b[1;33m=\u001b[0m\u001b[0m_fetch_figure_metadata\u001b[0m\u001b[1;33m(\u001b[0m\u001b[0mfigure_manager\u001b[0m\u001b[1;33m.\u001b[0m\u001b[0mcanvas\u001b[0m\u001b[1;33m.\u001b[0m\u001b[0mfigure\u001b[0m\u001b[1;33m)\u001b[0m\u001b[1;33m\u001b[0m\u001b[0m\n\u001b[0m\u001b[0;32m     40\u001b[0m             )\n\u001b[0;32m     41\u001b[0m     \u001b[1;32mfinally\u001b[0m\u001b[1;33m:\u001b[0m\u001b[1;33m\u001b[0m\u001b[0m\n",
      "\u001b[1;32mC:\\Users\\ivas\\AppData\\Local\\Continuum\\anaconda3\\envs\\py27\\lib\\site-packages\\ipykernel\\pylab\\backend_inline.pyc\u001b[0m in \u001b[0;36m_fetch_figure_metadata\u001b[1;34m(fig)\u001b[0m\n\u001b[0;32m    172\u001b[0m     \u001b[1;34m\"\"\"Get some metadata to help with displaying a figure.\"\"\"\u001b[0m\u001b[1;33m\u001b[0m\u001b[0m\n\u001b[0;32m    173\u001b[0m     \u001b[1;31m# determine if a background is needed for legibility\u001b[0m\u001b[1;33m\u001b[0m\u001b[1;33m\u001b[0m\u001b[0m\n\u001b[1;32m--> 174\u001b[1;33m     \u001b[1;32mif\u001b[0m \u001b[0m_is_transparent\u001b[0m\u001b[1;33m(\u001b[0m\u001b[0mfig\u001b[0m\u001b[1;33m.\u001b[0m\u001b[0mget_facecolor\u001b[0m\u001b[1;33m(\u001b[0m\u001b[1;33m)\u001b[0m\u001b[1;33m)\u001b[0m\u001b[1;33m:\u001b[0m\u001b[1;33m\u001b[0m\u001b[0m\n\u001b[0m\u001b[0;32m    175\u001b[0m         \u001b[1;31m# the background is transparent\u001b[0m\u001b[1;33m\u001b[0m\u001b[1;33m\u001b[0m\u001b[0m\n\u001b[0;32m    176\u001b[0m         ticksLight = _is_light([label.get_color()\n",
      "\u001b[1;32mC:\\Users\\ivas\\AppData\\Local\\Continuum\\anaconda3\\envs\\py27\\lib\\site-packages\\ipykernel\\pylab\\backend_inline.pyc\u001b[0m in \u001b[0;36m_is_transparent\u001b[1;34m(color)\u001b[0m\n\u001b[0;32m    193\u001b[0m \u001b[1;32mdef\u001b[0m \u001b[0m_is_transparent\u001b[0m\u001b[1;33m(\u001b[0m\u001b[0mcolor\u001b[0m\u001b[1;33m)\u001b[0m\u001b[1;33m:\u001b[0m\u001b[1;33m\u001b[0m\u001b[0m\n\u001b[0;32m    194\u001b[0m     \u001b[1;34m\"\"\"Determine transparency from alpha.\"\"\"\u001b[0m\u001b[1;33m\u001b[0m\u001b[0m\n\u001b[1;32m--> 195\u001b[1;33m     \u001b[0mrgba\u001b[0m \u001b[1;33m=\u001b[0m \u001b[0mcolors\u001b[0m\u001b[1;33m.\u001b[0m\u001b[0mto_rgba\u001b[0m\u001b[1;33m(\u001b[0m\u001b[0mcolor\u001b[0m\u001b[1;33m)\u001b[0m\u001b[1;33m\u001b[0m\u001b[0m\n\u001b[0m\u001b[0;32m    196\u001b[0m     \u001b[1;32mreturn\u001b[0m \u001b[0mrgba\u001b[0m\u001b[1;33m[\u001b[0m\u001b[1;36m3\u001b[0m\u001b[1;33m]\u001b[0m \u001b[1;33m<\u001b[0m \u001b[1;36m.5\u001b[0m\u001b[1;33m\u001b[0m\u001b[0m\n",
      "\u001b[1;31mAttributeError\u001b[0m: 'module' object has no attribute 'to_rgba'"
     ]
    }
   ],
   "source": [
    "if __name__ == '__main__':\n",
    "    temperatureViewer = Viewer(vars=temperature,figaspect=1)"
   ]
  },
  {
   "cell_type": "markdown",
   "metadata": {},
   "source": [
    "We step the solution in time, plotting as we go interactively"
   ]
  },
  {
   "cell_type": "code",
   "execution_count": 19,
   "metadata": {},
   "outputs": [
    {
     "ename": "ImportError",
     "evalue": "No module named pysparse",
     "output_type": "error",
     "traceback": [
      "\u001b[1;31m---------------------------------------------------------------------------\u001b[0m",
      "\u001b[1;31mImportError\u001b[0m                               Traceback (most recent call last)",
      "\u001b[1;32m<ipython-input-19-dd165760d0b2>\u001b[0m in \u001b[0;36m<module>\u001b[1;34m()\u001b[0m\n\u001b[0;32m      1\u001b[0m \u001b[1;31m#import fipy.solvers.pyAMG as solvers\u001b[0m\u001b[1;33m\u001b[0m\u001b[1;33m\u001b[0m\u001b[0m\n\u001b[1;32m----> 2\u001b[1;33m \u001b[1;32mimport\u001b[0m \u001b[0mfipy\u001b[0m\u001b[1;33m.\u001b[0m\u001b[0msolvers\u001b[0m\u001b[1;33m.\u001b[0m\u001b[0mpysparse\u001b[0m \u001b[1;32mas\u001b[0m \u001b[0msolvers\u001b[0m\u001b[1;33m\u001b[0m\u001b[0m\n\u001b[0m\u001b[0;32m      3\u001b[0m \u001b[1;32mimport\u001b[0m \u001b[0mnumpy\u001b[0m \u001b[1;32mas\u001b[0m \u001b[0mnp\u001b[0m\u001b[1;33m\u001b[0m\u001b[0m\n\u001b[0;32m      4\u001b[0m \u001b[0msolver\u001b[0m \u001b[1;33m=\u001b[0m \u001b[0msolvers\u001b[0m\u001b[1;33m.\u001b[0m\u001b[0mlinearGMRESSolver\u001b[0m\u001b[1;33m.\u001b[0m\u001b[0mLinearGMRESSolver\u001b[0m\u001b[1;33m(\u001b[0m\u001b[0mprecon\u001b[0m\u001b[1;33m=\u001b[0m\u001b[0mNone\u001b[0m\u001b[1;33m,\u001b[0m \u001b[0miterations\u001b[0m\u001b[1;33m=\u001b[0m\u001b[1;36m1500\u001b[0m\u001b[1;33m,\u001b[0m \u001b[0mtolerance\u001b[0m\u001b[1;33m=\u001b[0m\u001b[1;36m1e-15\u001b[0m\u001b[1;33m)\u001b[0m\u001b[1;33m\u001b[0m\u001b[0m\n\u001b[0;32m      5\u001b[0m \u001b[0mpoisson\u001b[0m\u001b[1;33m=\u001b[0m \u001b[0msolvers\u001b[0m\u001b[1;33m.\u001b[0m\u001b[0mlinearLUSolver\u001b[0m\u001b[1;33m.\u001b[0m\u001b[0mLinearLUSolver\u001b[0m\u001b[1;33m(\u001b[0m\u001b[1;33m)\u001b[0m\u001b[1;33m\u001b[0m\u001b[0m\n",
      "\u001b[1;32mC:\\Users\\ivas\\AppData\\Local\\Continuum\\anaconda3\\envs\\py27\\lib\\site-packages\\fipy\\solvers\\pysparse\\__init__.py\u001b[0m in \u001b[0;36m<module>\u001b[1;34m()\u001b[0m\n\u001b[1;32m----> 1\u001b[1;33m \u001b[1;32mfrom\u001b[0m \u001b[0mfipy\u001b[0m\u001b[1;33m.\u001b[0m\u001b[0msolvers\u001b[0m\u001b[1;33m.\u001b[0m\u001b[0mpysparse\u001b[0m\u001b[1;33m.\u001b[0m\u001b[0mlinearCGSSolver\u001b[0m \u001b[1;32mimport\u001b[0m \u001b[1;33m*\u001b[0m\u001b[1;33m\u001b[0m\u001b[0m\n\u001b[0m\u001b[0;32m      2\u001b[0m \u001b[1;32mfrom\u001b[0m \u001b[0mfipy\u001b[0m\u001b[1;33m.\u001b[0m\u001b[0msolvers\u001b[0m\u001b[1;33m.\u001b[0m\u001b[0mpysparse\u001b[0m\u001b[1;33m.\u001b[0m\u001b[0mlinearPCGSolver\u001b[0m \u001b[1;32mimport\u001b[0m \u001b[1;33m*\u001b[0m\u001b[1;33m\u001b[0m\u001b[0m\n\u001b[0;32m      3\u001b[0m \u001b[1;32mfrom\u001b[0m \u001b[0mfipy\u001b[0m\u001b[1;33m.\u001b[0m\u001b[0msolvers\u001b[0m\u001b[1;33m.\u001b[0m\u001b[0mpysparse\u001b[0m\u001b[1;33m.\u001b[0m\u001b[0mlinearGMRESSolver\u001b[0m \u001b[1;32mimport\u001b[0m \u001b[1;33m*\u001b[0m\u001b[1;33m\u001b[0m\u001b[0m\n\u001b[0;32m      4\u001b[0m \u001b[1;32mfrom\u001b[0m \u001b[0mfipy\u001b[0m\u001b[1;33m.\u001b[0m\u001b[0msolvers\u001b[0m\u001b[1;33m.\u001b[0m\u001b[0mpysparse\u001b[0m\u001b[1;33m.\u001b[0m\u001b[0mlinearLUSolver\u001b[0m \u001b[1;32mimport\u001b[0m \u001b[1;33m*\u001b[0m\u001b[1;33m\u001b[0m\u001b[0m\n\u001b[0;32m      5\u001b[0m \u001b[1;32mfrom\u001b[0m \u001b[0mfipy\u001b[0m\u001b[1;33m.\u001b[0m\u001b[0msolvers\u001b[0m\u001b[1;33m.\u001b[0m\u001b[0mpysparse\u001b[0m\u001b[1;33m.\u001b[0m\u001b[0mlinearJORSolver\u001b[0m \u001b[1;32mimport\u001b[0m \u001b[1;33m*\u001b[0m\u001b[1;33m\u001b[0m\u001b[0m\n",
      "\u001b[1;32mC:\\Users\\ivas\\AppData\\Local\\Continuum\\anaconda3\\envs\\py27\\lib\\site-packages\\fipy\\solvers\\pysparse\\linearCGSSolver.py\u001b[0m in \u001b[0;36m<module>\u001b[1;34m()\u001b[0m\n\u001b[0;32m     37\u001b[0m \u001b[1;32mimport\u001b[0m \u001b[0msys\u001b[0m\u001b[1;33m\u001b[0m\u001b[0m\n\u001b[0;32m     38\u001b[0m \u001b[1;33m\u001b[0m\u001b[0m\n\u001b[1;32m---> 39\u001b[1;33m \u001b[1;32mfrom\u001b[0m \u001b[0mpysparse\u001b[0m \u001b[1;32mimport\u001b[0m \u001b[0mitsolvers\u001b[0m\u001b[1;33m\u001b[0m\u001b[0m\n\u001b[0m\u001b[0;32m     40\u001b[0m \u001b[1;33m\u001b[0m\u001b[0m\n\u001b[0;32m     41\u001b[0m \u001b[1;32mfrom\u001b[0m \u001b[0mfipy\u001b[0m\u001b[1;33m.\u001b[0m\u001b[0msolvers\u001b[0m\u001b[1;33m.\u001b[0m\u001b[0mpysparse\u001b[0m\u001b[1;33m.\u001b[0m\u001b[0mpysparseSolver\u001b[0m \u001b[1;32mimport\u001b[0m \u001b[0mPysparseSolver\u001b[0m\u001b[1;33m\u001b[0m\u001b[0m\n",
      "\u001b[1;31mImportError\u001b[0m: No module named pysparse"
     ]
    }
   ],
   "source": [
    "#import fipy.solvers.pyAMG as solvers\n",
    "import fipy.solvers.pysparse as solvers\n",
    "import numpy as np\n",
    "solver = solvers.linearGMRESSolver.LinearGMRESSolver(precon=None, iterations=1500, tolerance=1e-15) \n",
    "poisson= solvers.linearLUSolver.LinearLUSolver()\n",
    "\n",
    "steps = 1000\n",
    "\n",
    "for i in range(steps):\n",
    "    temperatureEq.solve(temperature, dt=dt,solver=solver)\n",
    "    \n",
    "    if __name__ == '__main__':\n",
    "        temperatureViewer.plot()\n",
    "        path = \"temperature/\"\n",
    "        np.savetxt(path+\"temperature\"+str(i+loadres),phase)\n",
    "        print \"step: \", i, \"Min. temperature\",min(temperature)\n",
    "        "
   ]
  },
  {
   "cell_type": "code",
   "execution_count": null,
   "metadata": {},
   "outputs": [],
   "source": []
  }
 ],
 "metadata": {
  "kernelspec": {
   "display_name": "Python 2",
   "language": "python",
   "name": "python2"
  },
  "language_info": {
   "codemirror_mode": {
    "name": "ipython",
    "version": 2
   },
   "file_extension": ".py",
   "mimetype": "text/x-python",
   "name": "python",
   "nbconvert_exporter": "python",
   "pygments_lexer": "ipython2",
   "version": "2.7.15"
  }
 },
 "nbformat": 4,
 "nbformat_minor": 2
}
