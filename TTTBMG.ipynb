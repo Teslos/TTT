{
 "cells": [
  {
   "cell_type": "markdown",
   "metadata": {},
   "source": [
    "In this simulation we are calculating TTT and CCT diagrams for following the cooling behaviour of the PM Steels.\n",
    "The current notebook follows presentation given by A.Malakizadi:\n",
    "\n",
    "Diploma work No. 42/2010\n",
    "at Department of Materials and Manufacturing Technology\n",
    "CHALMERS UNIVERSITY OF TECHNOLOGY\n",
    "Gotheburg Sweden\n",
    "\n",
    "Note this is applied to BMG material AMZ4.\n"
   ]
  },
  {
   "cell_type": "markdown",
   "metadata": {},
   "source": [
    "# Constitutive equation and finite element formulation"
   ]
  },
  {
   "cell_type": "markdown",
   "metadata": {},
   "source": [
    "Heat equation is given here in the general form to model also the phase transformations during the phase transformations of the alloy:"
   ]
  },
  {
   "cell_type": "markdown",
   "metadata": {},
   "source": [
    "Conservation of the energy is given by the equation:\n",
    "$$\n",
    "\\rho \\frac{\\partial E}{\\partial t} - \\nabla(k\\nabla T)= 0\n",
    "$$\n",
    "where the E is specific internal energy. $ \\rho, k$ and $T,t$ are density, thermal conductivity, temperature and time.\n",
    "Specific internal energy can also be represented using:\n",
    "$$\n",
    "E(t,x)= e(T,X_i)\n",
    "$$\n",
    "where $ X_i $ for $i={1,2,3,4}$ are volume fraction for example of the perlite, bainite, ferrite and martensite phase.\n",
    "Differenting the $e(T,X_i)$ with the respect to internal variables:\n",
    "$$\n",
    "\\frac{\\partial e}{\\partial T} = c_p \\\\\n",
    "\\frac{\\partial e}{\\partial X_i}=-q_i\n",
    "$$\n",
    "Thus the general equation is given by:"
   ]
  },
  {
   "cell_type": "markdown",
   "metadata": {},
   "source": [
    "$$\n",
    "\\rho(T)c_p(T)\\frac{\\partial T}{\\partial t}=\\frac{\\partial }{\\partial x}(k(T)\\frac{\\partial T}{\\partial x}) +\n",
    "\\frac{\\partial }{\\partial y}(k(T)\\frac{\\partial T}{\\partial y})+\\frac{\\partial }{\\partial z}(k(T)\\frac{\\partial T}{\\partial z})\n",
    "+\\sum{\\rho_i(T)q_i(T) \\frac{\\partial X_i}{\\partial t}}\n",
    "$$"
   ]
  },
  {
   "cell_type": "markdown",
   "metadata": {},
   "source": [
    "It is important to set also the correct boundary conditions and initial boundary conditions  for the cooling:"
   ]
  },
  {
   "cell_type": "markdown",
   "metadata": {},
   "source": [
    "Cooling condition for radiation and air convection:\n",
    "$$\n",
    "-k\\frac{\\partial T}{\\partial n} = h_c(T) (T-T_{\\infty})+\\sigma\\epsilon(T)(T^{4}-T^{4}_\\infty)\n",
    "$$\n",
    "If we are cooling by water or quenching:\n",
    "$$\n",
    "-k\\frac{\\partial T}{\\partial n} = h_q(T) (T-T_{\\infty})\n",
    "$$\n",
    "And the start temperature of the sample is given:\n",
    "$$\n",
    "T_0 = T(x,y,0)\n",
    "$$\n",
    "here the $h_c(T)$ is the convective heat transfer coefficient, $\\sigma$ is the Stefan-Boltzmann constant, and $\\epsilon $ is radiation emissivity of the surface and $T_\\infty$ is the sorounding temperature.\n",
    "It is possible to reduce the surface radiation to:\n",
    "$$\n",
    "\\sigma \\epsilon(T) (T^4-T^4_\\infty)= \\sigma \\epsilon(T)(T^2+T^2_\\infty)(T+T_\\infty)(T-T_\\infty)=h_r(T)(T-T_\\infty)\n",
    "$$\n",
    "So combined radiation and convection boundary condition can be expressed by:\n",
    "$$\n",
    "-k\\frac{\\partial T}{\\partial n}=h_r(T)(T-T_\\infty)+h_c(T) (T-T_{\\infty})=h_{rc}(T)(T-T_{\\infty})\n",
    "$$\n",
    "where $h_{rc}$ is combined heat transfer.  "
   ]
  },
  {
   "cell_type": "markdown",
   "metadata": {},
   "source": [
    "$$\n",
    "\\rho(T)c_p(T) \\frac{\\partial T}{\\partial t} =k(T)\\left( \\frac{1}{r}  \\frac{\\partial }{\\partial r}(r\\frac{\\partial T}{\\partial r})+ \\frac{\\partial^2 T}{\\partial z^2}\\right)+\\sum{\\rho_i(T)q_i(T)\\frac{\\partial X_i}{\\partial t}}\n",
    "$$"
   ]
  },
  {
   "cell_type": "markdown",
   "metadata": {},
   "source": [
    "## Incoperation of the phase transformation terms"
   ]
  },
  {
   "cell_type": "markdown",
   "metadata": {},
   "source": [
    "Phase transformation in weak formulation for the phase transformation.\n",
    "$$\n",
    "R = \\int_{\\Gamma}{w rh_{rc} T_\\infty}+\\int_{\\omega} w\\sum{\\rho_i q_i \\frac{\\partial X_i}{\\partial t} rdrdz}\n",
    "$$\n",
    "At constant pressure is the latent heat of transformations are equal to entalphy changes $\\rho q_i = \\Delta H_i$\n",
    "\n",
    "$$\n",
    "R=\\int_{\\Gamma}{w rh_{rc} T_\\infty}+\\int_{\\omega} w\\sum{\\Delta H_i \\frac{\\partial X_i}{\\partial t} rdrdz}\n",
    "$$\n",
    "Time derivative can be approximated:\n",
    "$$\n",
    "\\frac{\\partial X_i}{\\partial t} = \\frac{\\Delta X_i}{\\Delta t}=\\frac{X_i^{j+1}-X_i^{j}}{\\Delta t}\n",
    "$$\n",
    "where $X^{j+1}_i$ is the volume fraction of the phase $i$ at time $j+1$. The thermal properties of the mixture are calculated\n",
    "using the mixture rule:\n",
    "$$\n",
    "\\rho c_p = \\sum{X_i\\rho_i c_{p_i}} \\\\\n",
    "k = \\sum{X_i k_i}\n",
    "$$\n",
    "Both models JMAK and AR model can be used to calculate the amount of the diffusive transformation. We focus now on the JMAK model.\n"
   ]
  },
  {
   "cell_type": "markdown",
   "metadata": {},
   "source": [
    "# Scheil principle\n"
   ]
  },
  {
   "cell_type": "markdown",
   "metadata": {},
   "source": [
    "The kinetics of the transformation during cooling (anisothermal condition) according to Scheil principle can the approximated by means of infinitesimal time increments $\\Delta t$ and ficitious time $t^{*}$ need to gain same fraction of phase $i$ at the current temperature $T_j$"
   ]
  },
  {
   "cell_type": "markdown",
   "metadata": {},
   "source": [
    "$$\n",
    "t_j = \\Delta t + t_j^{*}\n",
    "$$\n",
    "where we can calculate $t^{*}$ from JMAK model as:\n",
    "$$\n",
    "t_j^{*} = \\left [ \\frac{ln(\\frac{1}{1-X_{i,j-1}})}{k(T_j)}\\right]^{1/n(T_j)}\n",
    "$$\n",
    "In the case of the remaining austenite phase we should correct $X_{i,j-1}$ with:\n",
    "$$\n",
    "F_{i,j-1}=\\frac{X_{i,j-1}}{X_{i,j-1}+X_{\\gamma,j-1}}\n",
    "$$\n",
    "then previous equation is written as:\n",
    "$$\n",
    "t_j^{*} = \\left [ \\frac{ln(\\frac{1}{1-F_{i,j-1}})}{k(T_j)}\\right]^{1/n(T_j)}\n",
    "$$\n",
    "So we can calculate then the fictious volume fraction of phase $i$ at time $j$:\n",
    "$$\n",
    "F_{i,j}^{*}=1-exp\\left(-k(T_j)t_j^{n(T_j)} \\right)\n",
    "$$\n",
    "The incubation time of the diffusive transformation are calculated using equation:\n",
    "$$\n",
    "Q = \\int_{0}^{t} \\frac{d\\epsilon}{\\tau_s(T(\\epsilon))}= \\sum\\frac{\\Delta t}{\\tau_s(T_j)}\n",
    "$$\n"
   ]
  },
  {
   "cell_type": "markdown",
   "metadata": {},
   "source": [
    "## Test case"
   ]
  },
  {
   "cell_type": "markdown",
   "metadata": {},
   "source": [
    "For this test case we are using the data available from the thesis \"Modeling of Bulk Metallic Glass formation\n",
    "in Powder Bed Fusion\" by John Lindwall from http://www.ltu.se ISBN 978-91-7790-306-2"
   ]
  },
  {
   "cell_type": "code",
   "execution_count": 11,
   "metadata": {},
   "outputs": [],
   "source": [
    "\n",
    "def h(T):\n",
    "    a = 5.225E-4\n",
    "    b = 1.031E+7\n",
    "    R = 8.134\n",
    "    c = 0.00623\n",
    "    d = -6.047E-7\n",
    "    if (T < (470+273)):\n",
    "        return 3*R + c * T + d * T**(-2)\n",
    "    elif ( (470+273) < T < (1200+273) ):\n",
    "        return 3*R + a * T + b * T**(-2)\n",
    "    return 0\n",
    "    \n",
    "    "
   ]
  },
  {
   "cell_type": "code",
   "execution_count": 17,
   "metadata": {},
   "outputs": [
    {
     "data": {
      "text/plain": [
       "0.39681055005721855"
      ]
     },
     "execution_count": 17,
     "metadata": {},
     "output_type": "execute_result"
    }
   ],
   "source": [
    "h(1400)/rhoAMZ4"
   ]
  },
  {
   "cell_type": "markdown",
   "metadata": {},
   "source": [
    "Plot the cp of the alloy to see if the function correspond to experimental data"
   ]
  },
  {
   "cell_type": "code",
   "execution_count": 12,
   "metadata": {},
   "outputs": [
    {
     "data": {
      "image/png": "[encoded data removed]",
      "text/plain": [
       "<Figure size 432x288 with 1 Axes>"
      ]
     },
     "metadata": {
      "needs_background": "light"
     },
     "output_type": "display_data"
    }
   ],
   "source": [
    "%matplotlib inline\n",
    "import matplotlib.pyplot as plt\n",
    "temp = []\n",
    "cp = []\n",
    "rhoAMZ4 = 76.595\n",
    "\n",
    "for step in range(1,1200):\n",
    "    val = h(step+273)/rhoAMZ4\n",
    "    cp.append(val)\n",
    "    temp.append(step)\n",
    "plt.plot(temp,cp)\n",
    "plt.show()"
   ]
  },
  {
   "cell_type": "code",
   "execution_count": 13,
   "metadata": {},
   "outputs": [],
   "source": [
    "rho=6.7\n",
    "omega=4.20E-6\n",
    "def kAMZ4(T):\n",
    "    return h(T) * rho * omega"
   ]
  },
  {
   "cell_type": "markdown",
   "metadata": {},
   "source": [
    "Assuming that the Jominy test can be treated as the semi-infinite plate. The surface exposed to convective boundary condition exposed on one side, the analytical solution is given as:\n",
    "$$\n",
    "\\frac{T(x,t)-T_i}{T_{\\infty}-T_i}=erfc \\left(\\frac{x}{2\\sqrt{\\alpha t}}\\right) - exp\\left(\\frac{h x }{k}+\\frac{h^2 \\alpha t }{k^2}\\right)\n",
    "erfc\\left(\\frac{x}{2\\sqrt{\\alpha t}} + \\frac{h\\sqrt{\\alpha t} }{k}\\right)\n",
    "$$\n",
    "The temperature distribution of the bar at different position $x$ and time $t$ can be obtained if we know distribution of temperature $T$ at previous time step $t_{i-1}$."
   ]
  },
  {
   "cell_type": "code",
   "execution_count": 14,
   "metadata": {},
   "outputs": [],
   "source": [
    "import math\n",
    "def T(x,t,T):\n",
    "    return math.erfc(x/(2*math.sqrt(alpha*t)))-math.exp(h(T)*x/k + (h(T)**2 * alpha * t/(k**2))) * math.erfc(x/(2*math.sqrt(alpha*t))+h(T)*math.sqrt(alpha*t)/k)"
   ]
  },
  {
   "cell_type": "markdown",
   "metadata": {},
   "source": [
    "Here we calculate the temperature drop from the one dimensional solution described in previous cell, we set initial temperature of the bar to $T=1173$ K:"
   ]
  },
  {
   "cell_type": "code",
   "execution_count": 15,
   "metadata": {},
   "outputs": [],
   "source": [
    "t_initial=900.0+273; t_inf=23.0+273\n",
    "tr=t_initial\n",
    "temp=[]\n",
    "for step in range(1,200):\n",
    "    a=T(0.0,step,tr)\n",
    "    tr = a*(t_inf-t_initial)+t_initial\n",
    "    temp.append(tr)"
   ]
  },
  {
   "cell_type": "markdown",
   "metadata": {},
   "source": [
    "Plot the given temperature for position $x=0$"
   ]
  },
  {
   "cell_type": "code",
   "execution_count": 16,
   "metadata": {},
   "outputs": [
    {
     "data": {
      "image/png": "[encoded data removed]",
      "text/plain": [
       "<Figure size 432x288 with 1 Axes>"
      ]
     },
     "metadata": {
      "needs_background": "light"
     },
     "output_type": "display_data"
    }
   ],
   "source": [
    "%matplotlib inline\n",
    "import matplotlib.pyplot as plt\n",
    "plt.plot(temp)\n",
    "plt.show()\n"
   ]
  },
  {
   "cell_type": "markdown",
   "metadata": {},
   "source": [
    "# Calculation of heat transfer"
   ]
  },
  {
   "cell_type": "markdown",
   "metadata": {},
   "source": [
    "In this section we solve general 2d heat equation using fipy library."
   ]
  },
  {
   "cell_type": "code",
   "execution_count": null,
   "metadata": {},
   "outputs": [],
   "source": [
    "from fipy import *\n",
    "import numpy as np"
   ]
  },
  {
   "cell_type": "markdown",
   "metadata": {},
   "source": [
    "## Material properties"
   ]
  },
  {
   "cell_type": "markdown",
   "metadata": {},
   "source": [
    "Here we define the material properties for the AMZ4 bulk metallic glass. The data are taken from the thesis \"Modeling of Bulk Metallic glass formation in Powder Bed Fusion\" by Johan Lindwall.\n",
    "Data are saved in the text file for reading.\n",
    "Density is taken from the paper I.Jonas W.Hembree,F.Yang,R.Busch, and A.Meyer, Appl.Phys.Lett. 112, 171902 (2018)"
   ]
  },
  {
   "cell_type": "code",
   "execution_count": null,
   "metadata": {},
   "outputs": [],
   "source": [
    "def densityAMZ4(T):\n",
    "    return 6.82 - 3.48E-4 * T # density in g/cm^3\n",
    "\n",
    "def read_properties():\n",
    "    densityMA = np.loadtxt(fname='./density1080MartensiteAustenite.txt', comments='#', delimiter=',', dtype='double')\n",
    "    \n",
    "    conductivityP = np.loadtxt(fname='./conductivity1080Pearlite.txt', comments='#', delimiter=',', dtype='double')\n",
    "    conductivityM = np.loadtxt(fname='./conductivity1080Martensite.txt', comments='#', delimiter=',', dtype='double')\n",
    "    conductivityA = np.loadtxt(fname='./conductivity1080Austenite.txt', comments='#', delimiter=',', dtype='double')\n",
    "    \n",
    "    specificP = np.loadtxt(fname='./specificheat1080Pearlite.txt', comments='#', delimiter=',', dtype='double')\n",
    "    specificMA = np.loadtxt(fname='./specificheat1080MartensiteAustenite.txt', comments='#', delimiter=',', dtype='double')\n",
    "    \n",
    "    return (densityP,densityMA,conductivityP,conductivityM, conductivityA,specificP,specificMA)"
   ]
  },
  {
   "cell_type": "markdown",
   "metadata": {},
   "source": [
    "Interpolate the experimental data to get interpolating function:"
   ]
  },
  {
   "cell_type": "code",
   "execution_count": null,
   "metadata": {},
   "outputs": [],
   "source": [
    "# curve fitting\n",
    "from scipy.optimize import curve_fit, fsolve, newton\n",
    "from scipy.interpolate import RectBivariateSpline, CubicSpline\n",
    "# fit the density function to second order polynomial\n",
    "def density(x,a,b,c):\n",
    "     return a*x**2 + b*x + c\n",
    "def conductivity(x,a,b,c):\n",
    "    return a*x**2 + b*x + c\n",
    "def specific_heat(x,a,b,c):\n",
    "    return a*x**2 + b*x + c\n",
    "    \n",
    "#density polynomial\n",
    "densP = [0.]\n",
    "condM = [0.]\n",
    "specificM = [0.]\n",
    "\n",
    "densityP=read_properties()[0]\n",
    "densP,pcov = curve_fit(density,densityP[:,0],densityP[:,1])\n",
    "conductivityM = read_properties()[3]\n",
    "condM,pcov = curve_fit(conductivity,conductivityM[:,0],conductivityM[:,1])\n",
    "specificMA = read_properties()[6]\n",
    "specificM,pcov = curve_fit(specific_heat,specificMA[:,0],specificMA[:,1])\n",
    "def fP(t_):\n",
    "    return densP[0]*t_**2+ densP[1]*t_ + densP[2]\n",
    "def cM(t_):\n",
    "    return condM[0]*t_**2+ condM[1]*t_ + condM[2]\n",
    "def sM(t_):\n",
    "    return specificM[0]*t_**2+ specificM[1]*t_ + specificM[2]\n",
    "\n",
    "plt.plot(specificMA[:,0],specificMA[:,1])\n",
    "w = np.linspace(0,1200,100)\n",
    "plt.plot(w,sM(w))"
   ]
  },
  {
   "cell_type": "markdown",
   "metadata": {},
   "source": [
    "We now reading the data for cooling coeficient $h_{rc}$. This coefficient contains both contributions from the radiation and convection heat transfer. The data are taken from \"Analysis of temperature and microstructure in Quenching of steel cylinders\" by P.R. Woodward, S.R.Chandaseker and H.T.Y. Yang"
   ]
  },
  {
   "cell_type": "code",
   "execution_count": null,
   "metadata": {},
   "outputs": [],
   "source": [
    "def read_cooling_transfer():\n",
    "     return np.loadtxt(fname='./cooling1080steel.txt', comments='#', delimiter=',', dtype='double')\n",
    "def cooling(x,  x0, a,b,c,d,e,f):\n",
    "    return np.piecewise(x, [x < 82, x >= 82],\n",
    "                        [lambda x: a*x +b, lambda x: c*x**3+d*x**2+e*x + f])\n",
    "    \n",
    "hrcP=[0.]\n",
    "hrc = read_cooling_transfer()\n",
    "hrcP,pconv = curve_fit(cooling,hrc[:,0],hrc[:,1])\n",
    "def hrcf(t_):\n",
    "      return np.piecewise(t_, [t_ < 82, t_ >= 82],\n",
    "                        [lambda t_: hrcP[1]*t_ +hrcP[2], lambda t_: hrcP[3]*t_**3+hrcP[4]*t_**2+hrcP[5]*t_ + hrcP[6] ])\n",
    "        \n",
    "plt.plot(hrc[:,0],hrc[:,1])\n",
    "tw = np.linspace(0,850,125)\n",
    "plt.plot(tw,cooling(tw, *hrcP))"
   ]
  },
  {
   "cell_type": "markdown",
   "metadata": {},
   "source": [
    "In this section we are reading the data from experimental TTT diagram to evaluate the values of the material parameters $k(T_j)$ and $n(T_j)$. Using the previous equations we can calculate the value of $k(T_j)$:\n",
    "$$\n",
    "k(T_j)=-ln(1-F_s)/\\theta_j^{n(T_j)}\n",
    "$$\n",
    "and\n",
    "$$\n",
    "n(T_j)=\\frac{ln(\\frac{ln(1-F_s)}{ln(1-F_e)})}{ln(\\frac{\\theta_s}{\\theta_e})}\n",
    "$$\n",
    "where $\\theta$ repesents the equivalent transformation time. $F_s$ and $F_e$ are start fraction of the phase and end fraction of the phase, repectively (usually defined $F_s=0.005$ and $F_e=0.995$).\n",
    "\n",
    "In this code we first read the experimental data to arrays and then fit x and y data with cubic spline. This gives us information for complete temperature range. The values of $k(T_j)$ and $n(T_j)$ are then calculate using the previous equations."
   ]
  },
  {
   "cell_type": "code",
   "execution_count": null,
   "metadata": {},
   "outputs": [],
   "source": [
    "def read_ttt():\n",
    "    austenite= np.loadtxt(fname='./TTT-diagram1080Austenite.txt', comments='#', delimiter=',', dtype='double')\n",
    "    pearlite = np.loadtxt(fname='./TTT-diagram1080Pearlite.txt', comments='#', delimiter=',', dtype='double')\n",
    "    return (austenite, pearlite)\n",
    "\n",
    "\n",
    "(austenite_line, pearlite_line) = read_ttt()\n",
    "\n",
    "# interpolate using the cubic spline\n",
    "pearlitespl=CubicSpline(np.flipud(pearlite_line[:,1]),np.flipud(pearlite_line[:,0]))\n",
    "austenitespl=CubicSpline(np.flipud(austenite_line[:,1]),np.flipud(austenite_line[:,0]))\n",
    "#plt.semilogy(pearlite_line[:,1], pearlite_line[:,0])\n",
    "wt = np.linspace(200,720,125)\n",
    "figp, axp = plt.subplots()\n",
    "axp.semilogy(wt, austenitespl(wt))\n",
    "axp.semilogy(wt, pearlitespl(wt))\n",
    "axp.set_title('TTT diagram')\n",
    "axp.set_xlabel('Temperature C')\n",
    "axp.set_ylabel('Time s')\n",
    "def calcn(Fs, Fe, startspl,endspl, temperature):\n",
    "    #determine theta for different temperature\n",
    "    thetas = startspl(temperature)\n",
    "    thetae = endspl(temperature)\n",
    "    return np.log(np.log(1-Fs)/np.log(1-Fe))/np.log(thetas/thetae)\n",
    "\n",
    "n=calcn(0.005,0.995,austenitespl, pearlitespl, wt) #test calculations\n",
    "def calck(Fs,n,startspl, temperature):\n",
    "    #determine k\n",
    "    thetas = startspl(temperature)\n",
    "    return -np.log(1-Fs)/(thetas**n)\n",
    "    \n",
    "k=calck(0.005,n,austenitespl,wt) #test calculations"
   ]
  },
  {
   "cell_type": "markdown",
   "metadata": {},
   "source": [
    "Define some common mesh values for 2D heat flow. We create uniform cylinder mesh on which we solve axisymmetric case."
   ]
  },
  {
   "cell_type": "code",
   "execution_count": null,
   "metadata": {},
   "outputs": [],
   "source": [
    "steps = 100\n",
    "N = 40\n",
    "L = 2.5*N/4000\n",
    "dL = L / N\n",
    "dt = 0.1\n",
    "mesh = CylindricalGrid2D(dx = dL, dy = dL, nx = N, ny = N)"
   ]
  },
  {
   "cell_type": "markdown",
   "metadata": {},
   "source": [
    "Also adds the fraction of different phases as cell variable, so we can calculate the contributions from different phases to heat equation."
   ]
  },
  {
   "cell_type": "code",
   "execution_count": null,
   "metadata": {},
   "outputs": [],
   "source": [
    "fi = CellVariable(mesh=mesh, name='fractions', hasOld=True, value=0.0)\n",
    "fp = CellVariable(mesh=mesh, name='frac. pearlite', hasOld=True, value=0.0)\n",
    "xi = CellVariable(mesh=mesh, name='volume fract.',hasOld=True, value=0.)\n",
    "temperature = CellVariable(mesh = mesh, name='temperature',value=1173., hasOld=True)\n",
    "tincubation = CellVariable(mesh = mesh, name='incubation', value=0., hasOld=True)\n",
    "n = CellVariable(mesh = mesh, name='jmak exponent', value=0.)\n",
    "k = CellVariable(mesh = mesh, name='jmak coeff', value=0.)\n",
    "(r,z) = mesh.cellCenters()"
   ]
  },
  {
   "cell_type": "markdown",
   "metadata": {},
   "source": [
    "Initial temperature of the cylinder and surface is set to:\n",
    "$T_o= 1173K$.\n",
    "Boundary condition at $y=0$ is given by convection cooling condition:\n",
    "$$\n",
    "-k \\frac{\\partial T}{\\partial n} = h_{rc}(T) (T-T_{\\infty})\n",
    "$$\n",
    "\n",
    "The boundary condition on the $x=0$ left side of the domain is isolated:\n",
    "$$\n",
    "-k \\frac{\\partial T}{\\partial n} = 0\n",
    "$$\n",
    "The temperature on the top and right side of cylinder are set to surounding temperature:\n",
    "$T_0 = T_{\\infty}$"
   ]
  },
  {
   "cell_type": "code",
   "execution_count": null,
   "metadata": {},
   "outputs": [],
   "source": [
    "vh = np.vectorize(h)\n",
    "#temperature.faceGrad.dot([0,1]).constrain(-vh(temperature.faceValue)*1/k*(temperature.faceValue-t_inf),mesh.facesBottom)\n",
    "temperature.faceGrad.dot([0,1]).constrain(0,mesh.facesBottom)\n",
    "temperature.faceGrad.dot([1,0]).constrain(0,mesh.facesLeft)\n",
    "temperature.constrain(t_inf, mesh.facesRight)\n",
    "#temperature.constrain(1173., mesh.facesTop)\n",
    "fluxBottom = hrcf(temperature.faceValue.value)*(temperature.faceValue-t_inf) #changed the default value to exp. measured"
   ]
  },
  {
   "cell_type": "markdown",
   "metadata": {},
   "source": [
    "Calculation of the transformation time (incubation time) before start of diffusive reaction:"
   ]
  },
  {
   "cell_type": "code",
   "execution_count": null,
   "metadata": {},
   "outputs": [],
   "source": [
    "def transformation_time(fp,k,n):\n",
    "    return (np.log(1./(1.-fp)) / k)**(1./n)\n",
    "def volume_fraction(time,k,n):\n",
    "    fp.setValue(1-np.exp(-k*time**n), where= tincubation > 1.)"
   ]
  },
  {
   "cell_type": "markdown",
   "metadata": {},
   "source": [
    "For now we are assuming that complete austinite is transforming directly in martensite phase. We are using here Koistinen-Marburger law:\n",
    "$$\n",
    "F_m = (1-exp(-\\alpha(T_{ms}-T))(1-\\sum_{i=1}F_i)\n",
    "$$\n",
    "where $F_i$ represent the fraction of the different fractions of the perlite, banite and austinite phase. The sumation is not done for martensite phase. \n",
    "Alpha is constant taken from the paper "
   ]
  },
  {
   "cell_type": "code",
   "execution_count": null,
   "metadata": {},
   "outputs": [],
   "source": [
    "alpha = 1.10E-2; \n",
    "Tm= 230+273;    # martensitic start temperature for 1080 steel\n",
    "def koistinen_marburger(temperature):\n",
    "    #fi.setValue(1.0-np.exp(-alpha*(Tm-temperature)), where=Tm-temperature > 0)\n",
    "    fi.setValue( (1.0-(np.exp(-alpha*Tm)*(1+alpha*temperature+0.5*(alpha*temperature)**2+1./6*(alpha*temperature)**3)))*(1.0-fp), where=Tm-temperature > 0)"
   ]
  },
  {
   "cell_type": "markdown",
   "metadata": {},
   "source": [
    "Define the source term for the phase transformation effects. The phase transformation source contains the fraction of the austinite phase transformed in martensite and enthalpy of the formation."
   ]
  },
  {
   "cell_type": "code",
   "execution_count": null,
   "metadata": {},
   "outputs": [],
   "source": [
    "deltaHm = 640e+6  # martensite enthalpy\n",
    "deltaHp = 1.56e+9 + 1.5e+6*temperature # pearlite enthalpy\n",
    "#deltaHm=0.\n",
    "#def phaseSourceT():\n",
    "#    return deltaHm*(fi-fi.old)/dt\n",
    "def phaseSourceT():\n",
    "    return TransientTerm(var=fi,coeff=deltaHm)+TransientTerm(var=fp,coeff=deltaHp)"
   ]
  },
  {
   "cell_type": "markdown",
   "metadata": {},
   "source": [
    "Now setup the temperature equation for source term comming from the phase transformations defined the flag phaseTrans.\n",
    "Here we added also same flux from the right side of the cylinder, assuming that the cooling liquid is also hitting the right side of cylinder."
   ]
  },
  {
   "cell_type": "code",
   "execution_count": null,
   "metadata": {},
   "outputs": [],
   "source": [
    "temperatureEq = TransientTerm(coeff=rho*Cp,var=temperature)== DiffusionTerm(coeff=cM(temperature),var=temperature)+ \\\n",
    "(mesh.facesBottom*fluxBottom).divergence+phaseSourceT()"
   ]
  },
  {
   "cell_type": "code",
   "execution_count": null,
   "metadata": {},
   "outputs": [],
   "source": [
    "if __name__ == '__main__':\n",
    "    temperatureViewer = Viewer(vars=temperature,figaspect=1,datamin=0,datamax=1200)"
   ]
  },
  {
   "cell_type": "markdown",
   "metadata": {},
   "source": [
    "We step the solution in time, plotting as we go interactively"
   ]
  },
  {
   "cell_type": "code",
   "execution_count": null,
   "metadata": {},
   "outputs": [],
   "source": [
    "#import fipy.solvers.pyAMG as solvers\n",
    "import fipy.solvers.pysparse as solvers\n",
    "import numpy as np\n",
    "solver = solvers.linearGMRESSolver.LinearGMRESSolver(precon=None, iterations=1500, tolerance=1e-15) \n",
    "poisson= solvers.linearLUSolver.LinearLUSolver()\n",
    "\n",
    "steps = 3000 # number of steps to calculate\n",
    "eps =1e-5\n",
    "Tvstime = [] # temperature values during cooling\n",
    "\n",
    "for i in range(steps):\n",
    "    terr=10e+10\n",
    "    temperature.updateOld()\n",
    "    fi.updateOld()\n",
    "    fp.updateOld()\n",
    "    \n",
    "    # calculate incubation time\n",
    "    n = calcn(0.005,0.995,austenitespl, pearlitespl, temperature)\n",
    "    k = calck(0.005,n,austenitespl,temperature)\n",
    "    tt = transformation_time(fp,k,n)\n",
    "    tincubation.setValue(tincubation.value + dt/austenitespl(temperature))\n",
    "    print tincubation\n",
    "    # calculate volume fraction of the pearlite phase\n",
    "    # the reaction start when incubation time reaches 1.0\n",
    "    volume_fraction(tt+dt,k,n) \n",
    "        \n",
    "    # update martensite fraction using koistinen-marburger eq.\n",
    "    koistinen_marburger(temperature) \n",
    "    # update complete volume fraction\n",
    "    xi = fp + fi\n",
    "    print max(xi)\n",
    "    while(terr > eps):\n",
    "        print \"Residual %f\" % terr\n",
    "        terr = temperatureEq.sweep(temperature, dt=dt,solver=poisson)\n",
    "    \n",
    "    #print min(phaseSourceT())\n",
    "    if __name__ == '__main__':\n",
    "        path = \"../../TEST/temperature/\"\n",
    "        temperatureViewer.plot(path+\"temperatureOH\"+str(i)+\".eps\")  \n",
    "        np.savetxt(path+\"temperatureOH\"+str(i),temperature)\n",
    "        np.savetxt(path+\"martensiteOH\"+str(i),fi)\n",
    "        np.savetxt(path+\"pearliteOH\"+str(i),fp)\n",
    "        Tvstime.append(temperature.value[0])\n",
    "        print \"step: \", i, \"Min. temperature\",min(temperature), \"Max. temperature\", max(temperature)\n",
    "        "
   ]
  },
  {
   "cell_type": "markdown",
   "metadata": {},
   "source": [
    "# Visualize the results"
   ]
  },
  {
   "cell_type": "code",
   "execution_count": null,
   "metadata": {},
   "outputs": [],
   "source": [
    "fig1, (axp2, axc2)= plt.subplots(2, 1, sharex=False, sharey=False, figsize=(14,10))\n",
    "\n",
    "viewer1 = MultiViewer(viewers = (Matplotlib2DGridViewer(vars=fi, title='$martensite$', axes=axp2, \\\n",
    "                                                       datamin=0., datamax=1.), \\\n",
    "                                Matplotlib2DGridViewer(vars=fp,  title='$pearlite$'   , axes=axc2, \\\n",
    "                                                       datamin=0., datamax=1.)))\n"
   ]
  },
  {
   "cell_type": "code",
   "execution_count": null,
   "metadata": {},
   "outputs": [],
   "source": [
    "plt.plot(tempload.reshape(N,N)[:,20])"
   ]
  },
  {
   "cell_type": "code",
   "execution_count": null,
   "metadata": {},
   "outputs": [],
   "source": [
    "%matplotlib inline\n",
    "temperatureViewer.plot(path + \"temperature100.png\")"
   ]
  },
  {
   "cell_type": "markdown",
   "metadata": {},
   "source": [
    "Plotting the value of the temperature in the middle of the cylinder at the convection surface."
   ]
  },
  {
   "cell_type": "code",
   "execution_count": null,
   "metadata": {},
   "outputs": [],
   "source": [
    "t=[]\n",
    "t1=[]\n",
    "for i in range(1,540,5):\n",
    "    load = np.loadtxt(path+\"temperatureOH\"+str(i))\n",
    "    t.append(load.reshape(N,N)[5,1])\n",
    "    t1.append(load.reshape(N,N)[20,20])\n",
    "fig, ax = plt.subplots()\n",
    "ax.plot(t)\n",
    "ax.plot(t1)\n",
    "ax.set(title='Temperature',ylabel='Temperature K',xlabel='timesteps')"
   ]
  },
  {
   "cell_type": "markdown",
   "metadata": {},
   "source": [
    "Plot of the temperature at central point of the cylinder. The temperature rises on the point and then drops again due to enthalphy of austinite to martensite phase transformation. Is this numerical instability??"
   ]
  },
  {
   "cell_type": "code",
   "execution_count": null,
   "metadata": {},
   "outputs": [],
   "source": [
    "plta = plt.plot(Tvstime)"
   ]
  },
  {
   "cell_type": "markdown",
   "metadata": {},
   "source": [
    "### Martensite and pearlite amounts"
   ]
  },
  {
   "cell_type": "code",
   "execution_count": null,
   "metadata": {},
   "outputs": [],
   "source": [
    "fig2, (axp22, axc22)= plt.subplots(2, 1, sharex=False, sharey=False, figsize=(14,10))\n",
    "\n",
    "axp22.plot(fi.value.reshape(N,N)[2,:], 'r')\n",
    "axp22.plot(fp.value.reshape(N,N)[2,:], 'b')\n",
    "axp22.set_xlabel('Radius')\n",
    "axp22.set_ylabel('Amount of phase %')\n",
    "axp22.set_title('Amount of pearlite (blue) and martensite (red) phases')\n",
    "\n",
    "axc22.plot(fi.value.reshape(N,N)[:,20], 'r')\n",
    "axc22.plot(fp.value.reshape(N,N)[:,20], 'b')\n",
    "axc22.set_xlabel('Height')\n",
    "axc22.set_ylabel('Amount of phase %')\n",
    "axc22.set_title('Amount of pearlite (blue) and martensite (red) phases')"
   ]
  },
  {
   "cell_type": "code",
   "execution_count": null,
   "metadata": {},
   "outputs": [],
   "source": []
  }
 ],
 "metadata": {
  "kernelspec": {
   "display_name": "Python 2",
   "language": "python",
   "name": "python2"
  },
  "language_info": {
   "codemirror_mode": {
    "name": "ipython",
    "version": 2
   },
   "file_extension": ".py",
   "mimetype": "text/x-python",
   "name": "python",
   "nbconvert_exporter": "python",
   "pygments_lexer": "ipython2",
   "version": "2.7.16"
  }
 },
 "nbformat": 4,
 "nbformat_minor": 2
}
