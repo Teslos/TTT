{
 "cells": [
  {
   "cell_type": "markdown",
   "metadata": {},
   "source": [
    "In this simulation we are calculating TTT and CCT diagrams for following the cooling behaviour of the PM Steels.\n",
    "The current notebook follows presentation given by A.Malakizadi:\n",
    "\n",
    "Diploma work No. 42/2010\n",
    "at Department of Materials and Manufacturing Technology\n",
    "CHALMERS UNIVERSITY OF TECHNOLOGY\n",
    "Gotheburg Sweden\n",
    "\n",
    "Note this is applied to BMG material AMZ4.\n"
   ]
  },
  {
   "cell_type": "markdown",
   "metadata": {},
   "source": [
    "# Constitutive equation and finite element formulation"
   ]
  },
  {
   "cell_type": "markdown",
   "metadata": {},
   "source": [
    "Heat equation is given here in the general form to model also the phase transformations during the phase transformations of the alloy:"
   ]
  },
  {
   "cell_type": "markdown",
   "metadata": {},
   "source": [
    "Conservation of the energy is given by the equation:\n",
    "$$\n",
    "\\rho \\frac{\\partial E}{\\partial t} - \\nabla(k\\nabla T)= 0\n",
    "$$\n",
    "where the E is specific internal energy. $ \\rho, k$ and $T,t$ are density, thermal conductivity, temperature and time.\n",
    "Specific internal energy can also be represented using:\n",
    "$$\n",
    "E(t,x)= e(T,X_i)\n",
    "$$\n",
    "where $ X_i $ for $i={1,2,3,4}$ are volume fraction for example of the perlite, bainite, ferrite and martensite phase.\n",
    "Differenting the $e(T,X_i)$ with the respect to internal variables:\n",
    "$$\n",
    "\\frac{\\partial e}{\\partial T} = c_p \\\\\n",
    "\\frac{\\partial e}{\\partial X_i}=-q_i\n",
    "$$\n",
    "Thus the general equation is given by:"
   ]
  },
  {
   "cell_type": "markdown",
   "metadata": {},
   "source": [
    "$$\n",
    "\\rho(T)c_p(T)\\frac{\\partial T}{\\partial t}=\\frac{\\partial }{\\partial x}(k(T)\\frac{\\partial T}{\\partial x}) +\n",
    "\\frac{\\partial }{\\partial y}(k(T)\\frac{\\partial T}{\\partial y})+\\frac{\\partial }{\\partial z}(k(T)\\frac{\\partial T}{\\partial z})\n",
    "+\\sum{\\rho_i(T)q_i(T) \\frac{\\partial X_i}{\\partial t}}\n",
    "$$"
   ]
  },
  {
   "cell_type": "markdown",
   "metadata": {},
   "source": [
    "It is important to set also the correct boundary conditions and initial boundary conditions  for the cooling:"
   ]
  },
  {
   "cell_type": "markdown",
   "metadata": {},
   "source": [
    "Cooling condition for radiation and air convection:\n",
    "$$\n",
    "-k\\frac{\\partial T}{\\partial n} = h_c(T) (T-T_{\\infty})+\\sigma\\epsilon(T)(T^{4}-T^{4}_\\infty)\n",
    "$$\n",
    "If we are cooling by water or quenching:\n",
    "$$\n",
    "-k\\frac{\\partial T}{\\partial n} = h_q(T) (T-T_{\\infty})\n",
    "$$\n",
    "And the start temperature of the sample is given:\n",
    "$$\n",
    "T_0 = T(x,y,0)\n",
    "$$\n",
    "here the $h_c(T)$ is the convective heat transfer coefficient, $\\sigma$ is the Stefan-Boltzmann constant, and $\\epsilon $ is radiation emissivity of the surface and $T_\\infty$ is the sorounding temperature.\n",
    "It is possible to reduce the surface radiation to:\n",
    "$$\n",
    "\\sigma \\epsilon(T) (T^4-T^4_\\infty)= \\sigma \\epsilon(T)(T^2+T^2_\\infty)(T+T_\\infty)(T-T_\\infty)=h_r(T)(T-T_\\infty)\n",
    "$$\n",
    "So combined radiation and convection boundary condition can be expressed by:\n",
    "$$\n",
    "-k\\frac{\\partial T}{\\partial n}=h_r(T)(T-T_\\infty)+h_c(T) (T-T_{\\infty})=h_{rc}(T)(T-T_{\\infty})\n",
    "$$\n",
    "where $h_{rc}$ is combined heat transfer.  "
   ]
  },
  {
   "cell_type": "markdown",
   "metadata": {},
   "source": [
    "$$\n",
    "\\rho(T)c_p(T) \\frac{\\partial T}{\\partial t} =k(T)\\left( \\frac{1}{r}  \\frac{\\partial }{\\partial r}(r\\frac{\\partial T}{\\partial r})+ \\frac{\\partial^2 T}{\\partial z^2}\\right)+\\sum{\\rho_i(T)q_i(T)\\frac{\\partial X_i}{\\partial t}}\n",
    "$$"
   ]
  },
  {
   "cell_type": "markdown",
   "metadata": {},
   "source": [
    "## Incoperation of the phase transformation terms"
   ]
  },
  {
   "cell_type": "markdown",
   "metadata": {},
   "source": [
    "Phase transformation in weak formulation for the phase transformation.\n",
    "$$\n",
    "R = \\int_{\\Gamma}{w rh_{rc} T_\\infty}+\\int_{\\omega} w\\sum{\\rho_i q_i \\frac{\\partial X_i}{\\partial t} rdrdz}\n",
    "$$\n",
    "At constant pressure is the latent heat of transformations are equal to entalphy changes $\\rho q_i = \\Delta H_i$\n",
    "\n",
    "$$\n",
    "R=\\int_{\\Gamma}{w rh_{rc} T_\\infty}+\\int_{\\omega} w\\sum{\\Delta H_i \\frac{\\partial X_i}{\\partial t} rdrdz}\n",
    "$$\n",
    "Time derivative can be approximated:\n",
    "$$\n",
    "\\frac{\\partial X_i}{\\partial t} = \\frac{\\Delta X_i}{\\Delta t}=\\frac{X_i^{j+1}-X_i^{j}}{\\Delta t}\n",
    "$$\n",
    "where $X^{j+1}_i$ is the volume fraction of the phase $i$ at time $j+1$. The thermal properties of the mixture are calculated\n",
    "using the mixture rule:\n",
    "$$\n",
    "\\rho c_p = \\sum{X_i\\rho_i c_{p_i}} \\\\\n",
    "k = \\sum{X_i k_i}\n",
    "$$\n",
    "Both models JMAK and AR model can be used to calculate the amount of the diffusive transformation. We focus now on the JMAK model.\n"
   ]
  },
  {
   "cell_type": "markdown",
   "metadata": {},
   "source": [
    "# Scheil principle\n"
   ]
  },
  {
   "cell_type": "markdown",
   "metadata": {},
   "source": [
    "The kinetics of the transformation during cooling (anisothermal condition) according to Scheil principle can the approximated by means of infinitesimal time increments $\\Delta t$ and ficitious time $t^{*}$ need to gain same fraction of phase $i$ at the current temperature $T_j$"
   ]
  },
  {
   "cell_type": "markdown",
   "metadata": {},
   "source": [
    "$$\n",
    "t_j = \\Delta t + t_j^{*}\n",
    "$$\n",
    "where we can calculate $t^{*}$ from JMAK model as:\n",
    "$$\n",
    "t_j^{*} = \\left [ \\frac{ln(\\frac{1}{1-X_{i,j-1}})}{k(T_j)}\\right]^{1/n(T_j)}\n",
    "$$\n",
    "In the case of the remaining austenite phase we should correct $X_{i,j-1}$ with:\n",
    "$$\n",
    "F_{i,j-1}=\\frac{X_{i,j-1}}{X_{i,j-1}+X_{\\gamma,j-1}}\n",
    "$$\n",
    "then previous equation is written as:\n",
    "$$\n",
    "t_j^{*} = \\left [ \\frac{ln(\\frac{1}{1-F_{i,j-1}})}{k(T_j)}\\right]^{1/n(T_j)}\n",
    "$$\n",
    "This equation is valid for the experimentaly measured TTT diagram in the case of the BMG \n",
    "we use the Kissinger analysis to calculate the JMAK parameters:\n",
    "$$\n",
    "t_j^{*} = \\left [ \\frac{ln(\\frac{1}{1-F_{i,j-1}})}{k_0 \\exp(\\frac{-E}{kT_j})}\\right]^{1/n(T_j)}\n",
    "$$\n",
    "where now $$ k(T_j) = k_0 \\exp(\\frac{-E}{kT_j})$$\n",
    "So we can calculate then the fictious volume fraction of phase $i$ at time $j$:\n",
    "$$\n",
    "F_{i,j}^{*}=1-exp\\left(-k(T_j)t_j^{n(T_j)} \\right)\n",
    "$$\n",
    "The incubation time of the diffusive transformation are calculated using equation:\n",
    "$$\n",
    "Q = \\int_{0}^{t} \\frac{d\\epsilon}{\\tau_s(T(\\epsilon))}= \\sum\\frac{\\Delta t}{\\tau_s(T_j)}\n",
    "$$\n"
   ]
  },
  {
   "cell_type": "markdown",
   "metadata": {},
   "source": [
    "## Test case"
   ]
  },
  {
   "cell_type": "markdown",
   "metadata": {},
   "source": [
    "For this test case we are using the data available from the thesis \"Modeling of Bulk Metallic Glass formation\n",
    "in Powder Bed Fusion\" by John Lindwall from http://www.ltu.se ISBN 978-91-7790-306-2\n",
    "\n",
    "Specific heat is modelled as function it is taken from the thesis and it is based on the data measured in the\n",
    "paper Heinrich et al."
   ]
  },
  {
   "cell_type": "code",
   "execution_count": 1,
   "metadata": {},
   "outputs": [],
   "source": [
    "def h(T):\n",
    "    a = 5.225E-4\n",
    "    b = 1.031E+7\n",
    "    R = 8.134\n",
    "    c = 0.00623\n",
    "    d = -6.047E-7\n",
    "    if (T <= (470+273)):\n",
    "        return 3*R + c * T + d * T**(-2)\n",
    "    elif ( (470+273) < T < (1200+273) ):\n",
    "        return 3*R + a * T + b * T**(-2)\n",
    "    return 0\n"
   ]
  },
  {
   "cell_type": "markdown",
   "metadata": {},
   "source": [
    "Plot the cp (specific heat) of the alloy to see if the function correspond to experimental data"
   ]
  },
  {
   "cell_type": "code",
   "execution_count": 2,
   "metadata": {},
   "outputs": [
    {
     "data": {
      "image/png": "[encoded data removed]",
      "text/plain": [
       "<Figure size 432x288 with 1 Axes>"
      ]
     },
     "metadata": {
      "needs_background": "light"
     },
     "output_type": "display_data"
    }
   ],
   "source": [
    "%matplotlib inline\n",
    "import matplotlib.pyplot as plt\n",
    "temp = []\n",
    "cp = []\n",
    "rhoAMZ4 = 76.595E-3\n",
    "\n",
    "for step in range(1,1200):\n",
    "    val = h(step+273)/rhoAMZ4\n",
    "    cp.append(val)\n",
    "    temp.append(step+273)\n",
    "plt.plot(temp,cp)\n",
    "plt.show()"
   ]
  },
  {
   "cell_type": "code",
   "execution_count": 3,
   "metadata": {},
   "outputs": [
    {
     "data": {
      "text/plain": [
       "0.2487338849102798"
      ]
     },
     "execution_count": 3,
     "metadata": {},
     "output_type": "execute_result"
    }
   ],
   "source": [
    "cp[470+273]-cp[471+273]"
   ]
  },
  {
   "cell_type": "code",
   "execution_count": 4,
   "metadata": {},
   "outputs": [],
   "source": [
    "rho=6.7\n",
    "omega=4.20E-6\n",
    "def kAMZ4(T):\n",
    "    return h(T) * rho * omega"
   ]
  },
  {
   "cell_type": "code",
   "execution_count": 5,
   "metadata": {},
   "outputs": [
    {
     "data": {
      "image/png": "[encoded data removed]",
      "text/plain": [
       "<Figure size 432x288 with 1 Axes>"
      ]
     },
     "metadata": {
      "needs_background": "light"
     },
     "output_type": "display_data"
    }
   ],
   "source": [
    "kam = []\n",
    "temp = []\n",
    "for step in range(1,1200):\n",
    "    val = kAMZ4(step)/rhoAMZ4\n",
    "    kam.append(val)\n",
    "    temp.append(step+273)\n",
    "plt.plot(temp,kam)\n",
    "plt.show()"
   ]
  },
  {
   "cell_type": "markdown",
   "metadata": {},
   "source": [
    "## Note this is the test case for the PM steels \n",
    "Assuming that the Jominy test can be treated as the semi-infinite plate. The surface exposed to convective boundary condition exposed on one side, the analytical solution is given as:\n",
    "$$\n",
    "\\frac{T(x,t)-T_i}{T_{\\infty}-T_i}=erfc \\left(\\frac{x}{2\\sqrt{\\alpha t}}\\right) - exp\\left(\\frac{h x }{k}+\\frac{h^2 \\alpha t }{k^2}\\right)\n",
    "erfc\\left(\\frac{x}{2\\sqrt{\\alpha t}} + \\frac{h\\sqrt{\\alpha t} }{k}\\right)\n",
    "$$\n",
    "The temperature distribution of the bar at different position $x$ and time $t$ can be obtained if we know distribution of temperature $T$ at previous time step $t_{i-1}$."
   ]
  },
  {
   "cell_type": "code",
   "execution_count": 6,
   "metadata": {},
   "outputs": [],
   "source": [
    "rho=6200; Cp=500.0; k=20.0; alpha=k/(Cp*rho)\n",
    "import math\n",
    "def T(x,t,T):\n",
    "    return math.erfc(x/(2*math.sqrt(alpha*t)))-math.exp(h(T)*x/k + (h(T)**2 * alpha * t/(k**2))) * math.erfc(x/(2*math.sqrt(alpha*t))+h(T)*math.sqrt(alpha*t)/k)"
   ]
  },
  {
   "cell_type": "markdown",
   "metadata": {},
   "source": [
    "Here we calculate the temperature drop from the one dimensional solution described in previous cell, we set initial temperature of the bar to $T=1173$ K:"
   ]
  },
  {
   "cell_type": "code",
   "execution_count": 7,
   "metadata": {},
   "outputs": [],
   "source": [
    "t_initial=900.0+273; t_inf=23.0+273\n",
    "tr=t_initial\n",
    "temp=[]\n",
    "for step in range(1,200):\n",
    "    a=T(0.0,step,tr)\n",
    "    tr = a*(t_inf-t_initial)+t_initial\n",
    "    temp.append(tr)"
   ]
  },
  {
   "cell_type": "markdown",
   "metadata": {},
   "source": [
    "Plot the given temperature for position $x=0$"
   ]
  },
  {
   "cell_type": "code",
   "execution_count": 8,
   "metadata": {},
   "outputs": [
    {
     "data": {
      "image/png": "[encoded data removed]",
      "text/plain": [
       "<Figure size 432x288 with 1 Axes>"
      ]
     },
     "metadata": {
      "needs_background": "light"
     },
     "output_type": "display_data"
    }
   ],
   "source": [
    "%matplotlib inline\n",
    "import matplotlib.pyplot as plt\n",
    "plt.plot(temp)\n",
    "plt.show()\n"
   ]
  },
  {
   "cell_type": "markdown",
   "metadata": {},
   "source": [
    "# Calculation of heat transfer"
   ]
  },
  {
   "cell_type": "markdown",
   "metadata": {},
   "source": [
    "In this section we solve general 2d heat equation using fipy library."
   ]
  },
  {
   "cell_type": "code",
   "execution_count": 9,
   "metadata": {},
   "outputs": [],
   "source": [
    "from fipy import *\n",
    "import numpy as np"
   ]
  },
  {
   "cell_type": "markdown",
   "metadata": {},
   "source": [
    "## Material properties"
   ]
  },
  {
   "cell_type": "markdown",
   "metadata": {},
   "source": [
    "Here we define the material properties for the AMZ4 bulk metallic glass. The data are taken from the thesis \"Modeling of Bulk Metallic glass formation in Powder Bed Fusion\" by Johan Lindwall.\n",
    "Data are saved in the text file for reading.\n",
    "Density is taken from the paper I.Jonas W.Hembree,F.Yang,R.Busch, and A.Meyer, Appl.Phys.Lett. 112, 171902 (2018)"
   ]
  },
  {
   "cell_type": "code",
   "execution_count": 10,
   "metadata": {},
   "outputs": [],
   "source": [
    "def densityAMZ4(T):\n",
    "    return 6.82 - 3.48E-4 * T # density in g/cm^3"
   ]
  },
  {
   "cell_type": "markdown",
   "metadata": {},
   "source": [
    "Interpolate the experimental data to get interpolating function:"
   ]
  },
  {
   "cell_type": "markdown",
   "metadata": {},
   "source": [
    "We now reading the data for cooling coeficient $h_{rc}$. This coefficient contains both contributions from the radiation and convection heat transfer. The data are taken from \"Analysis of temperature and microstructure in Quenching of steel cylinders\" by P.R. Woodward, S.R.Chandaseker and H.T.Y. Yang\n",
    "\n",
    "_For now this the cooling of the quenching steel_\n"
   ]
  },
  {
   "cell_type": "markdown",
   "metadata": {},
   "source": [
    "In this section we are reading the data from the Kissinger analysis to evaluate the values of the material parameters $k(T_j)$ and $n(T_j)$. Using the previous equations we can calculate the value of $k(T_j)$:\n",
    "$$\n",
    "k(T_j)=k_0 \\exp(-E/kT_j)\n",
    "$$\n",
    "and\n",
    "$$\n",
    "n(T_j)= const\n",
    "$$"
   ]
  },
  {
   "cell_type": "code",
   "execution_count": 11,
   "metadata": {},
   "outputs": [
    {
     "data": {
      "text/plain": [
       "0.00026079750161274424"
      ]
     },
     "execution_count": 11,
     "metadata": {},
     "output_type": "execute_result"
    }
   ],
   "source": [
    "k0 = 9.49E+7\n",
    "E = 88.8E+3\n",
    "Rt = 8.314 # universal gas constant\n",
    "def calcn(temperature):\n",
    "    #for now the n is temperature independent    \n",
    "    return 1.49\n",
    "          \n",
    "def calck(Fs,temperature):\n",
    "    #determine k\n",
    "    return -np.log(1-Fs)/(k0*np.exp(-E/(Rt*temperature)))\n",
    "    \n",
    "k=calck(0.005,693) #test calculations\n",
    "k"
   ]
  },
  {
   "cell_type": "markdown",
   "metadata": {},
   "source": [
    "Define some common mesh values for 2D heat flow. We create uniform cylinder mesh on which we solve axisymmetric case."
   ]
  },
  {
   "cell_type": "code",
   "execution_count": 12,
   "metadata": {},
   "outputs": [],
   "source": [
    "steps = 100\n",
    "N = 40\n",
    "L = 0.25*N/4000  # this is now in meters and it is about 2.5 mm\n",
    "dL = L / N\n",
    "dt = 1e-1\n",
    "mesh = CylindricalGrid2D(dx = dL, dy = dL, nx = N, ny = N)"
   ]
  },
  {
   "cell_type": "markdown",
   "metadata": {},
   "source": [
    "Also adds the fraction of different phases as cell variable, so we can calculate the contributions from different phases to heat equation."
   ]
  },
  {
   "cell_type": "code",
   "execution_count": 13,
   "metadata": {},
   "outputs": [],
   "source": [
    "fi = CellVariable(mesh=mesh, name='frac. amorphous', hasOld=True, value=0.0)\n",
    "fc = CellVariable(mesh=mesh, name='frac. crystalline', hasOld=True, value=0.0)\n",
    "xi = CellVariable(mesh=mesh, name='volume fract.',hasOld=True, value=0.)\n",
    "temperature = CellVariable(mesh = mesh, name='temperature',value=293., hasOld=True)\n",
    "tincubation = CellVariable(mesh = mesh, name='incubation', value=0., hasOld=True)\n",
    "laserSource = CellVariable(mesh = mesh, name='source', value=0.)\n",
    "n = CellVariable(mesh = mesh, name='jmak exponent', value=0.)\n",
    "k = CellVariable(mesh = mesh, name='jmak coeff', value=0.)\n",
    "(r,z) = mesh.cellCenters()"
   ]
  },
  {
   "cell_type": "markdown",
   "metadata": {},
   "source": [
    "Initial temperature of the cylinder and surface is set to:\n",
    "$T_o= 293$.\n",
    "Boundary condition at $y=0$ is given by surface heating condition:\n",
    "$$\n",
    "-k \\frac{\\partial T}{\\partial n} = q\n",
    "$$\n",
    "where q is given as the flux of the laser on the surface:\n",
    "$$\n",
    "q = Q exp((-2*(x-x_0)^2+(y-y_0)^2)/r_o^2)\n",
    "$$\n",
    "The boundary condition on the $x=0$ left side of the domain is isolated:\n",
    "$$\n",
    "-k \\frac{\\partial T}{\\partial n} = 0\n",
    "$$\n",
    "The temperature on the top and right side of cylinder are set to surounding temperature:\n",
    "$T_0 = T_{\\infty}$"
   ]
  },
  {
   "cell_type": "markdown",
   "metadata": {},
   "source": [
    "## Implementation of the body source\n",
    "For the source we implement the body source according to Goldak source:\n",
    "$$\n",
    "q = Q exp (-3 * (2(r-r_0)^2/\\omega_0^2+(z-z_0)^2/c^2))\n",
    "$$\n",
    "where\n",
    "$$\n",
    "Q = \\frac{6\\sqrt{3}P\\eta f}{\\omega^2_0 c \\pi\\sqrt{\\pi}}\n",
    "$$\n",
    "this is currently implemented as the source heat in this script"
   ]
  },
  {
   "cell_type": "code",
   "execution_count": 14,
   "metadata": {},
   "outputs": [],
   "source": [
    "from fipy.tools.numerix import sqrt, exp, pi\n",
    "# function parameters:\n",
    "# r-radius coordinate\n",
    "# z-depth coordinate\n",
    "# r0,z0 - laser coordinates\n",
    "# omega0 - spot size of the laser\n",
    "# c - depth of the laser pool\n",
    "# power - laser power\n",
    "def qlaser(r,z,r0,z0,omega0,c,power):\n",
    "    Q = 6*sqrt(3)*power/(pi*sqrt(pi)*c*omega0**2)\n",
    "    return Q * exp(-3 * (2*((r-r0)/omega0)**2+((z-z0)/c)**2) )   "
   ]
  },
  {
   "cell_type": "code",
   "execution_count": 15,
   "metadata": {},
   "outputs": [
    {
     "data": {
      "text/plain": [
       "array([1866268.34925476, 1866259.60114237, 1866242.10504062, ...,\n",
       "       1549346.28363577, 1549070.33090677, 1548787.16737061])"
      ]
     },
     "execution_count": 15,
     "metadata": {},
     "output_type": "execute_result"
    }
   ],
   "source": [
    "qlaser(r,z,0,0,0.1,0.01,100)"
   ]
  },
  {
   "cell_type": "code",
   "execution_count": null,
   "metadata": {},
   "outputs": [],
   "source": []
  },
  {
   "cell_type": "code",
   "execution_count": 16,
   "metadata": {},
   "outputs": [],
   "source": [
    "t_inf = 293\n",
    "#vh = np.vectorize(h)\n",
    "#temperature.faceGrad.dot([0,1]).constrain(-vh(temperature.faceValue)*1/k*(temperature.faceValue-t_inf),mesh.facesBottom)\n",
    "temperature.faceGrad.dot([0,1]).constrain(0,mesh.facesBottom)\n",
    "temperature.faceGrad.dot([1,0]).constrain(0,mesh.facesLeft)\n",
    "temperature.constrain(293, mesh.facesRight)\n",
    "#temperature.constrain(1173., mesh.facesTop)"
   ]
  },
  {
   "cell_type": "markdown",
   "metadata": {},
   "source": [
    "Calculation of the transformation time (incubation time) before start of diffusive reaction:"
   ]
  },
  {
   "cell_type": "code",
   "execution_count": 17,
   "metadata": {},
   "outputs": [],
   "source": [
    "def transformation_time(fc,k,n):\n",
    "    return (np.log(1./(1.-fc)) / k)**(1./n)\n",
    "def volume_fraction(time,k,n):\n",
    "    fc.setValue(1-np.exp(-k*time**n), where= tincubation > 1.)"
   ]
  },
  {
   "cell_type": "code",
   "execution_count": 18,
   "metadata": {},
   "outputs": [
    {
     "data": {
      "text/plain": [
       "0.0"
      ]
     },
     "execution_count": 18,
     "metadata": {},
     "output_type": "execute_result"
    }
   ],
   "source": [
    "transformation_time(0.0,1e-8,1.5)"
   ]
  },
  {
   "cell_type": "markdown",
   "metadata": {},
   "source": [
    "Define the source term for the phase transformation effects. The phase transformation source contains the fraction of the amorphous phase transformed in crystalline and enthalpy of the formation.\n",
    "Singh and Dubey expressed the difference of specific heat between the undercooled liquid and the crystalline state:\n",
    "$$\n",
    "\\Delta C_p = C_{p,m}(\\frac{T_m}{T})^2\\exp(-\\sigma_D\\frac{\\Delta T}{T})\n",
    "$$\n",
    "where:\n",
    "$$\n",
    "\\sigma_D = \\frac{T_g}{T_m-T_g}\\ln((\\frac{T_m}{T_g})^2 \\frac{\\Delta C_{p,m}}{\\Delta C_{p,g}})\n",
    "$$\n"
   ]
  },
  {
   "cell_type": "code",
   "execution_count": 19,
   "metadata": {},
   "outputs": [],
   "source": [
    "Tg=470+273\n",
    "Tm=920+273\n",
    "deltaCpm = 20.18 # specific heat difference at melting J/g\n",
    "deltaCpg = 13.3 # specific heat diff. at glass transition J/g\n",
    "sigmaD = Tg/(Tm-Tg) * np.log((Tm/Tg)**2 * deltaCpm/deltaCpg)\n",
    "def deltaCp(T,deltaT):\n",
    "    return deltaCpm*(Tm/T)**2 * np.exp(-sigmaD * deltaT/T)\n",
    "def phaseSourceT(temp):\n",
    "    return TransientTerm(var=fi,coeff=deltaCp(temp,Tm-temp))+TransientTerm(var=fc,coeff=deltaCp(temp,Tm-temp))"
   ]
  },
  {
   "cell_type": "markdown",
   "metadata": {},
   "source": [
    "Now setup the temperature equation for source term comming from the phase transformations defined the flag phaseTrans.\n",
    "Here we added also same flux from the right side of the cylinder, assuming that the cooling liquid is also hitting the right side of cylinder."
   ]
  },
  {
   "cell_type": "code",
   "execution_count": 20,
   "metadata": {},
   "outputs": [],
   "source": [
    "rho = 6820 # for now the density is constant in temperature equation kg/m**3\n",
    "Cp = 500 # for now this is the constant value only for testing\n",
    "kv = np.vectorize(kAMZ4)\n",
    "\n",
    "def kM(T):\n",
    "    a = 5.225E-4\n",
    "    b = 1.031E+7\n",
    "    R = 8.134\n",
    "    c = 0.00623\n",
    "    d = -6.047E-7\n",
    "    return 3*R + c * T + d * T**(-2)\n",
    "\n",
    "laserSource.setValue(qlaser(r,z,0,0,0.001,0.0005,100))\n",
    "temperatureEq = TransientTerm(coeff=rho*Cp,var=temperature) == DiffusionTerm(coeff=20,var=temperature) + \\\n",
    "laserSource  "
   ]
  },
  {
   "cell_type": "code",
   "execution_count": 21,
   "metadata": {},
   "outputs": [
    {
     "data": {
      "text/plain": [
       "(1600,)"
      ]
     },
     "execution_count": 21,
     "metadata": {},
     "output_type": "execute_result"
    }
   ],
   "source": [
    "temperature.shape"
   ]
  },
  {
   "cell_type": "code",
   "execution_count": 22,
   "metadata": {},
   "outputs": [
    {
     "data": {
      "image/png": "[encoded data removed]",
      "text/plain": [
       "<Figure size 288x288 with 2 Axes>"
      ]
     },
     "metadata": {
      "needs_background": "light"
     },
     "output_type": "display_data"
    }
   ],
   "source": [
    "if __name__ == '__main__':\n",
    "    temperatureViewer = Viewer(vars=temperature,figaspect=1,datamin=0,datamax=1200)"
   ]
  },
  {
   "cell_type": "markdown",
   "metadata": {},
   "source": [
    "We step the solution in time, plotting as we go interactively"
   ]
  },
  {
   "cell_type": "code",
   "execution_count": 23,
   "metadata": {},
   "outputs": [
    {
     "name": "stdout",
     "output_type": "stream",
     "text": [
      "n = 1.49 and k = [358264.07589218 358264.07589218 358264.07589218 ... 358264.07589218\n",
      " 358264.07589218 358264.07589218]\n",
      "crystalline fraction: [0. 0. 0. ... 0. 0. 0.]\n",
      "[0. 0. 0. ... 0. 0. 0.]\n",
      "[0.01 0.01 0.01 ... 0.01 0.01 0.01]\n",
      "0.0\n",
      "Residual 100000000000.000000\n",
      "Residual 1.024444\n",
      "step:  0 Min. temperature 293.1317430258184 Max. temperature 1109.0060276607135\n",
      "n = 1.49 and k = [8.04376508e-07 9.49947800e-07 1.32707572e-06 ... 3.29309799e+05\n",
      " 3.40813912e+05 3.52442365e+05]\n",
      "crystalline fraction: [0. 0. 0. ... 0. 0. 0.]\n",
      "[0. 0. 0. ... 0. 0. 0.]\n",
      "[0.02 0.02 0.02 ... 0.02 0.02 0.02]\n",
      "0.0\n",
      "Residual 100000000000.000000\n",
      "Residual 0.264026\n",
      "step:  1 Min. temperature 293.361932656779 Max. temperature 1262.0129714594668\n",
      "n = 1.49 and k = [2.50236774e-07 2.87172948e-07 3.78571964e-07 ... 2.84540271e+05\n",
      " 3.12453070e+05 3.42508537e+05]\n",
      "crystalline fraction: [0. 0. 0. ... 0. 0. 0.]\n",
      "[0. 0. 0. ... 0. 0. 0.]\n",
      "[0.03 0.03 0.03 ... 0.03 0.03 0.03]\n",
      "0.0\n",
      "Residual 100000000000.000000\n",
      "Residual 0.148850\n",
      "step:  2 Min. temperature 293.604703937514 Max. temperature 1316.7894437667524\n",
      "n = 1.49 and k = [1.75975967e-07 1.99958069e-07 2.58328430e-07 ... 2.44239768e+05\n",
      " 2.85229815e+05 3.32351099e+05]\n",
      "crystalline fraction: [0. 0. 0. ... 0. 0. 0.]\n",
      "[0. 0. 0. ... 0. 0. 0.]\n",
      "[0.04 0.04 0.04 ... 0.04 0.04 0.04]\n",
      "0.0\n",
      "Residual 100000000000.000000\n",
      "Residual 0.093979\n",
      "step:  3 Min. temperature 293.80958268601296 Max. temperature 1343.5384594111977\n",
      "n = 1.49 and k = [1.49733631e-07 1.69347656e-07 2.16711256e-07 ... 2.14931432e+05\n",
      " 2.64206570e+05 3.24026348e+05]\n",
      "crystalline fraction: [0. 0. 0. ... 0. 0. 0.]\n",
      "[0. 0. 0. ... 0. 0. 0.]\n",
      "[0.05 0.05 0.05 ... 0.05 0.05 0.05]\n",
      "0.0\n",
      "Residual 100000000000.000000\n",
      "Residual 0.060410\n",
      "step:  4 Min. temperature 293.96370402104947 Max. temperature 1358.5185767293676\n",
      "n = 1.49 and k = [1.37166802e-07 1.54741665e-07 1.96998510e-07 ... 1.95346580e+05\n",
      " 2.49473583e+05 3.17909126e+05]\n",
      "crystalline fraction: [0. 0. 0. ... 0. 0. 0.]\n",
      "[0. 0. 0. ... 0. 0. 0.]\n",
      "[0.06 0.06 0.06 ... 0.06 0.06 0.06]\n",
      "0.0\n",
      "Residual 100000000000.000000\n",
      "Residual 0.039031\n",
      "step:  5 Min. temperature 294.0725807792618 Max. temperature 1367.4718930990284\n",
      "n = 1.49 and k = [1.30284686e-07 1.46759601e-07 1.86271660e-07 ... 1.82653959e+05\n",
      " 2.39590280e+05 3.13661218e+05]\n",
      "crystalline fraction: [0. 0. 0. ... 0. 0. 0.]\n",
      "[0. 0. 0. ... 0. 0. 0.]\n",
      "[0.07 0.07 0.07 ... 0.07 0.07 0.07]\n",
      "0.0\n",
      "Residual 100000000000.000000\n",
      "Residual 0.025269\n",
      "step:  6 Min. temperature 294.1468194374248 Max. temperature 1373.0074691784407\n",
      "n = 1.49 and k = [1.26245928e-07 1.42081353e-07 1.80001119e-07 ... 1.74501203e+05\n",
      " 2.33088935e+05 3.10799109e+05]\n",
      "crystalline fraction: [0. 0. 0. ... 0. 0. 0.]\n",
      "[0. 0. 0. ... 0. 0. 0.]\n",
      "[0.08 0.08 0.08 ... 0.08 0.08 0.08]\n",
      "0.0\n",
      "Residual 100000000000.000000\n",
      "Residual 0.016372\n",
      "step:  7 Min. temperature 294.1964185954183 Max. temperature 1376.495299623847\n",
      "n = 1.49 and k = [1.23781848e-07 1.39229406e-07 1.76184728e-07 ... 1.69269224e+05\n",
      " 2.28849349e+05 3.08902286e+05]\n",
      "crystalline fraction: [0. 0. 0. ... 0. 0. 0.]\n",
      "[0. 0. 0. ... 0. 0. 0.]\n",
      "[0.09 0.09 0.09 ... 0.09 0.09 0.09]\n",
      "0.0\n",
      "Residual 100000000000.000000\n",
      "Residual 0.010611\n",
      "step:  8 Min. temperature 294.2291626516465 Max. temperature 1378.7173408483022\n",
      "n = 1.49 and k = [1.22243518e-07 1.37449839e-07 1.73805831e-07 ... 1.65906220e+05\n",
      " 2.26095160e+05 3.07656750e+05]\n",
      "crystalline fraction: [0. 0. 0. ... 0. 0. 0.]\n",
      "[0. 0. 0. ... 0. 0. 0.]\n",
      "[0.1 0.1 0.1 ... 0.1 0.1 0.1]\n",
      "0.0\n",
      "Residual 100000000000.000000\n",
      "Residual 0.006878\n",
      "step:  9 Min. temperature 294.250626349578 Max. temperature 1380.1424221259497\n",
      "n = 1.49 and k = [1.21269576e-07 1.36323531e-07 1.72301199e-07 ... 1.63740125e+05\n",
      " 2.24308796e+05 3.06843178e+05]\n",
      "crystalline fraction: [0. 0. 0. ... 0. 0. 0.]\n",
      "[0. 0. 0. ... 0. 0. 0.]\n",
      "[0.11 0.11 0.11 ... 0.11 0.11 0.11]\n",
      "0.0\n",
      "Residual 100000000000.000000\n",
      "Residual 0.004459\n",
      "step:  10 Min. temperature 294.2646356411858 Max. temperature 1381.0601110300274\n",
      "n = 1.49 and k = [1.20647565e-07 1.35604364e-07 1.71340873e-07 ... 1.62342448e+05\n",
      " 2.23150882e+05 3.06313386e+05]\n",
      "crystalline fraction: [0. 0. 0. ... 0. 0. 0.]\n",
      "[0. 0. 0. ... 0. 0. 0.]\n",
      "[0.12 0.12 0.12 ... 0.12 0.12 0.12]\n",
      "0.0\n",
      "Residual 100000000000.000000\n",
      "Residual 0.002890\n",
      "step:  11 Min. temperature 294.2737556365649 Max. temperature 1381.6525493858037\n",
      "n = 1.49 and k = [1.20248142e-07 1.35142613e-07 1.70724453e-07 ... 1.61439342e+05\n",
      " 2.22400476e+05 3.05969013e+05]\n",
      "crystalline fraction: [0. 0. 0. ... 0. 0. 0.]\n",
      "[0. 0. 0. ... 0. 0. 0.]\n",
      "[0.13 0.13 0.13 ... 0.13 0.13 0.13]\n",
      "0.0\n",
      "Residual 100000000000.000000\n",
      "Residual 0.001874\n",
      "step:  12 Min. temperature 294.2796832166391 Max. temperature 1382.0356109123043\n",
      "n = 1.49 and k = [1.19990767e-07 1.34845103e-07 1.70327358e-07 ... 1.60855210e+05\n",
      " 2.21914176e+05 3.05745405e+05]\n",
      "crystalline fraction: [0. 0. 0. ... 0. 0. 0.]\n",
      "[0. 0. 0. ... 0. 0. 0.]\n",
      "[0.14 0.14 0.14 ... 0.14 0.14 0.14]\n",
      "0.0\n",
      "Residual 100000000000.000000\n",
      "Residual 0.001215\n",
      "step:  13 Min. temperature 294.2835320647679 Max. temperature 1382.283533303637\n",
      "n = 1.49 and k = [1.19824560e-07 1.34652988e-07 1.70070967e-07 ... 1.60477123e+05\n",
      " 2.21599017e+05 3.05600306e+05]\n",
      "crystalline fraction: [0. 0. 0. ... 0. 0. 0.]\n",
      "[0. 0. 0. ... 0. 0. 0.]\n",
      "[0.15 0.15 0.15 ... 0.15 0.15 0.15]\n",
      "0.0\n",
      "Residual 100000000000.000000\n",
      "Residual 0.000787\n",
      "step:  14 Min. temperature 294.28602963616595 Max. temperature 1382.4440891042793\n",
      "n = 1.49 and k = [1.19717078e-07 1.34528757e-07 1.69905183e-07 ... 1.60232278e+05\n",
      " 2.21394758e+05 3.05506188e+05]\n",
      "crystalline fraction: [0. 0. 0. ... 0. 0. 0.]\n",
      "[0. 0. 0. ... 0. 0. 0.]\n",
      "[0.16 0.16 0.16 ... 0.16 0.16 0.16]\n",
      "0.0\n",
      "Residual 100000000000.000000\n",
      "Residual 0.000510\n",
      "step:  15 Min. temperature 294.28764972781283 Max. temperature 1382.548105166326\n",
      "n = 1.49 and k = [1.19647511e-07 1.34448350e-07 1.69797888e-07 ... 1.60073667e+05\n",
      " 2.21262369e+05 3.05445153e+05]\n",
      "crystalline fraction: [0. 0. 0. ... 0. 0. 0.]\n",
      "[0. 0. 0. ... 0. 0. 0.]\n",
      "[0.17 0.17 0.17 ... 0.17 0.17 0.17]\n",
      "0.0\n",
      "Residual 100000000000.000000\n",
      "Residual 0.000331\n",
      "step:  16 Min. temperature 294.2887003781686 Max. temperature 1382.6155078708439\n",
      "n = 1.49 and k = [1.19602458e-07 1.34396279e-07 1.69728406e-07 ... 1.59970894e+05\n",
      " 2.21176557e+05 3.05405578e+05]\n",
      "crystalline fraction: [0. 0. 0. ... 0. 0. 0.]\n",
      "[0. 0. 0. ... 0. 0. 0.]\n",
      "[0.18 0.18 0.18 ... 0.18 0.18 0.18]\n",
      "0.0\n",
      "Residual 100000000000.000000\n",
      "Residual 0.000215\n",
      "step:  17 Min. temperature 294.2893816377038 Max. temperature 1382.659191455479\n",
      "n = 1.49 and k = [1.19573271e-07 1.34362545e-07 1.69683393e-07 ... 1.59904292e+05\n",
      " 2.21120934e+05 3.05379920e+05]\n",
      "crystalline fraction: [0. 0. 0. ... 0. 0. 0.]\n",
      "[0. 0. 0. ... 0. 0. 0.]\n",
      "[0.19 0.19 0.19 ... 0.19 0.19 0.19]\n",
      "0.0\n",
      "Residual 100000000000.000000\n",
      "Residual 0.000139\n",
      "step:  18 Min. temperature 294.2898233371805 Max. temperature 1382.6875053245474\n",
      "n = 1.49 and k = [1.19554358e-07 1.34340686e-07 1.69654226e-07 ... 1.59861125e+05\n",
      " 2.21084878e+05 3.05363286e+05]\n",
      "crystalline fraction: [0. 0. 0. ... 0. 0. 0.]\n",
      "[0. 0. 0. ... 0. 0. 0.]\n",
      "[0.2 0.2 0.2 ... 0.2 0.2 0.2]\n",
      "0.0\n",
      "Residual 100000000000.000000\n",
      "Residual 0.000090\n",
      "step:  19 Min. temperature 294.29010969967993 Max. temperature 1382.7058582443183\n",
      "n = 1.49 and k = [1.19542100e-07 1.34326519e-07 1.69635323e-07 ... 1.59833146e+05\n",
      " 2.21061506e+05 3.05352502e+05]\n",
      "crystalline fraction: [0. 0. 0. ... 0. 0. 0.]\n",
      "[0. 0. 0. ... 0. 0. 0.]\n",
      "[0.21 0.21 0.21 ... 0.21 0.21 0.21]\n",
      "0.0\n",
      "Residual 100000000000.000000\n",
      "Residual 0.000058\n",
      "step:  20 Min. temperature 294.2902953474642 Max. temperature 1382.7177549504122\n",
      "n = 1.49 and k = [1.19534156e-07 1.34317337e-07 1.69623071e-07 ... 1.59815010e+05\n",
      " 2.21046355e+05 3.05345511e+05]\n",
      "crystalline fraction: [0. 0. 0. ... 0. 0. 0.]\n",
      "[0. 0. 0. ... 0. 0. 0.]\n",
      "[0.22 0.22 0.22 ... 0.22 0.22 0.22]\n",
      "0.0\n",
      "Residual 100000000000.000000\n",
      "Residual 0.000038\n",
      "step:  21 Min. temperature 294.2904156995523 Max. temperature 1382.7254667912875\n",
      "n = 1.49 and k = [1.19529006e-07 1.34311385e-07 1.69615130e-07 ... 1.59803254e+05\n",
      " 2.21036534e+05 3.05340979e+05]\n",
      "crystalline fraction: [0. 0. 0. ... 0. 0. 0.]\n",
      "[0. 0. 0. ... 0. 0. 0.]\n",
      "[0.23 0.23 0.23 ... 0.23 0.23 0.23]\n",
      "0.0\n",
      "Residual 100000000000.000000\n",
      "Residual 0.000025\n",
      "step:  22 Min. temperature 294.29049372052987 Max. temperature 1382.73046593345\n",
      "n = 1.49 and k = [1.19525668e-07 1.34307527e-07 1.69609982e-07 ... 1.59795633e+05\n",
      " 2.21030167e+05 3.05338041e+05]\n",
      "crystalline fraction: [0. 0. 0. ... 0. 0. 0.]\n",
      "[0. 0. 0. ... 0. 0. 0.]\n",
      "[0.24 0.24 0.24 ... 0.24 0.24 0.24]\n",
      "0.0\n",
      "Residual 100000000000.000000\n",
      "Residual 0.000016\n",
      "step:  23 Min. temperature 294.29054429895837 Max. temperature 1382.7337066177602\n",
      "n = 1.49 and k = [1.19523504e-07 1.34305026e-07 1.69606645e-07 ... 1.59790693e+05\n",
      " 2.21026040e+05 3.05336136e+05]\n",
      "crystalline fraction: [0. 0. 0. ... 0. 0. 0.]\n",
      "[0. 0. 0. ... 0. 0. 0.]\n",
      "[0.25 0.25 0.25 ... 0.25 0.25 0.25]\n",
      "0.0\n",
      "Residual 100000000000.000000\n",
      "Residual 0.000010\n",
      "step:  24 Min. temperature 294.2905770871069 Max. temperature 1382.7358073966675\n",
      "n = 1.49 and k = [1.19522102e-07 1.34303405e-07 1.69604482e-07 ... 1.59787491e+05\n",
      " 2.21023365e+05 3.05334901e+05]\n",
      "crystalline fraction: [0. 0. 0. ... 0. 0. 0.]\n",
      "[0. 0. 0. ... 0. 0. 0.]\n",
      "[0.26 0.26 0.26 ... 0.26 0.26 0.26]\n",
      "0.0\n",
      "Residual 100000000000.000000\n",
      "step:  25 Min. temperature 294.29059834239354 Max. temperature 1382.737169234702\n",
      "n = 1.49 and k = [1.19521192e-07 1.34302354e-07 1.69603080e-07 ... 1.59785415e+05\n",
      " 2.21021630e+05 3.05334101e+05]\n",
      "crystalline fraction: [0. 0. 0. ... 0. 0. 0.]\n",
      "[0. 0. 0. ... 0. 0. 0.]\n",
      "[0.27 0.27 0.27 ... 0.27 0.27 0.27]\n",
      "0.0\n",
      "Residual 100000000000.000000\n",
      "step:  26 Min. temperature 294.290612121343 Max. temperature 1382.738052053352\n",
      "n = 1.49 and k = [1.19520603e-07 1.34301673e-07 1.69602171e-07 ... 1.59784069e+05\n",
      " 2.21020506e+05 3.05333582e+05]\n",
      "crystalline fraction: [0. 0. 0. ... 0. 0. 0.]\n",
      "[0. 0. 0. ... 0. 0. 0.]\n",
      "[0.28 0.28 0.28 ... 0.28 0.28 0.28]\n",
      "0.0\n",
      "Residual 100000000000.000000\n",
      "step:  27 Min. temperature 294.29062105367115 Max. temperature 1382.7386243459418\n",
      "n = 1.49 and k = [1.19520221e-07 1.34301231e-07 1.69601582e-07 ... 1.59783197e+05\n",
      " 2.21019777e+05 3.05333246e+05]\n",
      "crystalline fraction: [0. 0. 0. ... 0. 0. 0.]\n",
      "[0. 0. 0. ... 0. 0. 0.]\n",
      "[0.29 0.29 0.29 ... 0.29 0.29 0.29]\n",
      "0.0\n",
      "Residual 100000000000.000000\n",
      "step:  28 Min. temperature 294.2906268441285 Max. temperature 1382.7389953384234\n",
      "n = 1.49 and k = [1.19519973e-07 1.34300945e-07 1.69601200e-07 ... 1.59782631e+05\n",
      " 2.21019305e+05 3.05333028e+05]\n",
      "crystalline fraction: [0. 0. 0. ... 0. 0. 0.]\n",
      "[0. 0. 0. ... 0. 0. 0.]\n",
      "[0.3 0.3 0.3 ... 0.3 0.3 0.3]\n",
      "0.0\n",
      "Residual 100000000000.000000\n",
      "step:  29 Min. temperature 294.29063059783954 Max. temperature 1382.7392358368947\n",
      "n = 1.49 and k = [1.19519813e-07 1.34300760e-07 1.69600952e-07 ... 1.59782265e+05\n",
      " 2.21018998e+05 3.05332886e+05]\n",
      "crystalline fraction: [0. 0. 0. ... 0. 0. 0.]\n",
      "[0. 0. 0. ... 0. 0. 0.]\n",
      "[0.31 0.31 0.31 ... 0.31 0.31 0.31]\n",
      "0.0\n",
      "Residual 100000000000.000000\n",
      "step:  30 Min. temperature 294.2906330312125 Max. temperature 1382.7393917417637\n",
      "n = 1.49 and k = [1.19519708e-07 1.34300639e-07 1.69600792e-07 ... 1.59782027e+05\n",
      " 2.21018800e+05 3.05332795e+05]\n",
      "crystalline fraction: [0. 0. 0. ... 0. 0. 0.]\n",
      "[0. 0. 0. ... 0. 0. 0.]\n",
      "[0.32 0.32 0.32 ... 0.32 0.32 0.32]\n",
      "0.0\n",
      "Residual 100000000000.000000\n",
      "step:  31 Min. temperature 294.2906346086653 Max. temperature 1382.7394928082394\n",
      "n = 1.49 and k = [1.19519641e-07 1.34300561e-07 1.69600688e-07 ... 1.59781873e+05\n",
      " 2.21018671e+05 3.05332735e+05]\n",
      "crystalline fraction: [0. 0. 0. ... 0. 0. 0.]\n",
      "[0. 0. 0. ... 0. 0. 0.]\n",
      "[0.33 0.33 0.33 ... 0.33 0.33 0.33]\n",
      "0.0\n",
      "Residual 100000000000.000000\n",
      "step:  32 Min. temperature 294.29063563126135 Max. temperature 1382.739558325334\n",
      "n = 1.49 and k = [1.19519597e-07 1.34300511e-07 1.69600620e-07 ... 1.59781773e+05\n",
      " 2.21018588e+05 3.05332697e+05]\n",
      "crystalline fraction: [0. 0. 0. ... 0. 0. 0.]\n",
      "[0. 0. 0. ... 0. 0. 0.]\n",
      "[0.34 0.34 0.34 ... 0.34 0.34 0.34]\n",
      "0.0\n",
      "Residual 100000000000.000000\n",
      "step:  33 Min. temperature 294.29063629416703 Max. temperature 1382.7396007972777\n",
      "n = 1.49 and k = [1.19519569e-07 1.34300478e-07 1.69600577e-07 ... 1.59781708e+05\n",
      " 2.21018533e+05 3.05332672e+05]\n",
      "crystalline fraction: [0. 0. 0. ... 0. 0. 0.]\n",
      "[0. 0. 0. ... 0. 0. 0.]\n",
      "[0.35 0.35 0.35 ... 0.35 0.35 0.35]\n",
      "0.0\n",
      "Residual 100000000000.000000\n",
      "step:  34 Min. temperature 294.29063672390066 Max. temperature 1382.739628330034\n",
      "n = 1.49 and k = [1.19519551e-07 1.34300457e-07 1.69600548e-07 ... 1.59781666e+05\n",
      " 2.21018498e+05 3.05332656e+05]\n",
      "crystalline fraction: [0. 0. 0. ... 0. 0. 0.]\n",
      "[0. 0. 0. ... 0. 0. 0.]\n",
      "[0.36 0.36 0.36 ... 0.36 0.36 0.36]\n",
      "0.0\n",
      "Residual 100000000000.000000\n",
      "step:  35 Min. temperature 294.2906370024788 Max. temperature 1382.739646178352\n",
      "n = 1.49 and k = [1.19519539e-07 1.34300443e-07 1.69600530e-07 ... 1.59781639e+05\n",
      " 2.21018476e+05 3.05332645e+05]\n",
      "crystalline fraction: [0. 0. 0. ... 0. 0. 0.]\n",
      "[0. 0. 0. ... 0. 0. 0.]\n",
      "[0.37 0.37 0.37 ... 0.37 0.37 0.37]\n",
      "0.0\n",
      "Residual 100000000000.000000\n",
      "step:  36 Min. temperature 294.2906371830692 Max. temperature 1382.7396577486581\n",
      "n = 1.49 and k = [1.19519531e-07 1.34300434e-07 1.69600518e-07 ... 1.59781622e+05\n",
      " 2.21018461e+05 3.05332639e+05]\n",
      "crystalline fraction: [0. 0. 0. ... 0. 0. 0.]\n",
      "[0. 0. 0. ... 0. 0. 0.]\n",
      "[0.38 0.38 0.38 ... 0.38 0.38 0.38]\n",
      "0.0\n",
      "Residual 100000000000.000000\n",
      "step:  37 Min. temperature 294.29063730013826 Max. temperature 1382.7396652491966\n",
      "n = 1.49 and k = [1.19519526e-07 1.34300428e-07 1.69600510e-07 ... 1.59781610e+05\n",
      " 2.21018451e+05 3.05332634e+05]\n",
      "crystalline fraction: [0. 0. 0. ... 0. 0. 0.]\n",
      "[0. 0. 0. ... 0. 0. 0.]\n",
      "[0.39 0.39 0.39 ... 0.39 0.39 0.39]\n",
      "0.0\n",
      "Residual 100000000000.000000\n",
      "step:  38 Min. temperature 294.2906373760291 Max. temperature 1382.7396701114767\n",
      "n = 1.49 and k = [1.19519523e-07 1.34300424e-07 1.69600505e-07 ... 1.59781603e+05\n",
      " 2.21018445e+05 3.05332631e+05]\n",
      "crystalline fraction: [0. 0. 0. ... 0. 0. 0.]\n",
      "[0. 0. 0. ... 0. 0. 0.]\n",
      "[0.4 0.4 0.4 ... 0.4 0.4 0.4]\n",
      "0.0\n",
      "Residual 100000000000.000000\n",
      "step:  39 Min. temperature 294.29063742522595 Max. temperature 1382.7396732634882\n",
      "n = 1.49 and k = [1.19519521e-07 1.34300422e-07 1.69600502e-07 ... 1.59781598e+05\n",
      " 2.21018441e+05 3.05332629e+05]\n",
      "crystalline fraction: [0. 0. 0. ... 0. 0. 0.]\n",
      "[0. 0. 0. ... 0. 0. 0.]\n",
      "[0.41 0.41 0.41 ... 0.41 0.41 0.41]\n",
      "0.0\n",
      "Residual 100000000000.000000\n",
      "step:  40 Min. temperature 294.2906374571182 Max. temperature 1382.7396753068026\n",
      "n = 1.49 and k = [1.19519519e-07 1.34300420e-07 1.69600500e-07 ... 1.59781595e+05\n",
      " 2.21018439e+05 3.05332628e+05]\n",
      "crystalline fraction: [0. 0. 0. ... 0. 0. 0.]\n",
      "[0. 0. 0. ... 0. 0. 0.]\n",
      "[0.42 0.42 0.42 ... 0.42 0.42 0.42]\n",
      "0.0\n",
      "Residual 100000000000.000000\n",
      "step:  41 Min. temperature 294.2906374777926 Max. temperature 1382.7396766313966\n",
      "n = 1.49 and k = [1.19519518e-07 1.34300419e-07 1.69600498e-07 ... 1.59781593e+05\n",
      " 2.21018437e+05 3.05332627e+05]\n",
      "crystalline fraction: [0. 0. 0. ... 0. 0. 0.]\n",
      "[0. 0. 0. ... 0. 0. 0.]\n",
      "[0.43 0.43 0.43 ... 0.43 0.43 0.43]\n",
      "0.0\n",
      "Residual 100000000000.000000\n",
      "step:  42 Min. temperature 294.29063749119496 Max. temperature 1382.7396774900744\n",
      "n = 1.49 and k = [1.19519518e-07 1.34300419e-07 1.69600498e-07 ... 1.59781591e+05\n",
      " 2.21018436e+05 3.05332627e+05]\n",
      "crystalline fraction: [0. 0. 0. ... 0. 0. 0.]\n",
      "[0. 0. 0. ... 0. 0. 0.]\n",
      "[0.44 0.44 0.44 ... 0.44 0.44 0.44]\n",
      "0.0\n",
      "Residual 100000000000.000000\n",
      "step:  43 Min. temperature 294.290637499883 Max. temperature 1382.7396780467186\n",
      "n = 1.49 and k = [1.19519517e-07 1.34300418e-07 1.69600497e-07 ... 1.59781591e+05\n",
      " 2.21018435e+05 3.05332627e+05]\n",
      "crystalline fraction: [0. 0. 0. ... 0. 0. 0.]\n",
      "[0. 0. 0. ... 0. 0. 0.]\n",
      "[0.45 0.45 0.45 ... 0.45 0.45 0.45]\n",
      "0.0\n",
      "Residual 100000000000.000000\n",
      "step:  44 Min. temperature 294.29063750551524 Max. temperature 1382.7396784075688\n",
      "n = 1.49 and k = [1.19519517e-07 1.34300418e-07 1.69600497e-07 ... 1.59781590e+05\n",
      " 2.21018435e+05 3.05332626e+05]\n",
      "crystalline fraction: [0. 0. 0. ... 0. 0. 0.]\n",
      "[0. 0. 0. ... 0. 0. 0.]\n",
      "[0.46 0.46 0.46 ... 0.46 0.46 0.46]\n",
      "0.0\n",
      "Residual 100000000000.000000\n",
      "step:  45 Min. temperature 294.29063750916634 Max. temperature 1382.7396786414906\n",
      "n = 1.49 and k = [1.19519517e-07 1.34300418e-07 1.69600496e-07 ... 1.59781590e+05\n",
      " 2.21018434e+05 3.05332626e+05]\n",
      "crystalline fraction: [0. 0. 0. ... 0. 0. 0.]\n",
      "[0. 0. 0. ... 0. 0. 0.]\n",
      "[0.47 0.47 0.47 ... 0.47 0.47 0.47]\n",
      "0.0\n",
      "Residual 100000000000.000000\n",
      "step:  46 Min. temperature 294.2906375115332 Max. temperature 1382.739678793135\n",
      "n = 1.49 and k = [1.19519517e-07 1.34300418e-07 1.69600496e-07 ... 1.59781589e+05\n",
      " 2.21018434e+05 3.05332626e+05]\n",
      "crystalline fraction: [0. 0. 0. ... 0. 0. 0.]\n",
      "[0. 0. 0. ... 0. 0. 0.]\n",
      "[0.48 0.48 0.48 ... 0.48 0.48 0.48]\n",
      "0.0\n",
      "Residual 100000000000.000000\n",
      "step:  47 Min. temperature 294.2906375130675 Max. temperature 1382.7396788914377\n",
      "n = 1.49 and k = [1.19519517e-07 1.34300418e-07 1.69600496e-07 ... 1.59781589e+05\n",
      " 2.21018434e+05 3.05332626e+05]\n",
      "crystalline fraction: [0. 0. 0. ... 0. 0. 0.]\n",
      "[0. 0. 0. ... 0. 0. 0.]\n",
      "[0.49 0.49 0.49 ... 0.49 0.49 0.49]\n",
      "0.0\n",
      "Residual 100000000000.000000\n",
      "step:  48 Min. temperature 294.29063751406215 Max. temperature 1382.7396789551622\n",
      "n = 1.49 and k = [1.19519517e-07 1.34300418e-07 1.69600496e-07 ... 1.59781589e+05\n",
      " 2.21018434e+05 3.05332626e+05]\n",
      "crystalline fraction: [0. 0. 0. ... 0. 0. 0.]\n",
      "[0. 0. 0. ... 0. 0. 0.]\n",
      "[0.5 0.5 0.5 ... 0.5 0.5 0.5]\n",
      "0.0\n",
      "Residual 100000000000.000000\n",
      "step:  49 Min. temperature 294.290637514707 Max. temperature 1382.7396789964716\n",
      "n = 1.49 and k = [1.19519517e-07 1.34300418e-07 1.69600496e-07 ... 1.59781589e+05\n",
      " 2.21018434e+05 3.05332626e+05]\n",
      "crystalline fraction: [0. 0. 0. ... 0. 0. 0.]\n",
      "[0. 0. 0. ... 0. 0. 0.]\n",
      "[0.51 0.51 0.51 ... 0.51 0.51 0.51]\n",
      "0.0\n",
      "Residual 100000000000.000000\n",
      "step:  50 Min. temperature 294.2906375151249 Max. temperature 1382.7396790232535\n",
      "n = 1.49 and k = [1.19519517e-07 1.34300418e-07 1.69600496e-07 ... 1.59781589e+05\n",
      " 2.21018434e+05 3.05332626e+05]\n",
      "crystalline fraction: [0. 0. 0. ... 0. 0. 0.]\n",
      "[0. 0. 0. ... 0. 0. 0.]\n",
      "[0.52 0.52 0.52 ... 0.52 0.52 0.52]\n",
      "0.0\n",
      "Residual 100000000000.000000\n",
      "step:  51 Min. temperature 294.2906375153959 Max. temperature 1382.7396790406156\n",
      "n = 1.49 and k = [1.19519517e-07 1.34300418e-07 1.69600496e-07 ... 1.59781589e+05\n",
      " 2.21018434e+05 3.05332626e+05]\n",
      "crystalline fraction: [0. 0. 0. ... 0. 0. 0.]\n",
      "[0. 0. 0. ... 0. 0. 0.]\n",
      "[0.53 0.53 0.53 ... 0.53 0.53 0.53]\n",
      "0.0\n",
      "Residual 100000000000.000000\n",
      "step:  52 Min. temperature 294.2906375155715 Max. temperature 1382.739679051868\n",
      "n = 1.49 and k = [1.19519517e-07 1.34300418e-07 1.69600496e-07 ... 1.59781589e+05\n",
      " 2.21018434e+05 3.05332626e+05]\n",
      "crystalline fraction: [0. 0. 0. ... 0. 0. 0.]\n",
      "[0. 0. 0. ... 0. 0. 0.]\n",
      "[0.54 0.54 0.54 ... 0.54 0.54 0.54]\n",
      "0.0\n",
      "Residual 100000000000.000000\n",
      "step:  53 Min. temperature 294.29063751568543 Max. temperature 1382.739679059164\n",
      "n = 1.49 and k = [1.19519517e-07 1.34300418e-07 1.69600496e-07 ... 1.59781589e+05\n",
      " 2.21018434e+05 3.05332626e+05]\n",
      "crystalline fraction: [0. 0. 0. ... 0. 0. 0.]\n",
      "[0. 0. 0. ... 0. 0. 0.]\n",
      "[0.55 0.55 0.55 ... 0.55 0.55 0.55]\n",
      "0.0\n",
      "Residual 100000000000.000000\n",
      "step:  54 Min. temperature 294.2906375157592 Max. temperature 1382.7396790638936\n",
      "n = 1.49 and k = [1.19519517e-07 1.34300418e-07 1.69600496e-07 ... 1.59781589e+05\n",
      " 2.21018434e+05 3.05332626e+05]\n",
      "crystalline fraction: [0. 0. 0. ... 0. 0. 0.]\n",
      "[0. 0. 0. ... 0. 0. 0.]\n",
      "[0.56 0.56 0.56 ... 0.56 0.56 0.56]\n",
      "0.0\n",
      "Residual 100000000000.000000\n",
      "step:  55 Min. temperature 294.2906375158071 Max. temperature 1382.7396790669602\n",
      "n = 1.49 and k = [1.19519517e-07 1.34300418e-07 1.69600496e-07 ... 1.59781589e+05\n",
      " 2.21018434e+05 3.05332626e+05]\n",
      "crystalline fraction: [0. 0. 0. ... 0. 0. 0.]\n",
      "[0. 0. 0. ... 0. 0. 0.]\n",
      "[0.57 0.57 0.57 ... 0.57 0.57 0.57]\n",
      "0.0\n",
      "Residual 100000000000.000000\n",
      "step:  56 Min. temperature 294.2906375158381 Max. temperature 1382.739679068947\n",
      "n = 1.49 and k = [1.19519517e-07 1.34300418e-07 1.69600496e-07 ... 1.59781589e+05\n",
      " 2.21018434e+05 3.05332626e+05]\n",
      "crystalline fraction: [0. 0. 0. ... 0. 0. 0.]\n",
      "[0. 0. 0. ... 0. 0. 0.]\n",
      "[0.58 0.58 0.58 ... 0.58 0.58 0.58]\n",
      "0.0\n",
      "Residual 100000000000.000000\n",
      "step:  57 Min. temperature 294.2906375158582 Max. temperature 1382.7396790702344\n",
      "n = 1.49 and k = [1.19519517e-07 1.34300418e-07 1.69600496e-07 ... 1.59781589e+05\n",
      " 2.21018434e+05 3.05332626e+05]\n",
      "crystalline fraction: [0. 0. 0. ... 0. 0. 0.]\n",
      "[0. 0. 0. ... 0. 0. 0.]\n",
      "[0.59 0.59 0.59 ... 0.59 0.59 0.59]\n",
      "0.0\n",
      "Residual 100000000000.000000\n",
      "step:  58 Min. temperature 294.29063751587125 Max. temperature 1382.7396790710698\n",
      "n = 1.49 and k = [1.19519517e-07 1.34300418e-07 1.69600496e-07 ... 1.59781589e+05\n",
      " 2.21018434e+05 3.05332626e+05]\n",
      "crystalline fraction: [0. 0. 0. ... 0. 0. 0.]\n",
      "[0. 0. 0. ... 0. 0. 0.]\n",
      "[0.6 0.6 0.6 ... 0.6 0.6 0.6]\n",
      "0.0\n",
      "Residual 100000000000.000000\n",
      "step:  59 Min. temperature 294.29063751587967 Max. temperature 1382.7396790716118\n",
      "n = 1.49 and k = [1.19519517e-07 1.34300418e-07 1.69600496e-07 ... 1.59781589e+05\n",
      " 2.21018434e+05 3.05332626e+05]\n",
      "crystalline fraction: [0. 0. 0. ... 0. 0. 0.]\n",
      "[0. 0. 0. ... 0. 0. 0.]\n",
      "[0.61 0.61 0.61 ... 0.61 0.61 0.61]\n",
      "0.0\n",
      "Residual 100000000000.000000\n",
      "step:  60 Min. temperature 294.2906375158852 Max. temperature 1382.7396790719633\n",
      "n = 1.49 and k = [1.19519517e-07 1.34300418e-07 1.69600496e-07 ... 1.59781589e+05\n",
      " 2.21018434e+05 3.05332626e+05]\n",
      "crystalline fraction: [0. 0. 0. ... 0. 0. 0.]\n",
      "[0. 0. 0. ... 0. 0. 0.]\n",
      "[0.62 0.62 0.62 ... 0.62 0.62 0.62]\n",
      "0.0\n",
      "Residual 100000000000.000000\n",
      "step:  61 Min. temperature 294.29063751588876 Max. temperature 1382.7396790721905\n",
      "n = 1.49 and k = [1.19519517e-07 1.34300418e-07 1.69600496e-07 ... 1.59781589e+05\n",
      " 2.21018434e+05 3.05332626e+05]\n",
      "crystalline fraction: [0. 0. 0. ... 0. 0. 0.]\n",
      "[0. 0. 0. ... 0. 0. 0.]\n",
      "[0.63 0.63 0.63 ... 0.63 0.63 0.63]\n",
      "0.0\n",
      "Residual 100000000000.000000\n",
      "step:  62 Min. temperature 294.290637515891 Max. temperature 1382.7396790723399\n",
      "n = 1.49 and k = [1.19519517e-07 1.34300418e-07 1.69600496e-07 ... 1.59781589e+05\n",
      " 2.21018434e+05 3.05332626e+05]\n",
      "crystalline fraction: [0. 0. 0. ... 0. 0. 0.]\n",
      "[0. 0. 0. ... 0. 0. 0.]\n",
      "[0.64 0.64 0.64 ... 0.64 0.64 0.64]\n",
      "0.0\n",
      "Residual 100000000000.000000\n",
      "step:  63 Min. temperature 294.2906375158925 Max. temperature 1382.7396790724345\n",
      "n = 1.49 and k = [1.19519517e-07 1.34300418e-07 1.69600496e-07 ... 1.59781589e+05\n",
      " 2.21018434e+05 3.05332626e+05]\n",
      "crystalline fraction: [0. 0. 0. ... 0. 0. 0.]\n",
      "[0. 0. 0. ... 0. 0. 0.]\n",
      "[0.65 0.65 0.65 ... 0.65 0.65 0.65]\n",
      "0.0\n",
      "Residual 100000000000.000000\n",
      "step:  64 Min. temperature 294.2906375158935 Max. temperature 1382.7396790724945\n",
      "n = 1.49 and k = [1.19519517e-07 1.34300418e-07 1.69600496e-07 ... 1.59781589e+05\n",
      " 2.21018434e+05 3.05332626e+05]\n",
      "crystalline fraction: [0. 0. 0. ... 0. 0. 0.]\n",
      "[0. 0. 0. ... 0. 0. 0.]\n",
      "[0.66 0.66 0.66 ... 0.66 0.66 0.66]\n",
      "0.0\n",
      "Residual 100000000000.000000\n",
      "step:  65 Min. temperature 294.2906375158941 Max. temperature 1382.7396790725352\n",
      "n = 1.49 and k = [1.19519517e-07 1.34300418e-07 1.69600496e-07 ... 1.59781589e+05\n",
      " 2.21018434e+05 3.05332626e+05]\n",
      "crystalline fraction: [0. 0. 0. ... 0. 0. 0.]\n",
      "[0. 0. 0. ... 0. 0. 0.]\n",
      "[0.67 0.67 0.67 ... 0.67 0.67 0.67]\n",
      "0.0\n",
      "Residual 100000000000.000000\n",
      "step:  66 Min. temperature 294.2906375158945 Max. temperature 1382.739679072561\n",
      "n = 1.49 and k = [1.19519517e-07 1.34300418e-07 1.69600496e-07 ... 1.59781589e+05\n",
      " 2.21018434e+05 3.05332626e+05]\n",
      "crystalline fraction: [0. 0. 0. ... 0. 0. 0.]\n",
      "[0. 0. 0. ... 0. 0. 0.]\n",
      "[0.68 0.68 0.68 ... 0.68 0.68 0.68]\n",
      "0.0\n",
      "Residual 100000000000.000000\n",
      "step:  67 Min. temperature 294.29063751589484 Max. temperature 1382.7396790725797\n",
      "n = 1.49 and k = [1.19519517e-07 1.34300418e-07 1.69600496e-07 ... 1.59781589e+05\n",
      " 2.21018434e+05 3.05332626e+05]\n",
      "crystalline fraction: [0. 0. 0. ... 0. 0. 0.]\n",
      "[0. 0. 0. ... 0. 0. 0.]\n",
      "[0.69 0.69 0.69 ... 0.69 0.69 0.69]\n",
      "0.0\n",
      "Residual 100000000000.000000\n",
      "step:  68 Min. temperature 294.2906375158949 Max. temperature 1382.7396790725884\n",
      "n = 1.49 and k = [1.19519517e-07 1.34300418e-07 1.69600496e-07 ... 1.59781589e+05\n",
      " 2.21018434e+05 3.05332626e+05]\n",
      "crystalline fraction: [0. 0. 0. ... 0. 0. 0.]\n",
      "[0. 0. 0. ... 0. 0. 0.]\n",
      "[0.7 0.7 0.7 ... 0.7 0.7 0.7]\n",
      "0.0\n",
      "Residual 100000000000.000000\n",
      "step:  69 Min. temperature 294.29063751589507 Max. temperature 1382.739679072596\n",
      "n = 1.49 and k = [1.19519517e-07 1.34300418e-07 1.69600496e-07 ... 1.59781589e+05\n",
      " 2.21018434e+05 3.05332626e+05]\n",
      "crystalline fraction: [0. 0. 0. ... 0. 0. 0.]\n",
      "[0. 0. 0. ... 0. 0. 0.]\n",
      "[0.71 0.71 0.71 ... 0.71 0.71 0.71]\n",
      "0.0\n",
      "Residual 100000000000.000000\n",
      "step:  70 Min. temperature 294.2906375158951 Max. temperature 1382.7396790726002\n",
      "n = 1.49 and k = [1.19519517e-07 1.34300418e-07 1.69600496e-07 ... 1.59781589e+05\n",
      " 2.21018434e+05 3.05332626e+05]\n",
      "crystalline fraction: [0. 0. 0. ... 0. 0. 0.]\n",
      "[0. 0. 0. ... 0. 0. 0.]\n",
      "[0.72 0.72 0.72 ... 0.72 0.72 0.72]\n",
      "0.0\n",
      "Residual 100000000000.000000\n",
      "step:  71 Min. temperature 294.2906375158952 Max. temperature 1382.739679072603\n",
      "n = 1.49 and k = [1.19519517e-07 1.34300418e-07 1.69600496e-07 ... 1.59781589e+05\n",
      " 2.21018434e+05 3.05332626e+05]\n",
      "crystalline fraction: [0. 0. 0. ... 0. 0. 0.]\n",
      "[0. 0. 0. ... 0. 0. 0.]\n",
      "[0.73 0.73 0.73 ... 0.73 0.73 0.73]\n",
      "0.0\n",
      "Residual 100000000000.000000\n",
      "step:  72 Min. temperature 294.2906375158952 Max. temperature 1382.7396790726038\n",
      "n = 1.49 and k = [1.19519517e-07 1.34300418e-07 1.69600496e-07 ... 1.59781589e+05\n",
      " 2.21018434e+05 3.05332626e+05]\n",
      "crystalline fraction: [0. 0. 0. ... 0. 0. 0.]\n",
      "[0. 0. 0. ... 0. 0. 0.]\n",
      "[0.74 0.74 0.74 ... 0.74 0.74 0.74]\n",
      "0.0\n",
      "Residual 100000000000.000000\n",
      "step:  73 Min. temperature 294.29063751589524 Max. temperature 1382.7396790726052\n",
      "n = 1.49 and k = [1.19519517e-07 1.34300418e-07 1.69600496e-07 ... 1.59781589e+05\n",
      " 2.21018434e+05 3.05332626e+05]\n",
      "crystalline fraction: [0. 0. 0. ... 0. 0. 0.]\n",
      "[0. 0. 0. ... 0. 0. 0.]\n",
      "[0.75 0.75 0.75 ... 0.75 0.75 0.75]\n",
      "0.0\n",
      "Residual 100000000000.000000\n",
      "step:  74 Min. temperature 294.29063751589524 Max. temperature 1382.7396790726075\n",
      "n = 1.49 and k = [1.19519517e-07 1.34300418e-07 1.69600496e-07 ... 1.59781589e+05\n",
      " 2.21018434e+05 3.05332626e+05]\n",
      "crystalline fraction: [0. 0. 0. ... 0. 0. 0.]\n",
      "[0. 0. 0. ... 0. 0. 0.]\n",
      "[0.76 0.76 0.76 ... 0.76 0.76 0.76]\n",
      "0.0\n",
      "Residual 100000000000.000000\n",
      "step:  75 Min. temperature 294.29063751589524 Max. temperature 1382.7396790726073\n",
      "n = 1.49 and k = [1.19519517e-07 1.34300418e-07 1.69600496e-07 ... 1.59781589e+05\n",
      " 2.21018434e+05 3.05332626e+05]\n",
      "crystalline fraction: [0. 0. 0. ... 0. 0. 0.]\n",
      "[0. 0. 0. ... 0. 0. 0.]\n",
      "[0.77 0.77 0.77 ... 0.77 0.77 0.77]\n",
      "0.0\n",
      "Residual 100000000000.000000\n",
      "step:  76 Min. temperature 294.29063751589524 Max. temperature 1382.739679072608\n",
      "n = 1.49 and k = [1.19519517e-07 1.34300418e-07 1.69600496e-07 ... 1.59781589e+05\n",
      " 2.21018434e+05 3.05332626e+05]\n",
      "crystalline fraction: [0. 0. 0. ... 0. 0. 0.]\n",
      "[0. 0. 0. ... 0. 0. 0.]\n",
      "[0.78 0.78 0.78 ... 0.78 0.78 0.78]\n",
      "0.0\n",
      "Residual 100000000000.000000\n",
      "step:  77 Min. temperature 294.2906375158953 Max. temperature 1382.739679072608\n",
      "n = 1.49 and k = [1.19519517e-07 1.34300418e-07 1.69600496e-07 ... 1.59781589e+05\n",
      " 2.21018434e+05 3.05332626e+05]\n",
      "crystalline fraction: [0. 0. 0. ... 0. 0. 0.]\n",
      "[0. 0. 0. ... 0. 0. 0.]\n",
      "[0.79 0.79 0.79 ... 0.79 0.79 0.79]\n",
      "0.0\n",
      "Residual 100000000000.000000\n",
      "step:  78 Min. temperature 294.29063751589524 Max. temperature 1382.739679072607\n",
      "n = 1.49 and k = [1.19519517e-07 1.34300418e-07 1.69600496e-07 ... 1.59781589e+05\n",
      " 2.21018434e+05 3.05332626e+05]\n",
      "crystalline fraction: [0. 0. 0. ... 0. 0. 0.]\n",
      "[0. 0. 0. ... 0. 0. 0.]\n",
      "[0.8 0.8 0.8 ... 0.8 0.8 0.8]\n",
      "0.0\n",
      "Residual 100000000000.000000\n",
      "step:  79 Min. temperature 294.29063751589524 Max. temperature 1382.7396790726086\n",
      "n = 1.49 and k = [1.19519517e-07 1.34300418e-07 1.69600496e-07 ... 1.59781589e+05\n",
      " 2.21018434e+05 3.05332626e+05]\n",
      "crystalline fraction: [0. 0. 0. ... 0. 0. 0.]\n",
      "[0. 0. 0. ... 0. 0. 0.]\n",
      "[0.81 0.81 0.81 ... 0.81 0.81 0.81]\n",
      "0.0\n",
      "Residual 100000000000.000000\n",
      "step:  80 Min. temperature 294.29063751589524 Max. temperature 1382.7396790726089\n",
      "n = 1.49 and k = [1.19519517e-07 1.34300418e-07 1.69600496e-07 ... 1.59781589e+05\n",
      " 2.21018434e+05 3.05332626e+05]\n",
      "crystalline fraction: [0. 0. 0. ... 0. 0. 0.]\n",
      "[0. 0. 0. ... 0. 0. 0.]\n",
      "[0.82 0.82 0.82 ... 0.82 0.82 0.82]\n",
      "0.0\n",
      "Residual 100000000000.000000\n",
      "step:  81 Min. temperature 294.29063751589524 Max. temperature 1382.7396790726098\n",
      "n = 1.49 and k = [1.19519517e-07 1.34300418e-07 1.69600496e-07 ... 1.59781589e+05\n",
      " 2.21018434e+05 3.05332626e+05]\n",
      "crystalline fraction: [0. 0. 0. ... 0. 0. 0.]\n",
      "[0. 0. 0. ... 0. 0. 0.]\n",
      "[0.83 0.83 0.83 ... 0.83 0.83 0.83]\n",
      "0.0\n",
      "Residual 100000000000.000000\n",
      "step:  82 Min. temperature 294.29063751589524 Max. temperature 1382.7396790726095\n",
      "n = 1.49 and k = [1.19519517e-07 1.34300418e-07 1.69600496e-07 ... 1.59781589e+05\n",
      " 2.21018434e+05 3.05332626e+05]\n",
      "crystalline fraction: [0. 0. 0. ... 0. 0. 0.]\n",
      "[0. 0. 0. ... 0. 0. 0.]\n",
      "[0.84 0.84 0.84 ... 0.84 0.84 0.84]\n",
      "0.0\n",
      "Residual 100000000000.000000\n",
      "step:  83 Min. temperature 294.29063751589524 Max. temperature 1382.739679072608\n",
      "n = 1.49 and k = [1.19519517e-07 1.34300418e-07 1.69600496e-07 ... 1.59781589e+05\n",
      " 2.21018434e+05 3.05332626e+05]\n",
      "crystalline fraction: [0. 0. 0. ... 0. 0. 0.]\n",
      "[0. 0. 0. ... 0. 0. 0.]\n",
      "[0.85 0.85 0.85 ... 0.85 0.85 0.85]\n",
      "0.0\n",
      "Residual 100000000000.000000\n",
      "step:  84 Min. temperature 294.29063751589524 Max. temperature 1382.739679072609\n",
      "n = 1.49 and k = [1.19519517e-07 1.34300418e-07 1.69600496e-07 ... 1.59781589e+05\n",
      " 2.21018434e+05 3.05332626e+05]\n",
      "crystalline fraction: [0. 0. 0. ... 0. 0. 0.]\n",
      "[0. 0. 0. ... 0. 0. 0.]\n",
      "[0.86 0.86 0.86 ... 0.86 0.86 0.86]\n",
      "0.0\n",
      "Residual 100000000000.000000\n",
      "step:  85 Min. temperature 294.29063751589524 Max. temperature 1382.7396790726093\n",
      "n = 1.49 and k = [1.19519517e-07 1.34300418e-07 1.69600496e-07 ... 1.59781589e+05\n",
      " 2.21018434e+05 3.05332626e+05]\n",
      "crystalline fraction: [0. 0. 0. ... 0. 0. 0.]\n",
      "[0. 0. 0. ... 0. 0. 0.]\n",
      "[0.87 0.87 0.87 ... 0.87 0.87 0.87]\n",
      "0.0\n",
      "Residual 100000000000.000000\n",
      "step:  86 Min. temperature 294.29063751589524 Max. temperature 1382.7396790726104\n",
      "n = 1.49 and k = [1.19519517e-07 1.34300418e-07 1.69600496e-07 ... 1.59781589e+05\n",
      " 2.21018434e+05 3.05332626e+05]\n",
      "crystalline fraction: [0. 0. 0. ... 0. 0. 0.]\n",
      "[0. 0. 0. ... 0. 0. 0.]\n",
      "[0.88 0.88 0.88 ... 0.88 0.88 0.88]\n",
      "0.0\n",
      "Residual 100000000000.000000\n",
      "step:  87 Min. temperature 294.29063751589524 Max. temperature 1382.7396790726086\n",
      "n = 1.49 and k = [1.19519517e-07 1.34300418e-07 1.69600496e-07 ... 1.59781589e+05\n",
      " 2.21018434e+05 3.05332626e+05]\n",
      "crystalline fraction: [0. 0. 0. ... 0. 0. 0.]\n",
      "[0. 0. 0. ... 0. 0. 0.]\n",
      "[0.89 0.89 0.89 ... 0.89 0.89 0.89]\n",
      "0.0\n",
      "Residual 100000000000.000000\n",
      "step:  88 Min. temperature 294.29063751589524 Max. temperature 1382.7396790726084\n",
      "n = 1.49 and k = [1.19519517e-07 1.34300418e-07 1.69600496e-07 ... 1.59781589e+05\n",
      " 2.21018434e+05 3.05332626e+05]\n",
      "crystalline fraction: [0. 0. 0. ... 0. 0. 0.]\n",
      "[0. 0. 0. ... 0. 0. 0.]\n",
      "[0.9 0.9 0.9 ... 0.9 0.9 0.9]\n",
      "0.0\n",
      "Residual 100000000000.000000\n",
      "step:  89 Min. temperature 294.2906375158953 Max. temperature 1382.7396790726102\n",
      "n = 1.49 and k = [1.19519517e-07 1.34300418e-07 1.69600496e-07 ... 1.59781589e+05\n",
      " 2.21018434e+05 3.05332626e+05]\n",
      "crystalline fraction: [0. 0. 0. ... 0. 0. 0.]\n",
      "[0. 0. 0. ... 0. 0. 0.]\n",
      "[0.91 0.91 0.91 ... 0.91 0.91 0.91]\n",
      "0.0\n",
      "Residual 100000000000.000000\n",
      "step:  90 Min. temperature 294.29063751589524 Max. temperature 1382.7396790726104\n",
      "n = 1.49 and k = [1.19519517e-07 1.34300418e-07 1.69600496e-07 ... 1.59781589e+05\n",
      " 2.21018434e+05 3.05332626e+05]\n",
      "crystalline fraction: [0. 0. 0. ... 0. 0. 0.]\n",
      "[0. 0. 0. ... 0. 0. 0.]\n",
      "[0.92 0.92 0.92 ... 0.92 0.92 0.92]\n",
      "0.0\n",
      "Residual 100000000000.000000\n",
      "step:  91 Min. temperature 294.2906375158953 Max. temperature 1382.7396790726102\n",
      "n = 1.49 and k = [1.19519517e-07 1.34300418e-07 1.69600496e-07 ... 1.59781589e+05\n",
      " 2.21018434e+05 3.05332626e+05]\n",
      "crystalline fraction: [0. 0. 0. ... 0. 0. 0.]\n",
      "[0. 0. 0. ... 0. 0. 0.]\n",
      "[0.93 0.93 0.93 ... 0.93 0.93 0.93]\n",
      "0.0\n",
      "Residual 100000000000.000000\n",
      "step:  92 Min. temperature 294.2906375158953 Max. temperature 1382.7396790726082\n",
      "n = 1.49 and k = [1.19519517e-07 1.34300418e-07 1.69600496e-07 ... 1.59781589e+05\n",
      " 2.21018434e+05 3.05332626e+05]\n",
      "crystalline fraction: [0. 0. 0. ... 0. 0. 0.]\n",
      "[0. 0. 0. ... 0. 0. 0.]\n",
      "[0.94 0.94 0.94 ... 0.94 0.94 0.94]\n",
      "0.0\n",
      "Residual 100000000000.000000\n",
      "step:  93 Min. temperature 294.2906375158953 Max. temperature 1382.7396790726084\n",
      "n = 1.49 and k = [1.19519517e-07 1.34300418e-07 1.69600496e-07 ... 1.59781589e+05\n",
      " 2.21018434e+05 3.05332626e+05]\n",
      "crystalline fraction: [0. 0. 0. ... 0. 0. 0.]\n",
      "[0. 0. 0. ... 0. 0. 0.]\n",
      "[0.95 0.95 0.95 ... 0.95 0.95 0.95]\n",
      "0.0\n",
      "Residual 100000000000.000000\n",
      "step:  94 Min. temperature 294.29063751589524 Max. temperature 1382.7396790726102\n",
      "n = 1.49 and k = [1.19519517e-07 1.34300418e-07 1.69600496e-07 ... 1.59781589e+05\n",
      " 2.21018434e+05 3.05332626e+05]\n",
      "crystalline fraction: [0. 0. 0. ... 0. 0. 0.]\n",
      "[0. 0. 0. ... 0. 0. 0.]\n",
      "[0.96 0.96 0.96 ... 0.96 0.96 0.96]\n",
      "0.0\n",
      "Residual 100000000000.000000\n",
      "step:  95 Min. temperature 294.29063751589524 Max. temperature 1382.7396790726102\n",
      "n = 1.49 and k = [1.19519517e-07 1.34300418e-07 1.69600496e-07 ... 1.59781589e+05\n",
      " 2.21018434e+05 3.05332626e+05]\n",
      "crystalline fraction: [0. 0. 0. ... 0. 0. 0.]\n",
      "[0. 0. 0. ... 0. 0. 0.]\n",
      "[0.97 0.97 0.97 ... 0.97 0.97 0.97]\n",
      "0.0\n",
      "Residual 100000000000.000000\n",
      "step:  96 Min. temperature 294.2906375158953 Max. temperature 1382.7396790726086\n",
      "n = 1.49 and k = [1.19519517e-07 1.34300418e-07 1.69600496e-07 ... 1.59781589e+05\n",
      " 2.21018434e+05 3.05332626e+05]\n",
      "crystalline fraction: [0. 0. 0. ... 0. 0. 0.]\n",
      "[0. 0. 0. ... 0. 0. 0.]\n",
      "[0.98 0.98 0.98 ... 0.98 0.98 0.98]\n",
      "0.0\n",
      "Residual 100000000000.000000\n",
      "step:  97 Min. temperature 294.29063751589524 Max. temperature 1382.739679072608\n",
      "n = 1.49 and k = [1.19519517e-07 1.34300418e-07 1.69600496e-07 ... 1.59781589e+05\n",
      " 2.21018434e+05 3.05332626e+05]\n",
      "crystalline fraction: [0. 0. 0. ... 0. 0. 0.]\n",
      "[0. 0. 0. ... 0. 0. 0.]\n",
      "[0.99 0.99 0.99 ... 0.99 0.99 0.99]\n",
      "0.0\n",
      "Residual 100000000000.000000\n",
      "step:  98 Min. temperature 294.2906375158953 Max. temperature 1382.7396790726077\n",
      "n = 1.49 and k = [1.19519517e-07 1.34300418e-07 1.69600496e-07 ... 1.59781589e+05\n",
      " 2.21018434e+05 3.05332626e+05]\n",
      "crystalline fraction: [0. 0. 0. ... 0. 0. 0.]\n",
      "[0. 0. 0. ... 0. 0. 0.]\n",
      "[1. 1. 1. ... 1. 1. 1.]\n",
      "1.0\n",
      "Residual 100000000000.000000\n",
      "step:  99 Min. temperature 294.29063751589524 Max. temperature 1382.7396790726084\n"
     ]
    },
    {
     "data": {
      "text/plain": [
       "<Figure size 432x288 with 0 Axes>"
      ]
     },
     "metadata": {},
     "output_type": "display_data"
    }
   ],
   "source": [
    "#import fipy.solvers.pyAMG as solvers\n",
    "import fipy.solvers.pysparse as solvers\n",
    "import numpy as np\n",
    "solver = solvers.linearGMRESSolver.LinearGMRESSolver(precon=None, iterations=1500, tolerance=1e-15) \n",
    "poisson= solvers.linearLUSolver.LinearLUSolver()\n",
    "\n",
    "steps = 100 # number of steps to calculate\n",
    "eps =1e-5\n",
    "Tvstime = [] # temperature values during cooling\n",
    "\n",
    "for i in range(steps):\n",
    "    terr=10e+10\n",
    "    temperature.updateOld()\n",
    "    fi.updateOld()\n",
    "    fc.updateOld()\n",
    "    \n",
    "    # calculate incubation time\n",
    "    n = calcn(temperature)\n",
    "    k = calck(0.005,temperature)\n",
    "    print \"n = {} and k = {}\".format(n,k)\n",
    "    print \"crystalline fraction: {}\".format(fc)\n",
    "    tt = transformation_time(fc,k,n)\n",
    "    print tt\n",
    "    tincubation.setValue(tincubation.value + dt/10)\n",
    "    print tincubation\n",
    "    # calculate volume fraction of the crystalline phase\n",
    "    # the reaction start when incubation time reaches 1.0\n",
    "    volume_fraction(tt+dt,k,n) \n",
    "        \n",
    "    # update martensite fraction using koistinen-marburger eq.\n",
    "    # koistinen_marburger(temperature) \n",
    "    # update complete volume fraction\n",
    "    xi = fc + fi\n",
    "    print max(xi)\n",
    "    while(terr > eps):\n",
    "        print \"Residual %f\" % terr\n",
    "        terr = temperatureEq.sweep(temperature, dt=dt,solver=poisson)\n",
    "    \n",
    "    #print min(phaseSourceT())\n",
    "    if __name__ == '__main__':\n",
    "        path = \"../../TEST/temperature/\"\n",
    "        temperatureViewer.plot(path+\"temperatureBMG\"+str(i)+\".eps\")  \n",
    "        np.savetxt(path+\"temperatureBMG\"+str(i),temperature)\n",
    "        np.savetxt(path+\"amorphousBMG\"+str(i),fi)\n",
    "        np.savetxt(path+\"crystallineBMG\"+str(i),fc)\n",
    "        Tvstime.append(temperature.value[0])\n",
    "        print \"step: \", i, \"Min. temperature\",min(temperature), \"Max. temperature\", max(temperature)\n",
    "        "
   ]
  },
  {
   "cell_type": "code",
   "execution_count": 24,
   "metadata": {},
   "outputs": [
    {
     "data": {
      "image/png": "[encoded data removed]",
      "text/plain": [
       "<Figure size 288x288 with 2 Axes>"
      ]
     },
     "metadata": {
      "needs_background": "light"
     },
     "output_type": "display_data"
    }
   ],
   "source": [
    "viewerTemperature = Matplotlib2DGridViewer(vars=temperature, title = '$temperature$')"
   ]
  },
  {
   "cell_type": "markdown",
   "metadata": {},
   "source": [
    "# Visualize the results"
   ]
  },
  {
   "cell_type": "code",
   "execution_count": 25,
   "metadata": {},
   "outputs": [
    {
     "data": {
      "image/png": "[encoded data removed]",
      "text/plain": [
       "<Figure size 1008x720 with 4 Axes>"
      ]
     },
     "metadata": {
      "needs_background": "light"
     },
     "output_type": "display_data"
    }
   ],
   "source": [
    "fig1, (axp2, axc2)= plt.subplots(2, 1, sharex=False, sharey=False, figsize=(14,10))\n",
    "\n",
    "viewer1 = MultiViewer(viewers = (Matplotlib2DGridViewer(vars=fi, title='$amorphous$', axes=axp2, \\\n",
    "                                                       datamin=0., datamax=1000.), \\\n",
    "                                Matplotlib2DGridViewer(vars=fc,  title='$crystalline$'   , axes=axc2, \\\n",
    "                                                       datamin=0., datamax=1.)))\n"
   ]
  },
  {
   "cell_type": "code",
   "execution_count": 32,
   "metadata": {},
   "outputs": [
    {
     "data": {
      "text/plain": [
       "<matplotlib.contour.QuadContourSet at 0x129d6d310>"
      ]
     },
     "execution_count": 32,
     "metadata": {},
     "output_type": "execute_result"
    },
    {
     "data": {
      "image/png": "[encoded data removed]",
      "text/plain": [
       "<Figure size 432x288 with 1 Axes>"
      ]
     },
     "metadata": {
      "needs_background": "light"
     },
     "output_type": "display_data"
    }
   ],
   "source": [
    "load=np.loadtxt(path+\"temperatureBMG99\")\n",
    "fig,ax = plt.subplots()\n",
    "ax.contourf(load.reshape(N,N))"
   ]
  },
  {
   "cell_type": "code",
   "execution_count": 27,
   "metadata": {},
   "outputs": [
    {
     "data": {
      "text/plain": [
       "<Figure size 432x288 with 0 Axes>"
      ]
     },
     "metadata": {},
     "output_type": "display_data"
    }
   ],
   "source": [
    "%matplotlib inline\n",
    "temperatureViewer.plot(path + \"temperature100.png\")"
   ]
  },
  {
   "cell_type": "markdown",
   "metadata": {},
   "source": [
    "Plotting the value of the temperature in the middle of the cylinder at the convection surface."
   ]
  },
  {
   "cell_type": "code",
   "execution_count": 28,
   "metadata": {},
   "outputs": [
    {
     "data": {
      "text/plain": [
       "[Text(0,0.5,'Temperature K'),\n",
       " Text(0.5,0,'timesteps'),\n",
       " Text(0.5,1,'Temperature')]"
      ]
     },
     "execution_count": 28,
     "metadata": {},
     "output_type": "execute_result"
    },
    {
     "data": {
      "image/png": "[encoded data removed]",
      "text/plain": [
       "<Figure size 432x288 with 1 Axes>"
      ]
     },
     "metadata": {
      "needs_background": "light"
     },
     "output_type": "display_data"
    }
   ],
   "source": [
    "t=[]\n",
    "t1=[]\n",
    "for i in range(1,100,1):\n",
    "    load = np.loadtxt(path+\"temperatureBMG\"+str(i))\n",
    "    t.append(load.reshape(N,N)[5,1])\n",
    "    t1.append(load.reshape(N,N)[20,20])\n",
    "fig, ax = plt.subplots()\n",
    "ax.plot(t)\n",
    "ax.plot(t1)\n",
    "ax.set(title='Temperature',ylabel='Temperature K',xlabel='timesteps')"
   ]
  },
  {
   "cell_type": "markdown",
   "metadata": {},
   "source": [
    "Plot of the temperature at central point of the cylinder. The temperature rises on the point and then drops again due to enthalphy of austinite to martensite phase transformation. Is this numerical instability??"
   ]
  },
  {
   "cell_type": "code",
   "execution_count": 29,
   "metadata": {},
   "outputs": [
    {
     "data": {
      "text/plain": [
       "[Text(0,0.5,'amount %'), Text(0.5,0,'timesteps'), Text(0.5,1,'Crystalline')]"
      ]
     },
     "execution_count": 29,
     "metadata": {},
     "output_type": "execute_result"
    },
    {
     "data": {
      "image/png": "[encoded data removed]",
      "text/plain": [
       "<Figure size 432x288 with 1 Axes>"
      ]
     },
     "metadata": {
      "needs_background": "light"
     },
     "output_type": "display_data"
    }
   ],
   "source": [
    "cry = []\n",
    "cry1 = []\n",
    "for i in range(1,54,2):\n",
    "    load = np.loadtxt(path+\"crystallineBMG\"+str(i))\n",
    "    cry.append(load.reshape(N,N)[5,1])\n",
    "    cry1.append(load.reshape(N,N)[20,20])\n",
    "fig, ax = plt.subplots()\n",
    "ax.plot(cry)\n",
    "ax.plot(cry1)\n",
    "ax.set(title='Crystalline',ylabel='amount %',xlabel='timesteps')"
   ]
  },
  {
   "cell_type": "code",
   "execution_count": 30,
   "metadata": {},
   "outputs": [],
   "source": [
    "point = []\n",
    "for i in range(1, 54,2):\n",
    "    load = np.loadtxt(path+ \"amorphousOH\"+str(i))\n",
    "    point.append(load.reshape(N,N))"
   ]
  },
  {
   "cell_type": "markdown",
   "metadata": {},
   "source": [
    "### Crystalline and amorphous amounts at end of simulation"
   ]
  },
  {
   "cell_type": "code",
   "execution_count": 31,
   "metadata": {},
   "outputs": [
    {
     "data": {
      "text/plain": [
       "Text(0.5,1,'Amount of crystalline (blue) and amorph (red) phases')"
      ]
     },
     "execution_count": 31,
     "metadata": {},
     "output_type": "execute_result"
    },
    {
     "data": {
      "image/png": "[encoded data removed]",
      "text/plain": [
       "<Figure size 1008x720 with 2 Axes>"
      ]
     },
     "metadata": {
      "needs_background": "light"
     },
     "output_type": "display_data"
    }
   ],
   "source": [
    "fig2, (axp22, axc22)= plt.subplots(2, 1, sharex=False, sharey=False, figsize=(14,10))\n",
    "\n",
    "axp22.plot(fi.value.reshape(N,N)[2,:], 'r')\n",
    "axp22.plot(fc.value.reshape(N,N)[2,:], 'b')\n",
    "axp22.set_xlabel('Radius')\n",
    "axp22.set_ylabel('Amount of phase %')\n",
    "axp22.set_title('Amount of crystalline (blue) and amorph (red) phases')\n",
    "\n",
    "axc22.plot(fi.value.reshape(N,N)[:,20], 'r')\n",
    "axc22.plot(fc.value.reshape(N,N)[:,20], 'b')\n",
    "axc22.set_xlabel('Height')\n",
    "axc22.set_ylabel('Amount of phase %')\n",
    "axc22.set_title('Amount of crystalline (blue) and amorph (red) phases')"
   ]
  }
 ],
 "metadata": {
  "kernelspec": {
   "display_name": "Python 2",
   "language": "python",
   "name": "python2"
  },
  "language_info": {
   "codemirror_mode": {
    "name": "ipython",
    "version": 2
   },
   "file_extension": ".py",
   "mimetype": "text/x-python",
   "name": "python",
   "nbconvert_exporter": "python",
   "pygments_lexer": "ipython2",
   "version": "2.7.15"
  }
 },
 "nbformat": 4,
 "nbformat_minor": 2
}
