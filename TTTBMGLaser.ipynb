{
 "cells": [
  {
   "cell_type": "markdown",
   "metadata": {},
   "source": [
    "In this simulation we are calculating TTT and CCT diagrams for following the cooling behaviour of the PM Steels.\n",
    "The current notebook follows presentation given by A.Malakizadi:\n",
    "\n",
    "Diploma work No. 42/2010\n",
    "at Department of Materials and Manufacturing Technology\n",
    "CHALMERS UNIVERSITY OF TECHNOLOGY\n",
    "Gotheburg Sweden\n",
    "\n",
    "Note this is applied to BMG material AMZ4.\n"
   ]
  },
  {
   "cell_type": "markdown",
   "metadata": {},
   "source": [
    "# Constitutive equation and finite element formulation"
   ]
  },
  {
   "cell_type": "markdown",
   "metadata": {},
   "source": [
    "Heat equation is given here in the general form to model also the phase transformations during the phase transformations of the alloy:"
   ]
  },
  {
   "cell_type": "markdown",
   "metadata": {},
   "source": [
    "Conservation of the energy is given by the equation:\n",
    "$$\n",
    "\\rho \\frac{\\partial E}{\\partial t} - \\nabla(k\\nabla T)= 0\n",
    "$$\n",
    "where the E is specific internal energy. $ \\rho, k$ and $T,t$ are density, thermal conductivity, temperature and time.\n",
    "Specific internal energy can also be represented using:\n",
    "$$\n",
    "E(t,x)= e(T,X_i)\n",
    "$$\n",
    "where $ X_i $ for $i={1,2,3,4}$ are volume fraction for example of the perlite, bainite, ferrite and martensite phase.\n",
    "Differenting the $e(T,X_i)$ with the respect to internal variables:\n",
    "$$\n",
    "\\frac{\\partial e}{\\partial T} = c_p \\\\\n",
    "\\frac{\\partial e}{\\partial X_i}=-q_i\n",
    "$$\n",
    "Thus the general equation is given by:"
   ]
  },
  {
   "cell_type": "markdown",
   "metadata": {},
   "source": [
    "$$\n",
    "\\rho(T)c_p(T)\\frac{\\partial T}{\\partial t}=\\frac{\\partial }{\\partial x}(k(T)\\frac{\\partial T}{\\partial x}) +\n",
    "\\frac{\\partial }{\\partial y}(k(T)\\frac{\\partial T}{\\partial y})+\\frac{\\partial }{\\partial z}(k(T)\\frac{\\partial T}{\\partial z})\n",
    "+\\sum{\\rho_i(T)q_i(T) \\frac{\\partial X_i}{\\partial t}}\n",
    "$$"
   ]
  },
  {
   "cell_type": "markdown",
   "metadata": {},
   "source": [
    "It is important to set also the correct boundary conditions and initial boundary conditions  for the cooling:"
   ]
  },
  {
   "cell_type": "markdown",
   "metadata": {},
   "source": [
    "Cooling condition for radiation and air convection:\n",
    "$$\n",
    "-k\\frac{\\partial T}{\\partial n} = h_c(T) (T-T_{\\infty})+\\sigma\\epsilon(T)(T^{4}-T^{4}_\\infty)\n",
    "$$\n",
    "If we are cooling by water or quenching:\n",
    "$$\n",
    "-k\\frac{\\partial T}{\\partial n} = h_q(T) (T-T_{\\infty})\n",
    "$$\n",
    "And the start temperature of the sample is given:\n",
    "$$\n",
    "T_0 = T(x,y,0)\n",
    "$$\n",
    "here the $h_c(T)$ is the convective heat transfer coefficient, $\\sigma$ is the Stefan-Boltzmann constant, and $\\epsilon $ is radiation emissivity of the surface and $T_\\infty$ is the sorounding temperature.\n",
    "It is possible to reduce the surface radiation to:\n",
    "$$\n",
    "\\sigma \\epsilon(T) (T^4-T^4_\\infty)= \\sigma \\epsilon(T)(T^2+T^2_\\infty)(T+T_\\infty)(T-T_\\infty)=h_r(T)(T-T_\\infty)\n",
    "$$\n",
    "So combined radiation and convection boundary condition can be expressed by:\n",
    "$$\n",
    "-k\\frac{\\partial T}{\\partial n}=h_r(T)(T-T_\\infty)+h_c(T) (T-T_{\\infty})=h_{rc}(T)(T-T_{\\infty})\n",
    "$$\n",
    "where $h_{rc}$ is combined heat transfer.  "
   ]
  },
  {
   "cell_type": "markdown",
   "metadata": {},
   "source": [
    "$$\n",
    "\\rho(T)c_p(T) \\frac{\\partial T}{\\partial t} =k(T)\\left( \\frac{1}{r}  \\frac{\\partial }{\\partial r}(r\\frac{\\partial T}{\\partial r})+ \\frac{\\partial^2 T}{\\partial z^2}\\right)+\\sum{\\rho_i(T)q_i(T)\\frac{\\partial X_i}{\\partial t}}\n",
    "$$"
   ]
  },
  {
   "cell_type": "markdown",
   "metadata": {},
   "source": [
    "## Incoperation of the phase transformation terms"
   ]
  },
  {
   "cell_type": "markdown",
   "metadata": {},
   "source": [
    "Phase transformation in weak formulation for the phase transformation.\n",
    "$$\n",
    "R = \\int_{\\Gamma}{w rh_{rc} T_\\infty}+\\int_{\\omega} w\\sum{\\rho_i q_i \\frac{\\partial X_i}{\\partial t} rdrdz}\n",
    "$$\n",
    "At constant pressure is the latent heat of transformations are equal to entalphy changes $\\rho q_i = \\Delta H_i$\n",
    "\n",
    "$$\n",
    "R=\\int_{\\Gamma}{w rh_{rc} T_\\infty}+\\int_{\\omega} w\\sum{\\Delta H_i \\frac{\\partial X_i}{\\partial t} rdrdz}\n",
    "$$\n",
    "Time derivative can be approximated:\n",
    "$$\n",
    "\\frac{\\partial X_i}{\\partial t} = \\frac{\\Delta X_i}{\\Delta t}=\\frac{X_i^{j+1}-X_i^{j}}{\\Delta t}\n",
    "$$\n",
    "where $X^{j+1}_i$ is the volume fraction of the phase $i$ at time $j+1$. The thermal properties of the mixture are calculated\n",
    "using the mixture rule:\n",
    "$$\n",
    "\\rho c_p = \\sum{X_i\\rho_i c_{p_i}} \\\\\n",
    "k = \\sum{X_i k_i}\n",
    "$$\n",
    "Both models JMAK and AR model can be used to calculate the amount of the diffusive transformation. We focus now on the JMAK model.\n"
   ]
  },
  {
   "cell_type": "markdown",
   "metadata": {},
   "source": [
    "# Scheil principle\n"
   ]
  },
  {
   "cell_type": "markdown",
   "metadata": {},
   "source": [
    "The kinetics of the transformation during cooling (anisothermal condition) according to Scheil principle can the approximated by means of infinitesimal time increments $\\Delta t$ and ficitious time $t^{*}$ need to gain same fraction of phase $i$ at the current temperature $T_j$"
   ]
  },
  {
   "cell_type": "markdown",
   "metadata": {},
   "source": [
    "$$\n",
    "t_j = \\Delta t + t_j^{*}\n",
    "$$\n",
    "where we can calculate $t^{*}$ from JMAK model as:\n",
    "$$\n",
    "t_j^{*} = \\left [ \\frac{ln(\\frac{1}{1-X_{i,j-1}})}{k(T_j)}\\right]^{1/n(T_j)}\n",
    "$$\n",
    "In the case of the remaining austenite phase we should correct $X_{i,j-1}$ with:\n",
    "$$\n",
    "F_{i,j-1}=\\frac{X_{i,j-1}}{X_{i,j-1}+X_{\\gamma,j-1}}\n",
    "$$\n",
    "then previous equation is written as:\n",
    "$$\n",
    "t_j^{*} = \\left [ \\frac{ln(\\frac{1}{1-F_{i,j-1}})}{k(T_j)}\\right]^{1/n(T_j)}\n",
    "$$\n",
    "This equation is valid for the experimentaly measured TTT diagram in the case of the BMG \n",
    "we use the Kissinger analysis to calculate the JMAK parameters:\n",
    "$$\n",
    "t_j^{*} = \\left [ \\frac{ln(\\frac{1}{1-F_{i,j-1}})}{k_0 \\exp(\\frac{-E}{kT_j})}\\right]^{1/n(T_j)}\n",
    "$$\n",
    "where now $$ k(T_j) = k_0 \\exp(\\frac{-E}{kT_j})$$\n",
    "So we can calculate then the fictious volume fraction of phase $i$ at time $j$:\n",
    "$$\n",
    "F_{i,j}^{*}=1-exp\\left(-k(T_j)t_j^{n(T_j)} \\right)\n",
    "$$\n",
    "The incubation time of the diffusive transformation are calculated using equation:\n",
    "$$\n",
    "Q = \\int_{0}^{t} \\frac{d\\epsilon}{\\tau_s(T(\\epsilon))}= \\sum\\frac{\\Delta t}{\\tau_s(T_j)}\n",
    "$$\n"
   ]
  },
  {
   "cell_type": "markdown",
   "metadata": {},
   "source": [
    "## Test case"
   ]
  },
  {
   "cell_type": "markdown",
   "metadata": {},
   "source": [
    "For this test case we are using the data available from the thesis \"Modeling of Bulk Metallic Glass formation\n",
    "in Powder Bed Fusion\" by John Lindwall from http://www.ltu.se ISBN 978-91-7790-306-2\n",
    "\n",
    "Specific heat is modelled as function it is taken from the thesis and it is based on the data measured in the\n",
    "paper Heinrich et al."
   ]
  },
  {
   "cell_type": "code",
   "execution_count": 1,
   "metadata": {},
   "outputs": [],
   "source": [
    "def h(T):\n",
    "    a = 5.225E-4\n",
    "    b = 1.031E+7\n",
    "    R = 8.134\n",
    "    c = 0.00623\n",
    "    d = -6.047E-7\n",
    "    if (T <= (470+273)):\n",
    "        return 3*R + c * T + d * T**(-2)\n",
    "    elif ( (470+273) < T < (1200+273) ):\n",
    "        return 3*R + a * T + b * T**(-2)\n",
    "    return 0\n"
   ]
  },
  {
   "cell_type": "markdown",
   "metadata": {},
   "source": [
    "Plot the cp (specific heat) of the alloy to see if the function correspond to experimental data"
   ]
  },
  {
   "cell_type": "code",
   "execution_count": 2,
   "metadata": {},
   "outputs": [
    {
     "data": {
      "image/png": "[encoded data removed]",
      "text/plain": [
       "<Figure size 432x288 with 1 Axes>"
      ]
     },
     "metadata": {
      "needs_background": "light"
     },
     "output_type": "display_data"
    }
   ],
   "source": [
    "%matplotlib inline\n",
    "import matplotlib.pyplot as plt\n",
    "temp = []\n",
    "cp = []\n",
    "rhoAMZ4 = 76.595E-3\n",
    "\n",
    "for step in range(1,1200):\n",
    "    val = h(step+273)/rhoAMZ4\n",
    "    cp.append(val)\n",
    "    temp.append(step+273)\n",
    "plt.plot(temp,cp)\n",
    "plt.show()"
   ]
  },
  {
   "cell_type": "code",
   "execution_count": 3,
   "metadata": {},
   "outputs": [
    {
     "data": {
      "text/plain": [
       "0.2487338849102798"
      ]
     },
     "execution_count": 3,
     "metadata": {},
     "output_type": "execute_result"
    }
   ],
   "source": [
    "cp[470+273]-cp[471+273]"
   ]
  },
  {
   "cell_type": "code",
   "execution_count": 4,
   "metadata": {},
   "outputs": [],
   "source": [
    "rho=6.7\n",
    "omega=4.20E-6\n",
    "def kAMZ4(T):\n",
    "    return h(T) * rho * omega"
   ]
  },
  {
   "cell_type": "code",
   "execution_count": 5,
   "metadata": {},
   "outputs": [
    {
     "data": {
      "image/png": "[encoded data removed]",
      "text/plain": [
       "<Figure size 432x288 with 1 Axes>"
      ]
     },
     "metadata": {
      "needs_background": "light"
     },
     "output_type": "display_data"
    }
   ],
   "source": [
    "kam = []\n",
    "temp = []\n",
    "for step in range(1,1200):\n",
    "    val = kAMZ4(step)/rhoAMZ4\n",
    "    kam.append(val)\n",
    "    temp.append(step+273)\n",
    "plt.plot(temp,kam)\n",
    "plt.show()"
   ]
  },
  {
   "cell_type": "markdown",
   "metadata": {},
   "source": [
    "## Note this is the test case for the PM steels \n",
    "Assuming that the Jominy test can be treated as the semi-infinite plate. The surface exposed to convective boundary condition exposed on one side, the analytical solution is given as:\n",
    "$$\n",
    "\\frac{T(x,t)-T_i}{T_{\\infty}-T_i}=erfc \\left(\\frac{x}{2\\sqrt{\\alpha t}}\\right) - exp\\left(\\frac{h x }{k}+\\frac{h^2 \\alpha t }{k^2}\\right)\n",
    "erfc\\left(\\frac{x}{2\\sqrt{\\alpha t}} + \\frac{h\\sqrt{\\alpha t} }{k}\\right)\n",
    "$$\n",
    "The temperature distribution of the bar at different position $x$ and time $t$ can be obtained if we know distribution of temperature $T$ at previous time step $t_{i-1}$."
   ]
  },
  {
   "cell_type": "code",
   "execution_count": 6,
   "metadata": {},
   "outputs": [],
   "source": [
    "rho=6200; Cp=500.0; k=20.0; alpha=k/(Cp*rho)\n",
    "import math\n",
    "def T(x,t,T):\n",
    "    return math.erfc(x/(2*math.sqrt(alpha*t)))-math.exp(h(T)*x/k + (h(T)**2 * alpha * t/(k**2))) * math.erfc(x/(2*math.sqrt(alpha*t))+h(T)*math.sqrt(alpha*t)/k)"
   ]
  },
  {
   "cell_type": "markdown",
   "metadata": {},
   "source": [
    "Here we calculate the temperature drop from the one dimensional solution described in previous cell, we set initial temperature of the bar to $T=1173$ K:"
   ]
  },
  {
   "cell_type": "code",
   "execution_count": 7,
   "metadata": {},
   "outputs": [],
   "source": [
    "t_initial=900.0+273; t_inf=23.0+273\n",
    "tr=t_initial\n",
    "temp=[]\n",
    "for step in range(1,200):\n",
    "    a=T(0.0,step,tr)\n",
    "    tr = a*(t_inf-t_initial)+t_initial\n",
    "    temp.append(tr)"
   ]
  },
  {
   "cell_type": "markdown",
   "metadata": {},
   "source": [
    "Plot the given temperature for position $x=0$"
   ]
  },
  {
   "cell_type": "code",
   "execution_count": 8,
   "metadata": {},
   "outputs": [
    {
     "data": {
      "image/png": "[encoded data removed]",
      "text/plain": [
       "<Figure size 432x288 with 1 Axes>"
      ]
     },
     "metadata": {
      "needs_background": "light"
     },
     "output_type": "display_data"
    }
   ],
   "source": [
    "%matplotlib inline\n",
    "import matplotlib.pyplot as plt\n",
    "plt.plot(temp)\n",
    "plt.show()\n"
   ]
  },
  {
   "cell_type": "markdown",
   "metadata": {},
   "source": [
    "# Calculation of heat transfer"
   ]
  },
  {
   "cell_type": "markdown",
   "metadata": {},
   "source": [
    "In this section we solve general 2d heat equation using fipy library."
   ]
  },
  {
   "cell_type": "code",
   "execution_count": 9,
   "metadata": {},
   "outputs": [],
   "source": [
    "from fipy import *\n",
    "import numpy as np"
   ]
  },
  {
   "cell_type": "markdown",
   "metadata": {},
   "source": [
    "## Material properties"
   ]
  },
  {
   "cell_type": "markdown",
   "metadata": {},
   "source": [
    "Here we define the material properties for the AMZ4 bulk metallic glass. The data are taken from the thesis \"Modeling of Bulk Metallic glass formation in Powder Bed Fusion\" by Johan Lindwall.\n",
    "Data are saved in the text file for reading.\n",
    "Density is taken from the paper I.Jonas W.Hembree,F.Yang,R.Busch, and A.Meyer, Appl.Phys.Lett. 112, 171902 (2018)"
   ]
  },
  {
   "cell_type": "code",
   "execution_count": 10,
   "metadata": {},
   "outputs": [],
   "source": [
    "def densityAMZ4(T):\n",
    "    return 6.82 - 3.48E-4 * T # density in g/cm^3"
   ]
  },
  {
   "cell_type": "markdown",
   "metadata": {},
   "source": [
    "Interpolate the experimental data to get interpolating function:"
   ]
  },
  {
   "cell_type": "markdown",
   "metadata": {},
   "source": [
    "We now reading the data for cooling coeficient $h_{rc}$. This coefficient contains both contributions from the radiation and convection heat transfer. The data are taken from \"Analysis of temperature and microstructure in Quenching of steel cylinders\" by P.R. Woodward, S.R.Chandaseker and H.T.Y. Yang\n",
    "\n",
    "_For now this the cooling of the quenching steel_\n"
   ]
  },
  {
   "cell_type": "markdown",
   "metadata": {},
   "source": [
    "In this section we are reading the data from the Kissinger analysis to evaluate the values of the material parameters $k(T_j)$ and $n(T_j)$. Using the previous equations we can calculate the value of $k(T_j)$:\n",
    "$$\n",
    "k(T_j)=k_0 \\exp(-E/kT_j)\n",
    "$$\n",
    "and\n",
    "$$\n",
    "n(T_j)= const\n",
    "$$"
   ]
  },
  {
   "cell_type": "code",
   "execution_count": 11,
   "metadata": {},
   "outputs": [
    {
     "data": {
      "text/plain": [
       "0.00026079750161274424"
      ]
     },
     "execution_count": 11,
     "metadata": {},
     "output_type": "execute_result"
    }
   ],
   "source": [
    "k0 = 9.49E+7\n",
    "E = 88.8E+3\n",
    "Rt = 8.314 # universal gas constant\n",
    "def calcn(temperature):\n",
    "    #for now the n is temperature independent    \n",
    "    return 1.49\n",
    "          \n",
    "def calck(Fs,temperature):\n",
    "    #determine k\n",
    "    return -np.log(1-Fs)/(k0*np.exp(-E/(Rt*temperature)))\n",
    "    \n",
    "k=calck(0.005,693) #test calculations\n",
    "k"
   ]
  },
  {
   "cell_type": "markdown",
   "metadata": {},
   "source": [
    "Define some common mesh values for 2D heat flow. We create uniform cylinder mesh on which we solve axisymmetric case."
   ]
  },
  {
   "cell_type": "code",
   "execution_count": 12,
   "metadata": {},
   "outputs": [],
   "source": [
    "steps = 100\n",
    "N = 40\n",
    "L = 0.25*N/4000  # this is now in meters and it is about 2.5 mm\n",
    "dL = L / N\n",
    "dt = 1e-1\n",
    "mesh = CylindricalGrid2D(dx = dL, dy = dL, nx = N, ny = N)"
   ]
  },
  {
   "cell_type": "markdown",
   "metadata": {},
   "source": [
    "Also adds the fraction of different phases as cell variable, so we can calculate the contributions from different phases to heat equation."
   ]
  },
  {
   "cell_type": "code",
   "execution_count": 13,
   "metadata": {},
   "outputs": [],
   "source": [
    "fi = CellVariable(mesh=mesh, name='frac. amorphous', hasOld=True, value=0.0)\n",
    "fc = CellVariable(mesh=mesh, name='frac. crystalline', hasOld=True, value=0.0)\n",
    "xi = CellVariable(mesh=mesh, name='volume fract.',hasOld=True, value=0.)\n",
    "temperature = CellVariable(mesh = mesh, name='temperature',value=293., hasOld=True)\n",
    "tincubation = CellVariable(mesh = mesh, name='incubation', value=0., hasOld=True)\n",
    "laserSource = CellVariable(mesh = mesh, name='source', value=0.)\n",
    "n = CellVariable(mesh = mesh, name='jmak exponent', value=0.)\n",
    "k = CellVariable(mesh = mesh, name='jmak coeff', value=0.)\n",
    "(r,z) = mesh.cellCenters()"
   ]
  },
  {
   "cell_type": "markdown",
   "metadata": {},
   "source": [
    "Initial temperature of the cylinder and surface is set to:\n",
    "$T_o= 293$.\n",
    "Boundary condition at $y=0$ is given by surface heating condition:\n",
    "$$\n",
    "-k \\frac{\\partial T}{\\partial n} = q\n",
    "$$\n",
    "where q is given as the flux of the laser on the surface:\n",
    "$$\n",
    "q = Q exp((-2*(x-x_0)^2+(y-y_0)^2)/r_o^2)\n",
    "$$\n",
    "The boundary condition on the $x=0$ left side of the domain is isolated:\n",
    "$$\n",
    "-k \\frac{\\partial T}{\\partial n} = 0\n",
    "$$\n",
    "The temperature on the top and right side of cylinder are set to surounding temperature:\n",
    "$T_0 = T_{\\infty}$"
   ]
  },
  {
   "cell_type": "markdown",
   "metadata": {},
   "source": [
    "## Implementation of the body source\n",
    "For the source we implement the body source according to Goldak source:\n",
    "$$\n",
    "q = Q exp (-3 * (2(r-r_0)^2/\\omega_0^2+(z-z_0)^2/c^2))\n",
    "$$\n",
    "where\n",
    "$$\n",
    "Q = \\frac{6\\sqrt{3}P\\eta f}{\\omega^2_0 c \\pi\\sqrt{\\pi}}\n",
    "$$\n",
    "this is currently implemented as the source heat in this script"
   ]
  },
  {
   "cell_type": "code",
   "execution_count": 14,
   "metadata": {},
   "outputs": [],
   "source": [
    "from fipy.tools.numerix import sqrt, exp, pi\n",
    "# function parameters:\n",
    "# r-radius coordinate\n",
    "# z-depth coordinate\n",
    "# r0,z0 - laser coordinates\n",
    "# omega0 - spot size of the laser\n",
    "# c - depth of the laser pool\n",
    "# power - laser power\n",
    "def qlaser(r,z,r0,z0,omega0,c,power):\n",
    "    Q = 6*sqrt(3)*power/(pi*sqrt(pi)*c*omega0**2)\n",
    "    return Q * exp(-3 * (2*((r-r0)/omega0)**2+((z-z0)/c)**2) )   "
   ]
  },
  {
   "cell_type": "code",
   "execution_count": 15,
   "metadata": {},
   "outputs": [
    {
     "data": {
      "text/plain": [
       "array([1866268.34925476, 1866259.60114237, 1866242.10504062, ...,\n",
       "       1549346.28363577, 1549070.33090677, 1548787.16737061])"
      ]
     },
     "execution_count": 15,
     "metadata": {},
     "output_type": "execute_result"
    }
   ],
   "source": [
    "qlaser(r,z,0,0,0.1,0.01,100)"
   ]
  },
  {
   "cell_type": "code",
   "execution_count": null,
   "metadata": {},
   "outputs": [],
   "source": []
  },
  {
   "cell_type": "code",
   "execution_count": 16,
   "metadata": {},
   "outputs": [],
   "source": [
    "t_inf = 293\n",
    "#vh = np.vectorize(h)\n",
    "#temperature.faceGrad.dot([0,1]).constrain(-vh(temperature.faceValue)*1/k*(temperature.faceValue-t_inf),mesh.facesBottom)\n",
    "temperature.faceGrad.dot([0,1]).constrain(0,mesh.facesBottom)\n",
    "temperature.faceGrad.dot([1,0]).constrain(0,mesh.facesLeft)\n",
    "temperature.constrain(293, mesh.facesRight)\n",
    "#temperature.constrain(1173., mesh.facesTop)"
   ]
  },
  {
   "cell_type": "markdown",
   "metadata": {},
   "source": [
    "Calculation of the transformation time (incubation time) before start of diffusive reaction:"
   ]
  },
  {
   "cell_type": "code",
   "execution_count": 17,
   "metadata": {},
   "outputs": [],
   "source": [
    "def transformation_time(fc,k,n):\n",
    "    return (np.log(1./(1.-fc)) / k)**(1./n)\n",
    "def volume_fraction(time,k,n):\n",
    "    fc.setValue(1-np.exp(-k*time**n), where= tincubation > 1.)"
   ]
  },
  {
   "cell_type": "code",
   "execution_count": 18,
   "metadata": {},
   "outputs": [
    {
     "name": "stderr",
     "output_type": "stream",
     "text": [
      "/Users/toniivas/anaconda2/lib/python2.7/site-packages/fipy/variables/variable.py:1170: RuntimeWarning: divide by zero encountered in divide\n",
      "  return self._BinaryOperatorVariable(lambda a,b: b/a, other)\n",
      "/Users/toniivas/anaconda2/lib/python2.7/site-packages/matplotlib/ticker.py:2207: UserWarning: Data has no positive values, and therefore cannot be log-scaled.\n",
      "  \"Data has no positive values, and therefore cannot be \"\n"
     ]
    },
    {
     "data": {
      "image/png": "[encoded data removed]",
      "text/plain": [
       "<Figure size 432x288 with 1 Axes>"
      ]
     },
     "metadata": {
      "needs_background": "light"
     },
     "output_type": "display_data"
    }
   ],
   "source": [
    "transf = []\n",
    "temp = []\n",
    "for step in range(1,1200):\n",
    "    kt = k0*np.exp(-E/(Rt*(step+273)))\n",
    "    val = transformation_time(0.95,kt,n)\n",
    "    transf.append(val)\n",
    "    temp.append(step+273)\n",
    "plt.loglog(transf,temp)\n",
    "plt.show()"
   ]
  },
  {
   "cell_type": "markdown",
   "metadata": {},
   "source": [
    "Define the source term for the phase transformation effects. The phase transformation source contains the fraction of the amorphous phase transformed in crystalline and enthalpy of the formation.\n",
    "Singh and Dubey expressed the difference of specific heat between the undercooled liquid and the crystalline state:\n",
    "$$\n",
    "\\Delta C_p = C_{p,m}(\\frac{T_m}{T})^2\\exp(-\\sigma_D\\frac{\\Delta T}{T})\n",
    "$$\n",
    "where:\n",
    "$$\n",
    "\\sigma_D = \\frac{T_g}{T_m-T_g}\\ln((\\frac{T_m}{T_g})^2 \\frac{\\Delta C_{p,m}}{\\Delta C_{p,g}})\n",
    "$$\n"
   ]
  },
  {
   "cell_type": "code",
   "execution_count": 19,
   "metadata": {},
   "outputs": [],
   "source": [
    "Tg=470+273\n",
    "Tm=920+273\n",
    "deltaCpm = 20.18 # specific heat difference at melting J/g\n",
    "deltaCpg = 13.3 # specific heat diff. at glass transition J/g\n",
    "sigmaD = Tg/(Tm-Tg) * np.log((Tm/Tg)**2 * deltaCpm/deltaCpg)\n",
    "def deltaCp(T,deltaT):\n",
    "    return deltaCpm*(Tm/T)**2 * np.exp(-sigmaD * deltaT/T)\n",
    "def phaseSourceT(temp):\n",
    "    return TransientTerm(var=fi,coeff=deltaCp(temp,Tm-temp))+TransientTerm(var=fc,coeff=deltaCp(temp,Tm-temp))"
   ]
  },
  {
   "cell_type": "markdown",
   "metadata": {},
   "source": [
    "Now setup the temperature equation for source term comming from the phase transformations defined the flag phaseTrans.\n",
    "Here we added also same flux from the right side of the cylinder, assuming that the cooling liquid is also hitting the right side of cylinder."
   ]
  },
  {
   "cell_type": "code",
   "execution_count": 20,
   "metadata": {},
   "outputs": [],
   "source": [
    "rho = 6820 # for now the density is constant in temperature equation kg/m**3\n",
    "Cp = 500 # for now this is the constant value only for testing\n",
    "kv = np.vectorize(kAMZ4)\n",
    "\n",
    "def kM(T):\n",
    "    a = 5.225E-4\n",
    "    b = 1.031E+7\n",
    "    R = 8.134\n",
    "    c = 0.00623\n",
    "    d = -6.047E-7\n",
    "    return 3*R + c * T + d * T**(-2)\n",
    "\n",
    "laserSource.setValue(qlaser(r,z,0,0,0.001,0.0005,100))\n",
    "temperatureEq = TransientTerm(coeff=rho*Cp,var=temperature) == DiffusionTerm(coeff=20,var=temperature) + \\\n",
    "laserSource  "
   ]
  },
  {
   "cell_type": "code",
   "execution_count": 21,
   "metadata": {},
   "outputs": [
    {
     "data": {
      "text/plain": [
       "(1600,)"
      ]
     },
     "execution_count": 21,
     "metadata": {},
     "output_type": "execute_result"
    }
   ],
   "source": [
    "temperature.shape"
   ]
  },
  {
   "cell_type": "code",
   "execution_count": 22,
   "metadata": {},
   "outputs": [
    {
     "data": {
      "image/png": "[encoded data removed]",
      "text/plain": [
       "<Figure size 288x288 with 2 Axes>"
      ]
     },
     "metadata": {
      "needs_background": "light"
     },
     "output_type": "display_data"
    }
   ],
   "source": [
    "if __name__ == '__main__':\n",
    "    temperatureViewer = Viewer(vars=temperature,figaspect=1,datamin=0,datamax=1200)"
   ]
  },
  {
   "cell_type": "markdown",
   "metadata": {},
   "source": [
    "We step the solution in time, plotting as we go interactively"
   ]
  },
  {
   "cell_type": "code",
   "execution_count": 23,
   "metadata": {},
   "outputs": [
    {
     "name": "stdout",
     "output_type": "stream",
     "text": [
      "n = 1.49 and k = [358264.07589218 358264.07589218 358264.07589218 ... 358264.07589218\n",
      " 358264.07589218 358264.07589218]\n",
      "crystalline fraction: [0. 0. 0. ... 0. 0. 0.]\n",
      "full transformation time: [389977.0905385 389977.0905385 389977.0905385 ... 389977.0905385\n",
      " 389977.0905385 389977.0905385]\n",
      "[2.56425319e-07 2.56425319e-07 2.56425319e-07 ... 2.56425319e-07\n",
      " 2.56425319e-07 2.56425319e-07]\n",
      "0.0\n",
      "Residual 100000000000.000000\n",
      "Residual 1.024444\n",
      "step:  0 Min. temperature 293.1317430258184 Max. temperature 1109.0060276607135\n",
      "n = 1.49 and k = [8.04376508e-07 9.49947800e-07 1.32707572e-06 ... 3.29309799e+05\n",
      " 3.40813912e+05 3.52442365e+05]\n",
      "crystalline fraction: [0. 0. 0. ... 0. 0. 0.]\n",
      "full transformation time: [5.93048456e-03 6.63091780e-03 8.29890129e-03 ... 3.68532905e+05\n",
      " 3.77124517e+05 3.85712597e+05]\n",
      "[1.68620288e+01 1.50808688e+01 1.20497881e+01 ... 5.27771510e-07\n",
      " 5.21589729e-07 5.15685714e-07]\n",
      "1.6518097444295776e-06\n",
      "Residual 100000000000.000000\n",
      "Residual 0.264026\n",
      "step:  1 Min. temperature 293.361932656779 Max. temperature 1262.0129714594668\n",
      "n = 1.49 and k = [2.50236774e-07 2.87172948e-07 3.78571964e-07 ... 2.84540271e+05\n",
      " 3.12453070e+05 3.42508537e+05]\n",
      "crystalline fraction: [2.60291132e-08 3.07397078e-08 4.29433277e-08 ... 0.00000000e+00\n",
      " 0.00000000e+00 0.00000000e+00]\n",
      "full transformation time: [2.70862620e-03 2.97083272e-03 3.57617213e-03 ... 3.34106599e+05\n",
      " 3.55763123e+05 3.78381995e+05]\n",
      "[5.37811135e+01 4.87414649e+01 4.00126479e+01 ... 8.27077182e-07\n",
      " 8.02675635e-07 7.79968902e-07]\n",
      "2.3534930422286493e-06\n",
      "Residual 100000000000.000000\n",
      "Residual 0.148850\n",
      "step:  2 Min. temperature 293.604703937514 Max. temperature 1316.7894437667524\n",
      "n = 1.49 and k = [1.75975967e-07 1.99958069e-07 2.58328430e-07 ... 2.44239768e+05\n",
      " 2.85229815e+05 3.32351099e+05]\n",
      "crystalline fraction: [4.55925491e-08 5.33650748e-08 7.32424879e-08 ... 0.00000000e+00\n",
      " 0.00000000e+00 0.00000000e+00]\n",
      "full transformation time: [2.13861752e-03 2.33008498e-03 2.76710068e-03 ... 3.01557439e+05\n",
      " 3.34649779e+05 3.70813706e+05]\n",
      "[1.00540293e+02 9.16583546e+01 7.61515570e+01 ... 1.15868897e-06\n",
      " 1.10149549e-06 1.04964610e-06]\n",
      "4.36382556889825e-06\n",
      "Residual 100000000000.000000\n",
      "Residual 0.093979\n",
      "step:  3 Min. temperature 293.80958268601296 Max. temperature 1343.5384594111977\n",
      "n = 1.49 and k = [1.49733631e-07 1.69347656e-07 2.16711256e-07 ... 2.14931432e+05\n",
      " 2.64206570e+05 3.24026348e+05]\n",
      "crystalline fraction: [6.33899735e-08 7.37647389e-08 1.00070780e-07 ... 0.00000000e+00\n",
      " 0.00000000e+00 0.00000000e+00]\n",
      "full transformation time: [1.91894850e-03 2.08421445e-03 2.45936578e-03 ... 2.76764692e+05\n",
      " 3.17888070e+05 3.64554075e+05]\n",
      "[1.52652166e+02 1.39638062e+02 1.16812446e+02 ... 1.52000673e-06\n",
      " 1.41607163e-06 1.32395383e-06]\n",
      "7.983552159696039e-06\n",
      "Residual 100000000000.000000\n",
      "Residual 0.060410\n",
      "step:  4 Min. temperature 293.96370402104947 Max. temperature 1358.5185767293676\n",
      "n = 1.49 and k = [1.37166802e-07 1.54741665e-07 1.96998510e-07 ... 1.95346580e+05\n",
      " 2.49473583e+05 3.17909126e+05]\n",
      "crystalline fraction: [8.09194995e-08 9.37620707e-08 1.26118111e-07 ... 0.00000000e+00\n",
      " 0.00000000e+00 0.00000000e+00]\n",
      "full transformation time: [1.80930904e-03 1.96179001e-03 2.30688240e-03 ... 2.59574653e+05\n",
      " 3.05879264e+05 3.59920597e+05]\n",
      "[2.07921883e+02 1.90611917e+02 1.60160993e+02 ... 1.90525236e-06\n",
      " 1.74299801e-06 1.60179288e-06]\n",
      "1.2618824827725916e-05\n",
      "Residual 100000000000.000000\n",
      "Residual 0.039031\n",
      "step:  5 Min. temperature 294.0725807792618 Max. temperature 1367.4718930990284\n",
      "n = 1.49 and k = [1.30284686e-07 1.46759601e-07 1.86271660e-07 ... 1.82653959e+05\n",
      " 2.39590280e+05 3.13661218e+05]\n",
      "crystalline fraction: [9.86871005e-08 1.13971669e-07 1.52286156e-07 ... 0.00000000e+00\n",
      " 0.00000000e+00 0.00000000e+00]\n",
      "full transformation time: [1.74786934e-03 1.89328406e-03 2.22180474e-03 ... 2.48130751e+05\n",
      " 2.97692511e+05 3.56685768e+05]\n",
      "[2.65134398e+02 2.43430193e+02 2.05169449e+02 ... 2.30826569e-06\n",
      " 2.07891509e-06 1.88215170e-06]\n",
      "1.9471088785527613e-05\n",
      "Residual 100000000000.000000\n",
      "Residual 0.025269\n",
      "step:  6 Min. temperature 294.1468194374248 Max. temperature 1373.0074691784407\n",
      "n = 1.49 and k = [1.26245928e-07 1.42081353e-07 1.80001119e-07 ... 1.74501203e+05\n",
      " 2.33088935e+05 3.10799109e+05]\n",
      "crystalline fraction: [1.16917629e-07 1.34667025e-07 1.78976487e-07 ... 0.00000000e+00\n",
      " 0.00000000e+00 0.00000000e+00]\n",
      "full transformation time: [1.71131694e-03 1.85256392e-03 2.17132565e-03 ... 2.40641995e+05\n",
      " 2.92246573e+05 3.54498114e+05]\n",
      "[3.23568927e+02 2.97409437e+02 2.51224263e+02 ... 2.72382075e-06\n",
      " 2.42109190e-06 2.16424065e-06]\n",
      "3.0668384074949984e-05\n",
      "Residual 100000000000.000000\n",
      "Residual 0.016372\n",
      "step:  7 Min. temperature 294.1964185954183 Max. temperature 1376.495299623847\n",
      "n = 1.49 and k = [1.23781848e-07 1.39229406e-07 1.76184728e-07 ... 1.69269224e+05\n",
      " 2.28849349e+05 3.08902286e+05]\n",
      "crystalline fraction: [1.35724341e-07 1.55986596e-07 2.06393895e-07 ... 0.00000000e+00\n",
      " 0.00000000e+00 0.00000000e+00]\n",
      "full transformation time: [1.68882715e-03 1.82752388e-03 2.14031991e-03 ... 2.35775488e+05\n",
      " 2.88668309e+05 3.53044626e+05]\n",
      "[3.82781618e+02 3.52128285e+02 2.97946251e+02 ... 3.14795305e-06\n",
      " 2.76751025e-06 2.44749096e-06]\n",
      "4.5130991825126365e-05\n",
      "Residual 100000000000.000000\n",
      "Residual 0.010611\n",
      "step:  8 Min. temperature 294.2291626516465 Max. temperature 1378.7173408483022\n",
      "n = 1.49 and k = [1.22243518e-07 1.37449839e-07 1.73805831e-07 ... 1.65906220e+05\n",
      " 2.26095160e+05 3.07656750e+05]\n",
      "crystalline fraction: [1.55166109e-07 1.78003196e-07 2.34648040e-07 ... 0.00000000e+00\n",
      " 0.00000000e+00 0.00000000e+00]\n",
      "full transformation time: [1.67471209e-03 1.81181384e-03 2.12088114e-03 ... 2.32621276e+05\n",
      " 2.86332055e+05 3.52088606e+05]\n",
      "[4.42493374e+02 4.07321593e+02 3.45096465e+02 ... 3.57783634e-06\n",
      " 3.11675512e-06 2.73151038e-06]\n",
      "6.714538071050935e-05\n",
      "Residual 100000000000.000000\n",
      "Residual 0.006878\n",
      "step:  9 Min. temperature 294.250626349578 Max. temperature 1380.1424221259497\n",
      "n = 1.49 and k = [1.21269576e-07 1.36323531e-07 1.72301199e-07 ... 1.63740125e+05\n",
      " 2.24308796e+05 3.06843178e+05]\n",
      "crystalline fraction: [1.75271882e-07 2.00753584e-07 2.63796530e-07 ... 0.00000000e+00\n",
      " 0.00000000e+00 0.00000000e+00]\n",
      "full transformation time: [1.66574540e-03 1.80183622e-03 2.10854111e-03 ... 2.30578528e+05\n",
      " 2.84811758e+05 3.51463456e+05]\n",
      "[5.02526558e+02 4.62820533e+02 3.92522621e+02 ... 4.01152807e-06\n",
      " 3.46786422e-06 3.01603498e-06]\n",
      "9.98716697254709e-05\n",
      "Residual 100000000000.000000\n",
      "Residual 0.004459\n",
      "step:  10 Min. temperature 294.2646356411858 Max. temperature 1381.0601110300274\n",
      "n = 1.49 and k = [1.20647565e-07 1.35604364e-07 1.71340873e-07 ... 1.62342448e+05\n",
      " 2.23150882e+05 3.06313386e+05]\n",
      "crystalline fraction: [1.96052988e-07 2.24253301e-07 2.93866399e-07 ... 0.00000000e+00\n",
      " 0.00000000e+00 0.00000000e+00]\n",
      "full transformation time: [1.66000641e-03 1.79545115e-03 2.10064660e-03 ... 2.29255724e+05\n",
      " 2.83824181e+05 3.51056070e+05]\n",
      "[5.62767289e+02 5.18516841e+02 4.40127011e+02 ... 4.44772220e-06\n",
      " 3.82019502e-06 3.30088976e-06]\n",
      "0.0001369021131246706\n",
      "Residual 100000000000.000000\n",
      "Residual 0.002890\n",
      "step:  11 Min. temperature 294.2737556365649 Max. temperature 1381.6525493858037\n",
      "n = 1.49 and k = [1.20248142e-07 1.35142613e-07 1.70724453e-07 ... 1.61439342e+05\n",
      " 2.22400476e+05 3.05969013e+05]\n",
      "crystalline fraction: [2.17510053e-07 2.48504984e-07 3.24866051e-07 ... 0.00000000e+00\n",
      " 0.00000000e+00 0.00000000e+00]\n",
      "full transformation time: [1.65631600e-03 1.79134567e-03 2.09557156e-03 ... 2.28399004e+05\n",
      " 2.83183265e+05 3.50791138e+05]\n",
      "[6.23142242e+02 5.74340796e+02 4.87846689e+02 ... 4.88555248e-06\n",
      " 4.17332323e-06 3.58595967e-06]\n",
      "0.00017721418909200093\n",
      "Residual 100000000000.000000\n",
      "Residual 0.001874\n",
      "step:  12 Min. temperature 294.2796832166391 Max. temperature 1382.0356109123043\n",
      "n = 1.49 and k = [1.19990767e-07 1.34845103e-07 1.70327358e-07 ... 1.60855210e+05\n",
      " 2.21914176e+05 3.05745405e+05]\n",
      "crystalline fraction: [2.39637172e-07 2.73503369e-07 3.56792413e-07 ... 0.00000000e+00\n",
      " 0.00000000e+00 0.00000000e+00]\n",
      "full transformation time: [1.65393588e-03 1.78869801e-03 2.09229905e-03 ... 2.27844036e+05\n",
      " 2.82767540e+05 3.50619061e+05]\n",
      "[6.83604078e+02 6.30247382e+02 5.35641004e+02 ... 5.32444920e-06\n",
      " 4.52697061e-06 3.87116950e-06]\n",
      "0.00022804379132768116\n",
      "Residual 100000000000.000000\n",
      "Residual 0.001215\n",
      "step:  13 Min. temperature 294.2835320647679 Max. temperature 1382.283533303637\n",
      "n = 1.49 and k = [1.19824560e-07 1.34652988e-07 1.70070967e-07 ... 1.60477123e+05\n",
      " 2.21599017e+05 3.05600306e+05]\n",
      "crystalline fraction: [2.62424542e-07 2.99238427e-07 3.89635412e-07 ... 0.00000000e+00\n",
      " 0.00000000e+00 0.00000000e+00]\n",
      "full transformation time: [1.65239797e-03 1.78698730e-03 2.09018476e-03 ... 2.27484472e+05\n",
      " 2.82497959e+05 3.50507377e+05]\n",
      "[7.44122187e+02 6.86207489e+02 5.83483665e+02 ... 5.76403964e-06\n",
      " 4.88095547e-06 4.15647020e-06]\n",
      "0.00030459967662344045\n",
      "Residual 100000000000.000000\n",
      "Residual 0.000787\n",
      "step:  14 Min. temperature 294.28602963616595 Max. temperature 1382.4440891042793\n",
      "n = 1.49 and k = [1.19717078e-07 1.34528757e-07 1.69905183e-07 ... 1.60232278e+05\n",
      " 2.21394758e+05 3.05506188e+05]\n",
      "crystalline fraction: [2.85860142e-07 3.25697390e-07 4.23380835e-07 ... 0.00000000e+00\n",
      " 0.00000000e+00 0.00000000e+00]\n",
      "full transformation time: [1.65140306e-03 1.78588063e-03 2.08881710e-03 ... 2.27251474e+05\n",
      " 2.82323172e+05 3.50434925e+05]\n",
      "[8.04676755e+02 7.42202273e+02 6.31357651e+02 ... 6.20408079e-06\n",
      " 5.23515948e-06 4.44182988e-06]\n",
      "0.00039820417957159293\n",
      "Residual 100000000000.000000\n",
      "Residual 0.000510\n",
      "step:  15 Min. temperature 294.28764972781283 Max. temperature 1382.548105166326\n",
      "n = 1.49 and k = [1.19647511e-07 1.34448350e-07 1.69797888e-07 ... 1.60073667e+05\n",
      " 2.21262369e+05 3.05445153e+05]\n",
      "crystalline fraction: [3.09930829e-07 3.52866044e-07 4.58012191e-07 ... 0.00000000e+00\n",
      " 0.00000000e+00 0.00000000e+00]\n",
      "full transformation time: [1.65075896e-03 1.78516418e-03 2.08793171e-03 ... 2.27100475e+05\n",
      " 2.82209857e+05 3.50387937e+05]\n",
      "[8.65254952e+02 7.98219529e+02 6.79251937e+02 ... 6.64441452e-06\n",
      " 5.58950571e-06 4.72722784e-06]\n",
      "0.0004995315339751949\n",
      "Residual 100000000000.000000\n",
      "Residual 0.000331\n",
      "step:  16 Min. temperature 294.2887003781686 Max. temperature 1382.6155078708439\n",
      "n = 1.49 and k = [1.19602458e-07 1.34396279e-07 1.69728406e-07 ... 1.59970894e+05\n",
      " 2.21176557e+05 3.05405578e+05]\n",
      "crystalline fraction: [3.34623031e-07 3.80729576e-07 4.93511899e-07 ... 0.00000000e+00\n",
      " 0.00000000e+00 0.00000000e+00]\n",
      "full transformation time: [1.65034176e-03 1.78470014e-03 2.08735825e-03 ... 2.27002608e+05\n",
      " 2.82136397e+05 3.50357468e+05]\n",
      "[9.25848462e+02 8.54251351e+02 7.27159382e+02 ... 7.08493810e-06\n",
      " 5.94394421e-06 5.01265061e-06]\n",
      "0.0006080139996484935\n",
      "Residual 100000000000.000000\n",
      "Residual 0.000215\n",
      "step:  17 Min. temperature 294.2893816377038 Max. temperature 1382.659191455479\n",
      "n = 1.49 and k = [1.19573271e-07 1.34362545e-07 1.69683393e-07 ... 1.59904292e+05\n",
      " 2.21120934e+05 3.05379920e+05]\n",
      "crystalline fraction: [3.59923195e-07 4.09273101e-07 5.29862060e-07 ... 0.00000000e+00\n",
      " 0.00000000e+00 0.00000000e+00]\n",
      "full transformation time: [1.65007145e-03 1.78439948e-03 2.08698671e-03 ... 2.26939173e+05\n",
      " 2.82088775e+05 3.50337712e+05]\n",
      "[9.86451898e+02 9.10292614e+02 7.75075355e+02 ... 7.52558481e-06\n",
      " 6.29844254e-06 5.29808948e-06]\n",
      "0.000723195042555469\n",
      "Residual 100000000000.000000\n",
      "Residual 0.000139\n",
      "step:  18 Min. temperature 294.2898233371805 Max. temperature 1382.6875053245474\n",
      "n = 1.49 and k = [1.19554358e-07 1.34340686e-07 1.69654226e-07 ... 1.59861125e+05\n",
      " 2.21084878e+05 3.05363286e+05]\n",
      "crystalline fraction: [3.85818050e-07 4.38481987e-07 5.67044929e-07 ... 0.00000000e+00\n",
      " 0.00000000e+00 0.00000000e+00]\n",
      "full transformation time: [1.64989628e-03 1.78420464e-03 2.08674594e-03 ... 2.26898056e+05\n",
      " 2.82057904e+05 3.50324905e+05]\n",
      "[1.04706177e+03 9.66339996e+02 8.22996857e+02 ... 7.96631137e-06\n",
      " 6.65297967e-06 5.58353878e-06]\n",
      "0.0008446955827329239\n",
      "Residual 100000000000.000000\n",
      "Residual 0.000090\n",
      "step:  19 Min. temperature 294.29010969967993 Max. temperature 1382.7058582443183\n",
      "n = 1.49 and k = [1.19542100e-07 1.34326519e-07 1.69635323e-07 ... 1.59833146e+05\n",
      " 2.21061506e+05 3.05352502e+05]\n",
      "crystalline fraction: [4.12294771e-07 4.68342057e-07 6.05043204e-07 ... 0.00000000e+00\n",
      " 0.00000000e+00 0.00000000e+00]\n",
      "full transformation time: [1.64978275e-03 1.78407836e-03 2.08658990e-03 ... 2.26871403e+05\n",
      " 2.82037891e+05 3.50316601e+05]\n",
      "[1.10767581e+03 1.02239135e+03 8.70921943e+02 ... 8.40708971e-06\n",
      " 7.00754196e-06 5.86899485e-06]\n",
      "0.0010005417282605844\n",
      "Residual 100000000000.000000\n",
      "Residual 0.000058\n",
      "step:  20 Min. temperature 294.2902953474642 Max. temperature 1382.7177549504122\n",
      "n = 1.49 and k = [1.19534156e-07 1.34317337e-07 1.69623071e-07 ... 1.59815010e+05\n",
      " 2.21046355e+05 3.05345511e+05]\n",
      "crystalline fraction: [4.39341056e-07 4.98839685e-07 6.43840191e-07 ... 0.00000000e+00\n",
      " 0.00000000e+00 0.00000000e+00]\n",
      "full transformation time: [1.64970917e-03 1.78399651e-03 2.08648875e-03 ... 2.26854125e+05\n",
      " 2.82024918e+05 3.50311219e+05]\n",
      "[1.16829255e+03 1.07844527e+03 9.18849352e+02 ... 8.84790162e-06\n",
      " 7.36212056e-06 6.15445530e-06]\n",
      "0.0011916641122078353\n",
      "Residual 100000000000.000000\n",
      "Residual 0.000038\n",
      "step:  21 Min. temperature 294.2904156995523 Max. temperature 1382.7254667912875\n",
      "n = 1.49 and k = [1.19529006e-07 1.34311385e-07 1.69615130e-07 ... 1.59803254e+05\n",
      " 2.21036534e+05 3.05340979e+05]\n",
      "crystalline fraction: [4.66945167e-07 5.29961848e-07 6.83419886e-07 ... 0.00000000e+00\n",
      " 0.00000000e+00 0.00000000e+00]\n",
      "full transformation time: [1.64966147e-03 1.78394346e-03 2.08642319e-03 ... 2.26842925e+05\n",
      " 2.82016508e+05 3.50307729e+05]\n",
      "[1.22891105e+03 1.13450086e+03 9.66778268e+02 ... 9.28873529e-06\n",
      " 7.71670973e-06 6.43991860e-06]\n",
      "0.0013933970105379778\n",
      "Residual 100000000000.000000\n",
      "Residual 0.000025\n",
      "step:  22 Min. temperature 294.29049372052987 Max. temperature 1382.73046593345\n",
      "n = 1.49 and k = [1.19525668e-07 1.34307527e-07 1.69609982e-07 ... 1.59795633e+05\n",
      " 2.21030167e+05 3.05338041e+05]\n",
      "crystalline fraction: [4.95095932e-07 5.61696142e-07 7.23767005e-07 ... 0.00000000e+00\n",
      " 0.00000000e+00 0.00000000e+00]\n",
      "full transformation time: [1.64963055e-03 1.78390907e-03 2.08638069e-03 ... 2.26835665e+05\n",
      " 2.82011056e+05 3.50305467e+05]\n",
      "[1.28953069e+03 1.19055752e+03 1.01470816e+03 ... 9.72958307e-06\n",
      " 8.07130576e-06 6.72538375e-06]\n",
      "0.0016051816948445818\n",
      "Residual 100000000000.000000\n",
      "Residual 0.000016\n",
      "step:  23 Min. temperature 294.29054429895837 Max. temperature 1382.7337066177602\n",
      "n = 1.49 and k = [1.19523504e-07 1.34305026e-07 1.69606645e-07 ... 1.59790693e+05\n",
      " 2.21026040e+05 3.05336136e+05]\n",
      "crystalline fraction: [5.23782735e-07 5.94030766e-07 7.64866984e-07 ... 0.00000000e+00\n",
      " 0.00000000e+00 0.00000000e+00]\n",
      "full transformation time: [1.64961051e-03 1.78388677e-03 2.08635315e-03 ... 2.26830959e+05\n",
      " 2.82007522e+05 3.50304000e+05]\n",
      "[1.35015106e+03 1.24661489e+03 1.06263868e+03 ... 1.01704400e-05\n",
      " 8.42590623e-06 7.01085008e-06]\n",
      "0.0018449277691842125\n",
      "Residual 100000000000.000000\n",
      "Residual 0.000010\n",
      "step:  24 Min. temperature 294.2905770871069 Max. temperature 1382.7358073966675\n",
      "n = 1.49 and k = [1.19522102e-07 1.34303405e-07 1.69604482e-07 ... 1.59787491e+05\n",
      " 2.21023365e+05 3.05334901e+05]\n",
      "crystalline fraction: [5.52995489e-07 6.26954503e-07 8.06705963e-07 ... 0.00000000e+00\n",
      " 0.00000000e+00 0.00000000e+00]\n",
      "full transformation time: [1.64959751e-03 1.78387232e-03 2.08633529e-03 ... 2.26827908e+05\n",
      " 2.82005231e+05 3.50303050e+05]\n",
      "[1.41077190e+03 1.30267272e+03 1.11056962e+03 ... 1.06113029e-05\n",
      " 8.78050958e-06 7.29631720e-06]\n",
      "0.0021579096624577687\n",
      "Residual 100000000000.000000\n",
      "step:  25 Min. temperature 294.29059834239354 Max. temperature 1382.737169234702\n",
      "n = 1.49 and k = [1.19521192e-07 1.34302354e-07 1.69603080e-07 ... 1.59785415e+05\n",
      " 2.21021630e+05 3.05334101e+05]\n",
      "crystalline fraction: [5.82724615e-07 6.60456693e-07 8.49270747e-07 ... 0.00000000e+00\n",
      " 0.00000000e+00 0.00000000e+00]\n",
      "full transformation time: [1.64958909e-03 1.78386295e-03 2.08632371e-03 ... 2.26825930e+05\n",
      " 2.82003746e+05 3.50302433e+05]\n",
      "[1.47139306e+03 1.35873084e+03 1.15850082e+03 ... 1.10521696e-05\n",
      " 9.13511480e-06 7.58178481e-06]\n",
      "0.002486504302539161\n",
      "Residual 100000000000.000000\n",
      "step:  26 Min. temperature 294.290612121343 Max. temperature 1382.738052053352\n",
      "n = 1.49 and k = [1.19520603e-07 1.34301673e-07 1.69602171e-07 ... 1.59784069e+05\n",
      " 2.21020506e+05 3.05333582e+05]\n",
      "crystalline fraction: [6.12961006e-07 6.94527196e-07 8.92548776e-07 ... 0.00000000e+00\n",
      " 0.00000000e+00 0.00000000e+00]\n",
      "full transformation time: [1.64958363e-03 1.78385688e-03 2.08631621e-03 ... 2.26824648e+05\n",
      " 2.82002783e+05 3.50302034e+05]\n",
      "[1.53201442e+03 1.41478914e+03 1.20643219e+03 ... 1.14930388e-05\n",
      " 9.48972123e-06 7.86725275e-06]\n",
      "0.0028299512910600066\n",
      "Residual 100000000000.000000\n",
      "step:  27 Min. temperature 294.29062105367115 Max. temperature 1382.7386243459418\n",
      "n = 1.49 and k = [1.19520221e-07 1.34301231e-07 1.69601582e-07 ... 1.59783197e+05\n",
      " 2.21019777e+05 3.05333246e+05]\n",
      "crystalline fraction: [6.43695996e-07 7.29156360e-07 9.36528088e-07 ... 0.00000000e+00\n",
      " 0.00000000e+00 0.00000000e+00]\n",
      "full transformation time: [1.64958009e-03 1.78385294e-03 2.08631134e-03 ... 2.26823817e+05\n",
      " 2.82002159e+05 3.50301775e+05]\n",
      "[1.59263591e+03 1.47084758e+03 1.25436368e+03 ... 1.19339096e-05\n",
      " 9.84432844e-06 8.15272090e-06]\n",
      "0.003187586300627321\n",
      "Residual 100000000000.000000\n",
      "step:  28 Min. temperature 294.2906268441285 Max. temperature 1382.7389953384234\n",
      "n = 1.49 and k = [1.19519973e-07 1.34300945e-07 1.69601200e-07 ... 1.59782631e+05\n",
      " 2.21019305e+05 3.05333028e+05]\n",
      "crystalline fraction: [6.74921334e-07 7.64334990e-07 9.81197275e-07 ... 0.00000000e+00\n",
      " 0.00000000e+00 0.00000000e+00]\n",
      "full transformation time: [1.64957780e-03 1.78385039e-03 2.08630819e-03 ... 2.26823278e+05\n",
      " 2.82001754e+05 3.50301607e+05]\n",
      "[1.65325748e+03 1.52690609e+03 1.30229523e+03 ... 1.23747814e-05\n",
      " 1.01989362e-05 8.43818919e-06]\n",
      "0.003563265805053173\n",
      "Residual 100000000000.000000\n",
      "step:  29 Min. temperature 294.29063059783954 Max. temperature 1382.7392358368947\n",
      "n = 1.49 and k = [1.19519813e-07 1.34300760e-07 1.69600952e-07 ... 1.59782265e+05\n",
      " 2.21018998e+05 3.05332886e+05]\n",
      "crystalline fraction: [7.06629150e-07 8.00054318e-07 1.02654545e-06 ... 0.00000000e+00\n",
      " 0.00000000e+00 0.00000000e+00]\n",
      "full transformation time: [1.64957631e-03 1.78384874e-03 2.08630614e-03 ... 2.26822929e+05\n",
      " 2.82001492e+05 3.50301498e+05]\n",
      "[1.71387911e+03 1.58296465e+03 1.35022684e+03 ... 1.28156540e-05\n",
      " 1.05535442e-05 8.72365757e-06]\n",
      "0.0039782469334822546\n",
      "Residual 100000000000.000000\n",
      "step:  30 Min. temperature 294.2906330312125 Max. temperature 1382.7393917417637\n",
      "n = 1.49 and k = [1.19519708e-07 1.34300639e-07 1.69600792e-07 ... 1.59782027e+05\n",
      " 2.21018800e+05 3.05332795e+05]\n",
      "crystalline fraction: [7.38811934e-07 8.36305969e-07 1.07256221e-06 ... 0.00000000e+00\n",
      " 0.00000000e+00 0.00000000e+00]\n",
      "full transformation time: [1.64957535e-03 1.78384766e-03 2.08630482e-03 ... 2.26822702e+05\n",
      " 2.82001322e+05 3.50301428e+05]\n",
      "[1.77450077e+03 1.63902325e+03 1.39815847e+03 ... 1.32565269e-05\n",
      " 1.09081525e-05 9.00912600e-06]\n",
      "0.004435357958460839\n",
      "Residual 100000000000.000000\n",
      "step:  31 Min. temperature 294.2906346086653 Max. temperature 1382.7394928082394\n",
      "n = 1.49 and k = [1.19519641e-07 1.34300561e-07 1.69600688e-07 ... 1.59781873e+05\n",
      " 2.21018671e+05 3.05332735e+05]\n",
      "crystalline fraction: [7.71462507e-07 8.73081938e-07 1.11923761e-06 ... 0.00000000e+00\n",
      " 0.00000000e+00 0.00000000e+00]\n",
      "full transformation time: [1.64957472e-03 1.78384697e-03 2.08630396e-03 ... 2.26822556e+05\n",
      " 2.82001212e+05 3.50301382e+05]\n",
      "[1.83512246e+03 1.69508187e+03 1.44609013e+03 ... 1.36974002e-05\n",
      " 1.12627609e-05 9.29459447e-06]\n",
      "0.004914260858098873\n",
      "Residual 100000000000.000000\n",
      "step:  32 Min. temperature 294.29063563126135 Max. temperature 1382.739558325334\n",
      "n = 1.49 and k = [1.19519597e-07 1.34300511e-07 1.69600620e-07 ... 1.59781773e+05\n",
      " 2.21018588e+05 3.05332697e+05]\n",
      "crystalline fraction: [8.04574001e-07 9.10374564e-07 1.16656212e-06 ... 0.00000000e+00\n",
      " 0.00000000e+00 0.00000000e+00]\n",
      "full transformation time: [1.64957432e-03 1.78384652e-03 2.08630340e-03 ... 2.26822460e+05\n",
      " 2.82001140e+05 3.50301352e+05]\n",
      "[1.89574416e+03 1.75114051e+03 1.49402179e+03 ... 1.41382737e-05\n",
      " 1.16173694e-05 9.58006297e-06]\n",
      "0.005481905943701126\n",
      "Residual 100000000000.000000\n",
      "step:  33 Min. temperature 294.29063629416703 Max. temperature 1382.7396007972777\n",
      "n = 1.49 and k = [1.19519569e-07 1.34300478e-07 1.69600577e-07 ... 1.59781708e+05\n",
      " 2.21018533e+05 3.05332672e+05]\n",
      "crystalline fraction: [8.38139834e-07 9.48176505e-07 1.21452661e-06 ... 0.00000000e+00\n",
      " 0.00000000e+00 0.00000000e+00]\n",
      "full transformation time: [1.64957405e-03 1.78384623e-03 2.08630304e-03 ... 2.26822399e+05\n",
      " 2.82001094e+05 3.50301333e+05]\n",
      "[1.95636587e+03 1.80719915e+03 1.54195347e+03 ... 1.45791472e-05\n",
      " 1.19719779e-05 9.86553148e-06]\n",
      "0.006073553137929788\n",
      "Residual 100000000000.000000\n",
      "step:  34 Min. temperature 294.29063672390066 Max. temperature 1382.739628330034\n",
      "n = 1.49 and k = [1.19519551e-07 1.34300457e-07 1.69600548e-07 ... 1.59781666e+05\n",
      " 2.21018498e+05 3.05332656e+05]\n",
      "crystalline fraction: [8.72153697e-07 9.86480719e-07 1.26312232e-06 ... 0.00000000e+00\n",
      " 0.00000000e+00 0.00000000e+00]\n",
      "full transformation time: [1.64957388e-03 1.78384604e-03 2.08630281e-03 ... 2.26822359e+05\n",
      " 2.82001064e+05 3.50301321e+05]\n",
      "[2.01698758e+03 1.86325780e+03 1.58988515e+03 ... 1.50200209e-05\n",
      " 1.23265865e-05 1.01510000e-05]\n",
      "0.006684485708970733\n",
      "Residual 100000000000.000000\n",
      "step:  35 Min. temperature 294.2906370024788 Max. temperature 1382.739646178352\n",
      "n = 1.49 and k = [1.19519539e-07 1.34300443e-07 1.69600530e-07 ... 1.59781639e+05\n",
      " 2.21018476e+05 3.05332645e+05]\n",
      "crystalline fraction: [9.06609531e-07 1.02528045e-06 1.31234082e-06 ... 0.00000000e+00\n",
      " 0.00000000e+00 0.00000000e+00]\n",
      "full transformation time: [1.64957377e-03 1.78384591e-03 2.08630266e-03 ... 2.26822333e+05\n",
      " 2.82001045e+05 3.50301313e+05]\n",
      "[2.07760930e+03 1.91931645e+03 1.63781683e+03 ... 1.54608946e-05\n",
      " 1.26811951e-05 1.04364685e-05]\n",
      "0.0073140317037857505\n",
      "Residual 100000000000.000000\n",
      "step:  36 Min. temperature 294.2906371830692 Max. temperature 1382.7396577486581\n",
      "n = 1.49 and k = [1.19519531e-07 1.34300434e-07 1.69600518e-07 ... 1.59781622e+05\n",
      " 2.21018461e+05 3.05332639e+05]\n",
      "crystalline fraction: [9.41501512e-07 1.06456918e-06 1.36217402e-06 ... 0.00000000e+00\n",
      " 0.00000000e+00 0.00000000e+00]\n",
      "full transformation time: [1.64957370e-03 1.78384584e-03 2.08630256e-03 ... 2.26822316e+05\n",
      " 2.82001032e+05 3.50301307e+05]\n",
      "[2.13823103e+03 1.97537511e+03 1.68574852e+03 ... 1.59017683e-05\n",
      " 1.30358038e-05 1.07219371e-05]\n",
      "0.007961577077750692\n",
      "Residual 100000000000.000000\n",
      "step:  37 Min. temperature 294.29063730013826 Max. temperature 1382.7396652491966\n",
      "n = 1.49 and k = [1.19519526e-07 1.34300428e-07 1.69600510e-07 ... 1.59781610e+05\n",
      " 2.21018451e+05 3.05332634e+05]\n",
      "crystalline fraction: [9.76824041e-07 1.10434068e-06 1.41261413e-06 ... 0.00000000e+00\n",
      " 0.00000000e+00 0.00000000e+00]\n",
      "full transformation time: [1.64957365e-03 1.78384578e-03 2.08630249e-03 ... 2.26822305e+05\n",
      " 2.82001024e+05 3.50301304e+05]\n",
      "[2.19885275e+03 2.03143377e+03 1.73368021e+03 ... 1.63426420e-05\n",
      " 1.33904124e-05 1.10074056e-05]\n",
      "0.008653202262999926\n",
      "Residual 100000000000.000000\n",
      "step:  38 Min. temperature 294.2906373760291 Max. temperature 1382.7396701114767\n",
      "n = 1.49 and k = [1.19519523e-07 1.34300424e-07 1.69600505e-07 ... 1.59781603e+05\n",
      " 2.21018445e+05 3.05332631e+05]\n",
      "crystalline fraction: [1.01257172e-06 1.14458891e-06 1.46365365e-06 ... 0.00000000e+00\n",
      " 0.00000000e+00 0.00000000e+00]\n",
      "full transformation time: [1.64957362e-03 1.78384575e-03 2.08630245e-03 ... 2.26822298e+05\n",
      " 2.82001018e+05 3.50301302e+05]\n",
      "[2.25947448e+03 2.08749243e+03 1.78161190e+03 ... 1.67835158e-05\n",
      " 1.37450211e-05 1.12928741e-05]\n",
      "0.009418787715145593\n",
      "Residual 100000000000.000000\n",
      "step:  39 Min. temperature 294.29063742522595 Max. temperature 1382.7396732634882\n",
      "n = 1.49 and k = [1.19519521e-07 1.34300422e-07 1.69600502e-07 ... 1.59781598e+05\n",
      " 2.21018441e+05 3.05332629e+05]\n",
      "crystalline fraction: [1.04873936e-06 1.18530807e-06 1.51528533e-06 ... 0.00000000e+00\n",
      " 0.00000000e+00 0.00000000e+00]\n",
      "full transformation time: [1.64957360e-03 1.78384573e-03 2.08630243e-03 ... 2.26822294e+05\n",
      " 2.82001015e+05 3.50301300e+05]\n",
      "[2.32009620e+03 2.14355109e+03 1.82954359e+03 ... 1.72243896e-05\n",
      " 1.40996297e-05 1.15783427e-05]\n",
      "0.010204891872344413\n",
      "Residual 100000000000.000000\n",
      "step:  40 Min. temperature 294.2906374571182 Max. temperature 1382.7396753068026\n",
      "n = 1.49 and k = [1.19519519e-07 1.34300420e-07 1.69600500e-07 ... 1.59781595e+05\n",
      " 2.21018439e+05 3.05332628e+05]\n",
      "crystalline fraction: [1.08532193e-06 1.22649255e-06 1.56750218e-06 ... 0.00000000e+00\n",
      " 0.00000000e+00 0.00000000e+00]\n",
      "full transformation time: [1.64957359e-03 1.78384571e-03 2.08630241e-03 ... 2.26822291e+05\n",
      " 2.82001013e+05 3.50301299e+05]\n",
      "[2.38071793e+03 2.19960975e+03 1.87747527e+03 ... 1.76652633e-05\n",
      " 1.44542384e-05 1.18638112e-05]\n",
      "0.011028399388995469\n",
      "Residual 100000000000.000000\n",
      "step:  41 Min. temperature 294.2906374777926 Max. temperature 1382.7396766313966\n",
      "n = 1.49 and k = [1.19519518e-07 1.34300419e-07 1.69600498e-07 ... 1.59781593e+05\n",
      " 2.21018437e+05 3.05332627e+05]\n",
      "crystalline fraction: [1.12231460e-06 1.26813695e-06 1.62029747e-06 ... 0.00000000e+00\n",
      " 0.00000000e+00 0.00000000e+00]\n",
      "full transformation time: [1.64957358e-03 1.78384571e-03 2.08630240e-03 ... 2.26822289e+05\n",
      " 2.82001011e+05 3.50301299e+05]\n",
      "[2.44133966e+03 2.25566841e+03 1.92540696e+03 ... 1.81061371e-05\n",
      " 1.48088470e-05 1.21492797e-05]\n",
      "0.011899058718057853\n",
      "Residual 100000000000.000000\n",
      "step:  42 Min. temperature 294.29063749119496 Max. temperature 1382.7396774900744\n",
      "n = 1.49 and k = [1.19519518e-07 1.34300419e-07 1.69600498e-07 ... 1.59781591e+05\n",
      " 2.21018436e+05 3.05332627e+05]\n",
      "crystalline fraction: [1.15971269e-06 1.31023604e-06 1.67366466e-06 ... 0.00000000e+00\n",
      " 0.00000000e+00 0.00000000e+00]\n",
      "full transformation time: [1.64957358e-03 1.78384570e-03 2.08630239e-03 ... 2.26822287e+05\n",
      " 2.82001010e+05 3.50301298e+05]\n",
      "[2.50196139e+03 2.31172707e+03 1.97333866e+03 ... 1.85470109e-05\n",
      " 1.51634557e-05 1.24347483e-05]\n",
      "0.012790523739373838\n",
      "Residual 100000000000.000000\n",
      "step:  43 Min. temperature 294.290637499883 Max. temperature 1382.7396780467186\n",
      "n = 1.49 and k = [1.19519517e-07 1.34300418e-07 1.69600497e-07 ... 1.59781591e+05\n",
      " 2.21018435e+05 3.05332627e+05]\n",
      "crystalline fraction: [1.19751167e-06 1.35278477e-06 1.72759746e-06 ... 0.00000000e+00\n",
      " 0.00000000e+00 0.00000000e+00]\n",
      "full transformation time: [1.64957358e-03 1.78384570e-03 2.08630239e-03 ... 2.26822287e+05\n",
      " 2.82001010e+05 3.50301298e+05]\n",
      "[2.56258311e+03 2.36778573e+03 2.02127035e+03 ... 1.89878847e-05\n",
      " 1.55180643e-05 1.27202168e-05]\n",
      "0.01370220678087486\n",
      "Residual 100000000000.000000\n",
      "step:  44 Min. temperature 294.29063750551524 Max. temperature 1382.7396784075688\n",
      "n = 1.49 and k = [1.19519517e-07 1.34300418e-07 1.69600497e-07 ... 1.59781590e+05\n",
      " 2.21018435e+05 3.05332626e+05]\n",
      "crystalline fraction: [1.23570717e-06 1.39577824e-06 1.78208974e-06 ... 0.00000000e+00\n",
      " 0.00000000e+00 0.00000000e+00]\n",
      "full transformation time: [1.64957357e-03 1.78384569e-03 2.08630238e-03 ... 2.26822286e+05\n",
      " 2.82001009e+05 3.50301298e+05]\n",
      "[2.62320484e+03 2.42384439e+03 2.06920204e+03 ... 1.94287585e-05\n",
      " 1.58726730e-05 1.30056854e-05]\n",
      "0.01464952910134587\n",
      "Residual 100000000000.000000\n",
      "step:  45 Min. temperature 294.29063750916634 Max. temperature 1382.7396786414906\n",
      "n = 1.49 and k = [1.19519517e-07 1.34300418e-07 1.69600496e-07 ... 1.59781590e+05\n",
      " 2.21018434e+05 3.05332626e+05]\n",
      "crystalline fraction: [1.27429495e-06 1.43921171e-06 1.83713560e-06 ... 0.00000000e+00\n",
      " 0.00000000e+00 0.00000000e+00]\n",
      "full transformation time: [1.64957357e-03 1.78384569e-03 2.08630238e-03 ... 2.26822286e+05\n",
      " 2.82001009e+05 3.50301298e+05]\n",
      "[2.68382657e+03 2.47990305e+03 2.11713373e+03 ... 1.98696323e-05\n",
      " 1.62272817e-05 1.32911539e-05]\n",
      "0.015745427698857783\n",
      "Residual 100000000000.000000\n",
      "step:  46 Min. temperature 294.2906375115332 Max. temperature 1382.739678793135\n",
      "n = 1.49 and k = [1.19519517e-07 1.34300418e-07 1.69600496e-07 ... 1.59781589e+05\n",
      " 2.21018434e+05 3.05332626e+05]\n",
      "crystalline fraction: [1.3132709e-06 1.4830806e-06 1.8927293e-06 ... 0.0000000e+00 0.0000000e+00\n",
      " 0.0000000e+00]\n",
      "full transformation time: [1.64957357e-03 1.78384569e-03 2.08630238e-03 ... 2.26822285e+05\n",
      " 2.82001009e+05 3.50301298e+05]\n",
      "[2.74444830e+03 2.53596171e+03 2.16506542e+03 ... 2.03105061e-05\n",
      " 1.65818903e-05 1.35766224e-05]\n",
      "0.016865942856719607\n",
      "Residual 100000000000.000000\n",
      "step:  47 Min. temperature 294.2906375130675 Max. temperature 1382.7396788914377\n",
      "n = 1.49 and k = [1.19519517e-07 1.34300418e-07 1.69600496e-07 ... 1.59781589e+05\n",
      " 2.21018434e+05 3.05332626e+05]\n",
      "crystalline fraction: [1.35263103e-06 1.52738045e-06 1.94886528e-06 ... 0.00000000e+00\n",
      " 0.00000000e+00 0.00000000e+00]\n",
      "full transformation time: [1.64957357e-03 1.78384569e-03 2.08630238e-03 ... 2.26822285e+05\n",
      " 2.82001009e+05 3.50301298e+05]\n",
      "[2.80507002e+03 2.59202037e+03 2.21299711e+03 ... 2.07513798e-05\n",
      " 1.69364990e-05 1.38620910e-05]\n",
      "0.018034730866894\n",
      "Residual 100000000000.000000\n",
      "step:  48 Min. temperature 294.29063751406215 Max. temperature 1382.7396789551622\n",
      "n = 1.49 and k = [1.19519517e-07 1.34300418e-07 1.69600496e-07 ... 1.59781589e+05\n",
      " 2.21018434e+05 3.05332626e+05]\n",
      "crystalline fraction: [1.39237149e-06 1.57210694e-06 2.00553813e-06 ... 0.00000000e+00\n",
      " 0.00000000e+00 0.00000000e+00]\n",
      "full transformation time: [1.64957357e-03 1.78384569e-03 2.08630238e-03 ... 2.26822285e+05\n",
      " 2.82001009e+05 3.50301298e+05]\n",
      "[2.86569175e+03 2.64807903e+03 2.26092880e+03 ... 2.11922536e-05\n",
      " 1.72911077e-05 1.41475595e-05]\n",
      "0.019316564297232275\n",
      "Residual 100000000000.000000\n",
      "step:  49 Min. temperature 294.290637514707 Max. temperature 1382.7396789964716\n",
      "n = 1.49 and k = [1.19519517e-07 1.34300418e-07 1.69600496e-07 ... 1.59781589e+05\n",
      " 2.21018434e+05 3.05332626e+05]\n",
      "crystalline fraction: [1.43248852e-06 1.61725588e-06 2.06274262e-06 ... 0.00000000e+00\n",
      " 0.00000000e+00 0.00000000e+00]\n",
      "full transformation time: [1.64957357e-03 1.78384569e-03 2.08630238e-03 ... 2.26822285e+05\n",
      " 2.82001009e+05 3.50301298e+05]\n",
      "[2.92631348e+03 2.70413769e+03 2.30886049e+03 ... 2.16331274e-05\n",
      " 1.76457163e-05 1.44330281e-05]\n",
      "0.020625545266997114\n",
      "Residual 100000000000.000000\n",
      "step:  50 Min. temperature 294.2906375151249 Max. temperature 1382.7396790232535\n",
      "n = 1.49 and k = [1.19519517e-07 1.34300418e-07 1.69600496e-07 ... 1.59781589e+05\n",
      " 2.21018434e+05 3.05332626e+05]\n",
      "crystalline fraction: [1.47297848e-06 1.66282319e-06 2.12047366e-06 ... 0.00000000e+00\n",
      " 0.00000000e+00 0.00000000e+00]\n",
      "full transformation time: [1.64957357e-03 1.78384569e-03 2.08630238e-03 ... 2.26822285e+05\n",
      " 2.82001009e+05 3.50301298e+05]\n",
      "[2.98693521e+03 2.76019635e+03 2.35679218e+03 ... 2.20740012e-05\n",
      " 1.80003250e-05 1.47184966e-05]\n",
      "0.021960915099361156\n",
      "Residual 100000000000.000000\n",
      "step:  51 Min. temperature 294.2906375153959 Max. temperature 1382.7396790406156\n",
      "n = 1.49 and k = [1.19519517e-07 1.34300418e-07 1.69600496e-07 ... 1.59781589e+05\n",
      " 2.21018434e+05 3.05332626e+05]\n",
      "crystalline fraction: [1.51383783e-06 1.70880491e-06 2.17872628e-06 ... 0.00000000e+00\n",
      " 0.00000000e+00 0.00000000e+00]\n",
      "full transformation time: [1.64957357e-03 1.78384569e-03 2.08630238e-03 ... 2.26822285e+05\n",
      " 2.82001009e+05 3.50301298e+05]\n",
      "[3.04755694e+03 2.81625501e+03 2.40472387e+03 ... 2.25148750e-05\n",
      " 1.83549336e-05 1.50039651e-05]\n",
      "0.02332195749117061\n",
      "Residual 100000000000.000000\n",
      "step:  52 Min. temperature 294.2906375155715 Max. temperature 1382.739679051868\n",
      "n = 1.49 and k = [1.19519517e-07 1.34300418e-07 1.69600496e-07 ... 1.59781589e+05\n",
      " 2.21018434e+05 3.05332626e+05]\n",
      "crystalline fraction: [1.55506312e-06 1.75519719e-06 2.23749568e-06 ... 0.00000000e+00\n",
      " 0.00000000e+00 0.00000000e+00]\n",
      "full transformation time: [1.64957357e-03 1.78384569e-03 2.08630238e-03 ... 2.26822285e+05\n",
      " 2.82001009e+05 3.50301298e+05]\n",
      "[3.10817866e+03 2.87231367e+03 2.45265556e+03 ... 2.29557488e-05\n",
      " 1.87095423e-05 1.52894337e-05]\n",
      "0.024707994251611187\n",
      "Residual 100000000000.000000\n",
      "step:  53 Min. temperature 294.29063751568543 Max. temperature 1382.739679059164\n",
      "n = 1.49 and k = [1.19519517e-07 1.34300418e-07 1.69600496e-07 ... 1.59781589e+05\n",
      " 2.21018434e+05 3.05332626e+05]\n",
      "crystalline fraction: [1.59665100e-06 1.80199628e-06 2.29677716e-06 ... 0.00000000e+00\n",
      " 0.00000000e+00 0.00000000e+00]\n",
      "full transformation time: [1.64957357e-03 1.78384569e-03 2.08630238e-03 ... 2.26822285e+05\n",
      " 2.82001009e+05 3.50301298e+05]\n",
      "[3.16880039e+03 2.92837233e+03 2.50058725e+03 ... 2.33966226e-05\n",
      " 1.90641510e-05 1.55749022e-05]\n",
      "0.026118381622848963\n",
      "Residual 100000000000.000000\n",
      "step:  54 Min. temperature 294.2906375157592 Max. temperature 1382.7396790638936\n",
      "n = 1.49 and k = [1.19519517e-07 1.34300418e-07 1.69600496e-07 ... 1.59781589e+05\n",
      " 2.21018434e+05 3.05332626e+05]\n",
      "crystalline fraction: [1.63859822e-06 1.84919854e-06 2.35656617e-06 ... 0.00000000e+00\n",
      " 0.00000000e+00 0.00000000e+00]\n",
      "full transformation time: [1.64957357e-03 1.78384569e-03 2.08630238e-03 ... 2.26822285e+05\n",
      " 2.82001009e+05 3.50301298e+05]\n",
      "[3.22942212e+03 2.98443099e+03 2.54851894e+03 ... 2.38374964e-05\n",
      " 1.94187596e-05 1.58603708e-05]\n",
      "0.02758452415291801\n",
      "Residual 100000000000.000000\n",
      "step:  55 Min. temperature 294.2906375158071 Max. temperature 1382.7396790669602\n",
      "n = 1.49 and k = [1.19519517e-07 1.34300418e-07 1.69600496e-07 ... 1.59781589e+05\n",
      " 2.21018434e+05 3.05332626e+05]\n",
      "crystalline fraction: [1.68090159e-06 1.89680040e-06 2.41685826e-06 ... 0.00000000e+00\n",
      " 0.00000000e+00 0.00000000e+00]\n",
      "full transformation time: [1.64957357e-03 1.78384569e-03 2.08630238e-03 ... 2.26822285e+05\n",
      " 2.82001009e+05 3.50301298e+05]\n",
      "[3.29004385e+03 3.04048965e+03 2.59645063e+03 ... 2.42783701e-05\n",
      " 1.97733683e-05 1.61458393e-05]\n",
      "0.02928884587490832\n",
      "Residual 100000000000.000000\n",
      "step:  56 Min. temperature 294.2906375158381 Max. temperature 1382.739679068947\n",
      "n = 1.49 and k = [1.19519517e-07 1.34300418e-07 1.69600496e-07 ... 1.59781589e+05\n",
      " 2.21018434e+05 3.05332626e+05]\n",
      "crystalline fraction: [1.72355802e-06 1.94479842e-06 2.47764909e-06 ... 0.00000000e+00\n",
      " 0.00000000e+00 0.00000000e+00]\n",
      "full transformation time: [1.64957357e-03 1.78384569e-03 2.08630238e-03 ... 2.26822285e+05\n",
      " 2.82001009e+05 3.50301298e+05]\n",
      "[3.35066558e+03 3.09654831e+03 2.64438232e+03 ... 2.47192439e-05\n",
      " 2.01279769e-05 1.64313078e-05]\n",
      "0.031023832300125953\n",
      "Residual 100000000000.000000\n",
      "step:  57 Min. temperature 294.2906375158582 Max. temperature 1382.7396790702344\n",
      "n = 1.49 and k = [1.19519517e-07 1.34300418e-07 1.69600496e-07 ... 1.59781589e+05\n",
      " 2.21018434e+05 3.05332626e+05]\n",
      "crystalline fraction: [1.76656450e-06 1.99318921e-06 2.53893445e-06 ... 0.00000000e+00\n",
      " 0.00000000e+00 0.00000000e+00]\n",
      "full transformation time: [1.64957357e-03 1.78384569e-03 2.08630238e-03 ... 2.26822285e+05\n",
      " 2.82001009e+05 3.50301298e+05]\n",
      "[3.41128730e+03 3.15260697e+03 2.69231401e+03 ... 2.51601177e-05\n",
      " 2.04825856e-05 1.67167764e-05]\n",
      "0.03281190193728989\n",
      "Residual 100000000000.000000\n",
      "step:  58 Min. temperature 294.29063751587125 Max. temperature 1382.7396790710698\n",
      "n = 1.49 and k = [1.19519517e-07 1.34300418e-07 1.69600496e-07 ... 1.59781589e+05\n",
      " 2.21018434e+05 3.05332626e+05]\n",
      "crystalline fraction: [1.80991809e-06 2.04196948e-06 2.60071021e-06 ... 0.00000000e+00\n",
      " 0.00000000e+00 0.00000000e+00]\n",
      "full transformation time: [1.64957357e-03 1.78384569e-03 2.08630238e-03 ... 2.26822285e+05\n",
      " 2.82001009e+05 3.50301298e+05]\n",
      "[3.47190903e+03 3.20866564e+03 2.74024570e+03 ... 2.56009915e-05\n",
      " 2.08371943e-05 1.70022449e-05]\n",
      "0.03467659632977793\n",
      "Residual 100000000000.000000\n",
      "step:  59 Min. temperature 294.29063751587967 Max. temperature 1382.7396790716118\n",
      "n = 1.49 and k = [1.19519517e-07 1.34300418e-07 1.69600496e-07 ... 1.59781589e+05\n",
      " 2.21018434e+05 3.05332626e+05]\n",
      "crystalline fraction: [1.85361591e-06 2.09113603e-06 2.66297236e-06 ... 0.00000000e+00\n",
      " 0.00000000e+00 0.00000000e+00]\n",
      "full transformation time: [1.64957357e-03 1.78384569e-03 2.08630238e-03 ... 2.26822285e+05\n",
      " 2.82001009e+05 3.50301298e+05]\n",
      "[3.53253076e+03 3.26472430e+03 2.78817739e+03 ... 2.60418653e-05\n",
      " 2.11918029e-05 1.72877135e-05]\n",
      "0.03657175197406559\n",
      "Residual 100000000000.000000\n",
      "step:  60 Min. temperature 294.2906375158852 Max. temperature 1382.7396790719633\n",
      "n = 1.49 and k = [1.19519517e-07 1.34300418e-07 1.69600496e-07 ... 1.59781589e+05\n",
      " 2.21018434e+05 3.05332626e+05]\n",
      "crystalline fraction: [1.89765517e-06 2.14068572e-06 2.72571697e-06 ... 0.00000000e+00\n",
      " 0.00000000e+00 0.00000000e+00]\n",
      "full transformation time: [1.64957357e-03 1.78384569e-03 2.08630238e-03 ... 2.26822285e+05\n",
      " 2.82001009e+05 3.50301298e+05]\n",
      "[3.59315249e+03 3.32078296e+03 2.83610909e+03 ... 2.64827391e-05\n",
      " 2.15464116e-05 1.75731820e-05]\n",
      "0.03849655043806144\n",
      "Residual 100000000000.000000\n",
      "step:  61 Min. temperature 294.29063751588876 Max. temperature 1382.7396790721905\n",
      "n = 1.49 and k = [1.19519517e-07 1.34300418e-07 1.69600496e-07 ... 1.59781589e+05\n",
      " 2.21018434e+05 3.05332626e+05]\n",
      "crystalline fraction: [1.94203313e-06 2.19061550e-06 2.78894021e-06 ... 0.00000000e+00\n",
      " 0.00000000e+00 0.00000000e+00]\n",
      "full transformation time: [1.64957357e-03 1.78384569e-03 2.08630238e-03 ... 2.26822285e+05\n",
      " 2.82001009e+05 3.50301298e+05]\n",
      "[3.65377421e+03 3.37684162e+03 2.88404078e+03 ... 2.69236129e-05\n",
      " 2.19010202e-05 1.78586505e-05]\n",
      "0.040450208310520264\n",
      "Residual 100000000000.000000\n",
      "step:  62 Min. temperature 294.290637515891 Max. temperature 1382.7396790723399\n",
      "n = 1.49 and k = [1.19519517e-07 1.34300418e-07 1.69600496e-07 ... 1.59781589e+05\n",
      " 2.21018434e+05 3.05332626e+05]\n",
      "crystalline fraction: [1.98674712e-06 2.24092236e-06 2.85263833e-06 ... 0.00000000e+00\n",
      " 0.00000000e+00 0.00000000e+00]\n",
      "full transformation time: [1.64957357e-03 1.78384569e-03 2.08630238e-03 ... 2.26822285e+05\n",
      " 2.82001009e+05 3.50301298e+05]\n",
      "[3.71439594e+03 3.43290028e+03 2.93197247e+03 ... 2.73644867e-05\n",
      " 2.22556289e-05 1.81441191e-05]\n",
      "0.04243197432373258\n",
      "Residual 100000000000.000000\n",
      "step:  63 Min. temperature 294.2906375158925 Max. temperature 1382.7396790724345\n",
      "n = 1.49 and k = [1.19519517e-07 1.34300418e-07 1.69600496e-07 ... 1.59781589e+05\n",
      " 2.21018434e+05 3.05332626e+05]\n",
      "crystalline fraction: [2.03179455e-06 2.29160340e-06 2.91680769e-06 ... 0.00000000e+00\n",
      " 0.00000000e+00 0.00000000e+00]\n",
      "full transformation time: [1.64957357e-03 1.78384569e-03 2.08630238e-03 ... 2.26822285e+05\n",
      " 2.82001009e+05 3.50301298e+05]\n",
      "[3.77501767e+03 3.48895894e+03 2.97990416e+03 ... 2.78053604e-05\n",
      " 2.26102376e-05 1.84295876e-05]\n",
      "0.04444112680554013\n",
      "Residual 100000000000.000000\n",
      "step:  64 Min. temperature 294.2906375158935 Max. temperature 1382.7396790724945\n",
      "n = 1.49 and k = [1.19519517e-07 1.34300418e-07 1.69600496e-07 ... 1.59781589e+05\n",
      " 2.21018434e+05 3.05332626e+05]\n",
      "crystalline fraction: [2.07717285e-06 2.34265576e-06 2.98144471e-06 ... 0.00000000e+00\n",
      " 0.00000000e+00 0.00000000e+00]\n",
      "full transformation time: [1.64957357e-03 1.78384569e-03 2.08630238e-03 ... 2.26822285e+05\n",
      " 2.82001009e+05 3.50301298e+05]\n",
      "[3.83563940e+03 3.54501760e+03 3.02783585e+03 ... 2.82462342e-05\n",
      " 2.29648462e-05 1.87150562e-05]\n",
      "0.04647697141382623\n",
      "Residual 100000000000.000000\n",
      "step:  65 Min. temperature 294.2906375158941 Max. temperature 1382.7396790725352\n",
      "n = 1.49 and k = [1.19519517e-07 1.34300418e-07 1.69600496e-07 ... 1.59781589e+05\n",
      " 2.21018434e+05 3.05332626e+05]\n",
      "crystalline fraction: [2.12287953e-06 2.39407665e-06 3.04654589e-06 ... 0.00000000e+00\n",
      " 0.00000000e+00 0.00000000e+00]\n",
      "full transformation time: [1.64957357e-03 1.78384569e-03 2.08630238e-03 ... 2.26822285e+05\n",
      " 2.82001009e+05 3.50301298e+05]\n",
      "[3.89626113e+03 3.60107626e+03 3.07576754e+03 ... 2.86871080e-05\n",
      " 2.33194549e-05 1.90005247e-05]\n",
      "0.048783613383134306\n",
      "Residual 100000000000.000000\n",
      "step:  66 Min. temperature 294.2906375158945 Max. temperature 1382.739679072561\n",
      "n = 1.49 and k = [1.19519517e-07 1.34300418e-07 1.69600496e-07 ... 1.59781589e+05\n",
      " 2.21018434e+05 3.05332626e+05]\n",
      "crystalline fraction: [2.16891216e-06 2.44586335e-06 3.11210781e-06 ... 0.00000000e+00\n",
      " 0.00000000e+00 0.00000000e+00]\n",
      "full transformation time: [1.64957357e-03 1.78384569e-03 2.08630238e-03 ... 2.26822285e+05\n",
      " 2.82001009e+05 3.50301298e+05]\n",
      "[3.95688285e+03 3.65713492e+03 3.12369923e+03 ... 2.91279818e-05\n",
      " 2.36740635e-05 1.92859932e-05]\n",
      "0.05124526525006501\n",
      "Residual 100000000000.000000\n",
      "step:  67 Min. temperature 294.29063751589484 Max. temperature 1382.7396790725797\n",
      "n = 1.49 and k = [1.19519517e-07 1.34300418e-07 1.69600496e-07 ... 1.59781589e+05\n",
      " 2.21018434e+05 3.05332626e+05]\n",
      "crystalline fraction: [2.21526835e-06 2.49801317e-06 3.17812713e-06 ... 0.00000000e+00\n",
      " 0.00000000e+00 0.00000000e+00]\n",
      "full transformation time: [1.64957357e-03 1.78384569e-03 2.08630238e-03 ... 2.26822285e+05\n",
      " 2.82001009e+05 3.50301298e+05]\n",
      "[4.01750458e+03 3.71319358e+03 3.17163092e+03 ... 2.95688556e-05\n",
      " 2.40286722e-05 1.95714618e-05]\n",
      "0.053740931305996664\n",
      "Residual 100000000000.000000\n",
      "step:  68 Min. temperature 294.2906375158949 Max. temperature 1382.7396790725884\n",
      "n = 1.49 and k = [1.19519517e-07 1.34300418e-07 1.69600496e-07 ... 1.59781589e+05\n",
      " 2.21018434e+05 3.05332626e+05]\n",
      "crystalline fraction: [2.26194577e-06 2.55052352e-06 3.24460057e-06 ... 0.00000000e+00\n",
      " 0.00000000e+00 0.00000000e+00]\n",
      "full transformation time: [1.64957357e-03 1.78384569e-03 2.08630238e-03 ... 2.26822285e+05\n",
      " 2.82001009e+05 3.50301298e+05]\n",
      "[4.07812631e+03 3.76925224e+03 3.21956261e+03 ... 3.00097294e-05\n",
      " 2.43832809e-05 1.98569303e-05]\n",
      "0.056269641240444424\n",
      "Residual 100000000000.000000\n",
      "step:  69 Min. temperature 294.29063751589507 Max. temperature 1382.739679072596\n",
      "n = 1.49 and k = [1.19519517e-07 1.34300418e-07 1.69600496e-07 ... 1.59781589e+05\n",
      " 2.21018434e+05 3.05332626e+05]\n",
      "crystalline fraction: [2.30894213e-06 2.60339182e-06 3.31152492e-06 ... 0.00000000e+00\n",
      " 0.00000000e+00 0.00000000e+00]\n",
      "full transformation time: [1.64957357e-03 1.78384569e-03 2.08630238e-03 ... 2.26822285e+05\n",
      " 2.82001009e+05 3.50301298e+05]\n",
      "[4.13874804e+03 3.82531090e+03 3.26749430e+03 ... 3.04506032e-05\n",
      " 2.47378895e-05 2.01423989e-05]\n",
      "0.05883046018831917\n",
      "Residual 100000000000.000000\n",
      "step:  70 Min. temperature 294.2906375158951 Max. temperature 1382.7396790726002\n",
      "n = 1.49 and k = [1.19519517e-07 1.34300418e-07 1.69600496e-07 ... 1.59781589e+05\n",
      " 2.21018434e+05 3.05332626e+05]\n",
      "crystalline fraction: [2.35625520e-06 2.65661558e-06 3.37889705e-06 ... 0.00000000e+00\n",
      " 0.00000000e+00 0.00000000e+00]\n",
      "full transformation time: [1.64957357e-03 1.78384569e-03 2.08630238e-03 ... 2.26822285e+05\n",
      " 2.82001009e+05 3.50301298e+05]\n",
      "[4.19936977e+03 3.88136956e+03 3.31542599e+03 ... 3.08914770e-05\n",
      " 2.50924982e-05 2.04278674e-05]\n",
      "0.06142248615802537\n",
      "Residual 100000000000.000000\n",
      "step:  71 Min. temperature 294.2906375158952 Max. temperature 1382.739679072603\n",
      "n = 1.49 and k = [1.19519517e-07 1.34300418e-07 1.69600496e-07 ... 1.59781589e+05\n",
      " 2.21018434e+05 3.05332626e+05]\n",
      "crystalline fraction: [2.40388279e-06 2.71019234e-06 3.44671387e-06 ... 0.00000000e+00\n",
      " 0.00000000e+00 0.00000000e+00]\n",
      "full transformation time: [1.64957357e-03 1.78384569e-03 2.08630238e-03 ... 2.26822285e+05\n",
      " 2.82001009e+05 3.50301298e+05]\n",
      "[4.25999149e+03 3.93742822e+03 3.36335768e+03 ... 3.13323507e-05\n",
      " 2.54471068e-05 2.07133359e-05]\n",
      "0.06404484772807928\n",
      "Residual 100000000000.000000\n",
      "step:  72 Min. temperature 294.2906375158952 Max. temperature 1382.7396790726038\n",
      "n = 1.49 and k = [1.19519517e-07 1.34300418e-07 1.69600496e-07 ... 1.59781589e+05\n",
      " 2.21018434e+05 3.05332626e+05]\n",
      "crystalline fraction: [2.45182274e-06 2.76411970e-06 3.51497238e-06 ... 0.00000000e+00\n",
      " 0.00000000e+00 0.00000000e+00]\n",
      "full transformation time: [1.64957357e-03 1.78384569e-03 2.08630238e-03 ... 2.26822285e+05\n",
      " 2.82001009e+05 3.50301298e+05]\n",
      "[4.32061322e+03 3.99348688e+03 3.41128937e+03 ... 3.17732245e-05\n",
      " 2.58017155e-05 2.09988045e-05]\n",
      "0.06669670197731781\n",
      "Residual 100000000000.000000\n",
      "step:  73 Min. temperature 294.29063751589524 Max. temperature 1382.7396790726052\n",
      "n = 1.49 and k = [1.19519517e-07 1.34300418e-07 1.69600496e-07 ... 1.59781589e+05\n",
      " 2.21018434e+05 3.05332626e+05]\n",
      "crystalline fraction: [2.50007295e-06 2.81839530e-06 3.58366962e-06 ... 0.00000000e+00\n",
      " 0.00000000e+00 0.00000000e+00]\n",
      "full transformation time: [1.64957357e-03 1.78384569e-03 2.08630238e-03 ... 2.26822285e+05\n",
      " 2.82001009e+05 3.50301298e+05]\n",
      "[4.38123495e+03 4.04954554e+03 3.45922106e+03 ... 3.22140983e-05\n",
      " 2.61563242e-05 2.12842730e-05]\n",
      "0.06937723261915996\n",
      "Residual 100000000000.000000\n",
      "step:  74 Min. temperature 294.29063751589524 Max. temperature 1382.7396790726075\n",
      "n = 1.49 and k = [1.19519517e-07 1.34300418e-07 1.69600496e-07 ... 1.59781589e+05\n",
      " 2.21018434e+05 3.05332626e+05]\n",
      "crystalline fraction: [2.54863137e-06 2.87301683e-06 3.65280269e-06 ... 0.00000000e+00\n",
      " 0.00000000e+00 0.00000000e+00]\n",
      "full transformation time: [1.64957357e-03 1.78384569e-03 2.08630238e-03 ... 2.26822285e+05\n",
      " 2.82001009e+05 3.50301298e+05]\n",
      "[4.44185668e+03 4.10560421e+03 3.50715275e+03 ... 3.26549721e-05\n",
      " 2.65109328e-05 2.15697416e-05]\n",
      "0.0720856483148139\n",
      "Residual 100000000000.000000\n",
      "step:  75 Min. temperature 294.29063751589524 Max. temperature 1382.7396790726073\n",
      "n = 1.49 and k = [1.19519517e-07 1.34300418e-07 1.69600496e-07 ... 1.59781589e+05\n",
      " 2.21018434e+05 3.05332626e+05]\n",
      "crystalline fraction: [2.59749596e-06 2.92798202e-06 3.72236874e-06 ... 0.00000000e+00\n",
      " 0.00000000e+00 0.00000000e+00]\n",
      "full transformation time: [1.64957357e-03 1.78384569e-03 2.08630238e-03 ... 2.26822285e+05\n",
      " 2.82001009e+05 3.50301298e+05]\n",
      "[4.50247840e+03 4.16166287e+03 3.55508444e+03 ... 3.30958459e-05\n",
      " 2.68655415e-05 2.18552101e-05]\n",
      "0.07482118114399383\n",
      "Residual 100000000000.000000\n",
      "step:  76 Min. temperature 294.29063751589524 Max. temperature 1382.739679072608\n",
      "n = 1.49 and k = [1.19519517e-07 1.34300418e-07 1.69600496e-07 ... 1.59781589e+05\n",
      " 2.21018434e+05 3.05332626e+05]\n",
      "crystalline fraction: [2.64666475e-06 2.98328866e-06 3.79236500e-06 ... 0.00000000e+00\n",
      " 0.00000000e+00 0.00000000e+00]\n",
      "full transformation time: [1.64957357e-03 1.78384569e-03 2.08630238e-03 ... 2.26822285e+05\n",
      " 2.82001009e+05 3.50301298e+05]\n",
      "[4.56310013e+03 4.21772153e+03 3.60301613e+03 ... 3.35367197e-05\n",
      " 2.72201502e-05 2.21406786e-05]\n",
      "0.07758308521476098\n",
      "Residual 100000000000.000000\n",
      "step:  77 Min. temperature 294.2906375158953 Max. temperature 1382.739679072608\n",
      "n = 1.49 and k = [1.19519517e-07 1.34300418e-07 1.69600496e-07 ... 1.59781589e+05\n",
      " 2.21018434e+05 3.05332626e+05]\n",
      "crystalline fraction: [2.69613578e-06 3.03893456e-06 3.86278873e-06 ... 0.00000000e+00\n",
      " 0.00000000e+00 0.00000000e+00]\n",
      "full transformation time: [1.64957357e-03 1.78384569e-03 2.08630238e-03 ... 2.26822285e+05\n",
      " 2.82001009e+05 3.50301298e+05]\n",
      "[4.62372186e+03 4.27378019e+03 3.65094783e+03 ... 3.39775935e-05\n",
      " 2.75747588e-05 2.24261472e-05]\n",
      "0.08037063539665235\n",
      "Residual 100000000000.000000\n",
      "step:  78 Min. temperature 294.29063751589524 Max. temperature 1382.739679072607\n",
      "n = 1.49 and k = [1.19519517e-07 1.34300418e-07 1.69600496e-07 ... 1.59781589e+05\n",
      " 2.21018434e+05 3.05332626e+05]\n",
      "crystalline fraction: [2.74590715e-06 3.09491758e-06 3.93363724e-06 ... 0.00000000e+00\n",
      " 0.00000000e+00 0.00000000e+00]\n",
      "full transformation time: [1.64957357e-03 1.78384569e-03 2.08630238e-03 ... 2.26822285e+05\n",
      " 2.82001009e+05 3.50301298e+05]\n",
      "[4.68434359e+03 4.32983885e+03 3.69887952e+03 ... 3.44184673e-05\n",
      " 2.79293675e-05 2.27116157e-05]\n",
      "0.0837212839822471\n",
      "Residual 100000000000.000000\n",
      "step:  79 Min. temperature 294.29063751589524 Max. temperature 1382.7396790726086\n",
      "n = 1.49 and k = [1.19519517e-07 1.34300418e-07 1.69600496e-07 ... 1.59781589e+05\n",
      " 2.21018434e+05 3.05332626e+05]\n",
      "crystalline fraction: [2.79597699e-06 3.15123562e-06 4.00490790e-06 ... 0.00000000e+00\n",
      " 0.00000000e+00 0.00000000e+00]\n",
      "full transformation time: [1.64957357e-03 1.78384569e-03 2.08630238e-03 ... 2.26822285e+05\n",
      " 2.82001009e+05 3.50301298e+05]\n",
      "[4.74496532e+03 4.38589751e+03 3.74681121e+03 ... 3.48593411e-05\n",
      " 2.82839761e-05 2.29970843e-05]\n",
      "0.08714920566385165\n",
      "Residual 100000000000.000000\n",
      "step:  80 Min. temperature 294.29063751589524 Max. temperature 1382.7396790726089\n",
      "n = 1.49 and k = [1.19519517e-07 1.34300418e-07 1.69600496e-07 ... 1.59781589e+05\n",
      " 2.21018434e+05 3.05332626e+05]\n",
      "crystalline fraction: [2.84634344e-06 3.20788663e-06 4.07659813e-06 ... 0.00000000e+00\n",
      " 0.00000000e+00 0.00000000e+00]\n",
      "full transformation time: [1.64957357e-03 1.78384569e-03 2.08630238e-03 ... 2.26822285e+05\n",
      " 2.82001009e+05 3.50301298e+05]\n",
      "[4.80558704e+03 4.44195617e+03 3.79474290e+03 ... 3.53002148e-05\n",
      " 2.86385848e-05 2.32825528e-05]\n",
      "0.09061101979832686\n",
      "Residual 100000000000.000000\n",
      "step:  81 Min. temperature 294.29063751589524 Max. temperature 1382.7396790726098\n",
      "n = 1.49 and k = [1.19519517e-07 1.34300418e-07 1.69600496e-07 ... 1.59781589e+05\n",
      " 2.21018434e+05 3.05332626e+05]\n",
      "crystalline fraction: [2.89700472e-06 3.26486857e-06 4.14870537e-06 ... 0.00000000e+00\n",
      " 0.00000000e+00 0.00000000e+00]\n",
      "full transformation time: [1.64957357e-03 1.78384569e-03 2.08630238e-03 ... 2.26822285e+05\n",
      " 2.82001009e+05 3.50301298e+05]\n",
      "[4.86620877e+03 4.49801483e+03 3.84267459e+03 ... 3.57410886e-05\n",
      " 2.89931935e-05 2.35680213e-05]\n",
      "0.09410559700050236\n",
      "Residual 100000000000.000000\n",
      "step:  82 Min. temperature 294.29063751589524 Max. temperature 1382.7396790726095\n",
      "n = 1.49 and k = [1.19519517e-07 1.34300418e-07 1.69600496e-07 ... 1.59781589e+05\n",
      " 2.21018434e+05 3.05332626e+05]\n",
      "crystalline fraction: [2.94795903e-06 3.32217946e-06 4.22122714e-06 ... 0.00000000e+00\n",
      " 0.00000000e+00 0.00000000e+00]\n",
      "full transformation time: [1.64957357e-03 1.78384569e-03 2.08630238e-03 ... 2.26822285e+05\n",
      " 2.82001009e+05 3.50301298e+05]\n",
      "[4.92683050e+03 4.55407349e+03 3.89060628e+03 ... 3.61819624e-05\n",
      " 2.93478021e-05 2.38534899e-05]\n",
      "0.0976318403919223\n",
      "Residual 100000000000.000000\n",
      "step:  83 Min. temperature 294.29063751589524 Max. temperature 1382.739679072608\n",
      "n = 1.49 and k = [1.19519517e-07 1.34300418e-07 1.69600496e-07 ... 1.59781589e+05\n",
      " 2.21018434e+05 3.05332626e+05]\n",
      "crystalline fraction: [2.99920464e-06 3.37981735e-06 4.29416099e-06 ... 0.00000000e+00\n",
      " 0.00000000e+00 0.00000000e+00]\n",
      "full transformation time: [1.64957357e-03 1.78384569e-03 2.08630238e-03 ... 2.26822285e+05\n",
      " 2.82001009e+05 3.50301298e+05]\n",
      "[4.98745223e+03 4.61013215e+03 3.93853797e+03 ... 3.66228362e-05\n",
      " 2.97024108e-05 2.41389584e-05]\n",
      "0.10118868376910894\n",
      "Residual 100000000000.000000\n",
      "step:  84 Min. temperature 294.29063751589524 Max. temperature 1382.739679072609\n",
      "n = 1.49 and k = [1.19519517e-07 1.34300418e-07 1.69600496e-07 ... 1.59781589e+05\n",
      " 2.21018434e+05 3.05332626e+05]\n",
      "crystalline fraction: [3.05073983e-06 3.43778031e-06 4.36750450e-06 ... 0.00000000e+00\n",
      " 0.00000000e+00 0.00000000e+00]\n",
      "full transformation time: [1.64957357e-03 1.78384569e-03 2.08630238e-03 ... 2.26822285e+05\n",
      " 2.82001009e+05 3.50301298e+05]\n",
      "[5.04807396e+03 4.66619081e+03 3.98646966e+03 ... 3.70637100e-05\n",
      " 3.00570194e-05 2.44244270e-05]\n",
      "0.10477508993413331\n",
      "Residual 100000000000.000000\n",
      "step:  85 Min. temperature 294.29063751589524 Max. temperature 1382.7396790726093\n",
      "n = 1.49 and k = [1.19519517e-07 1.34300418e-07 1.69600496e-07 ... 1.59781589e+05\n",
      " 2.21018434e+05 3.05332626e+05]\n",
      "crystalline fraction: [3.10256292e-06 3.49606645e-06 4.44125531e-06 ... 0.00000000e+00\n",
      " 0.00000000e+00 0.00000000e+00]\n",
      "full transformation time: [1.64957357e-03 1.78384569e-03 2.08630238e-03 ... 2.26822285e+05\n",
      " 2.82001009e+05 3.50301298e+05]\n",
      "[5.10869568e+03 4.72224947e+03 4.03440135e+03 ... 3.75045838e-05\n",
      " 3.04116281e-05 2.47098955e-05]\n",
      "0.10839004916942008\n",
      "Residual 100000000000.000000\n",
      "step:  86 Min. temperature 294.29063751589524 Max. temperature 1382.7396790726104\n",
      "n = 1.49 and k = [1.19519517e-07 1.34300418e-07 1.69600496e-07 ... 1.59781589e+05\n",
      " 2.21018434e+05 3.05332626e+05]\n",
      "crystalline fraction: [3.15467225e-06 3.55467394e-06 4.51541108e-06 ... 0.00000000e+00\n",
      " 0.00000000e+00 0.00000000e+00]\n",
      "full transformation time: [1.64957357e-03 1.78384569e-03 2.08630238e-03 ... 2.26822285e+05\n",
      " 2.82001009e+05 3.50301298e+05]\n",
      "[5.16931741e+03 4.77830813e+03 4.08233304e+03 ... 3.79454576e-05\n",
      " 3.07662368e-05 2.49953640e-05]\n",
      "0.11203257784109821\n",
      "Residual 100000000000.000000\n",
      "step:  87 Min. temperature 294.29063751589524 Max. temperature 1382.7396790726086\n",
      "n = 1.49 and k = [1.19519517e-07 1.34300418e-07 1.69600496e-07 ... 1.59781589e+05\n",
      " 2.21018434e+05 3.05332626e+05]\n",
      "crystalline fraction: [3.20706620e-06 3.61360093e-06 4.58996954e-06 ... 0.00000000e+00\n",
      " 0.00000000e+00 0.00000000e+00]\n",
      "full transformation time: [1.64957357e-03 1.78384569e-03 2.08630238e-03 ... 2.26822285e+05\n",
      " 2.82001009e+05 3.50301298e+05]\n",
      "[5.22993914e+03 4.83436679e+03 4.13026473e+03 ... 3.83863314e-05\n",
      " 3.11208454e-05 2.52808326e-05]\n",
      "0.11570171711724075\n",
      "Residual 100000000000.000000\n",
      "step:  88 Min. temperature 294.29063751589524 Max. temperature 1382.7396790726084\n",
      "n = 1.49 and k = [1.19519517e-07 1.34300418e-07 1.69600496e-07 ... 1.59781589e+05\n",
      " 2.21018434e+05 3.05332626e+05]\n",
      "crystalline fraction: [3.25974317e-06 3.67284564e-06 4.66492843e-06 ... 0.00000000e+00\n",
      " 0.00000000e+00 0.00000000e+00]\n",
      "full transformation time: [1.64957357e-03 1.78384569e-03 2.08630238e-03 ... 2.26822285e+05\n",
      " 2.82001009e+05 3.50301298e+05]\n",
      "[5.29056087e+03 4.89042545e+03 4.17819642e+03 ... 3.88272051e-05\n",
      " 3.14754541e-05 2.55663011e-05]\n",
      "0.11939653178905274\n",
      "Residual 100000000000.000000\n",
      "step:  89 Min. temperature 294.2906375158953 Max. temperature 1382.7396790726102\n",
      "n = 1.49 and k = [1.19519517e-07 1.34300418e-07 1.69600496e-07 ... 1.59781589e+05\n",
      " 2.21018434e+05 3.05332626e+05]\n",
      "crystalline fraction: [3.31270157e-06 3.73240630e-06 4.74028553e-06 ... 0.00000000e+00\n",
      " 0.00000000e+00 0.00000000e+00]\n",
      "full transformation time: [1.64957357e-03 1.78384569e-03 2.08630238e-03 ... 2.26822285e+05\n",
      " 2.82001009e+05 3.50301298e+05]\n",
      "[5.35118260e+03 4.94648411e+03 4.22612811e+03 ... 3.92680789e-05\n",
      " 3.18300627e-05 2.58517697e-05]\n",
      "0.1233466363299599\n",
      "Residual 100000000000.000000\n",
      "step:  90 Min. temperature 294.29063751589524 Max. temperature 1382.7396790726104\n",
      "n = 1.49 and k = [1.19519517e-07 1.34300418e-07 1.69600496e-07 ... 1.59781589e+05\n",
      " 2.21018434e+05 3.05332626e+05]\n",
      "crystalline fraction: [3.36593988e-06 3.79228118e-06 4.81603867e-06 ... 0.00000000e+00\n",
      " 0.00000000e+00 0.00000000e+00]\n",
      "full transformation time: [1.64957357e-03 1.78384569e-03 2.08630238e-03 ... 2.26822285e+05\n",
      " 2.82001009e+05 3.50301298e+05]\n",
      "[5.41180432e+03 5.00254277e+03 4.27405980e+03 ... 3.97089527e-05\n",
      " 3.21846714e-05 2.61372382e-05]\n",
      "0.12755547570402703\n",
      "Residual 100000000000.000000\n",
      "step:  91 Min. temperature 294.2906375158953 Max. temperature 1382.7396790726102\n",
      "n = 1.49 and k = [1.19519517e-07 1.34300418e-07 1.69600496e-07 ... 1.59781589e+05\n",
      " 2.21018434e+05 3.05332626e+05]\n",
      "crystalline fraction: [3.41945655e-06 3.85246857e-06 4.89218570e-06 ... 0.00000000e+00\n",
      " 0.00000000e+00 0.00000000e+00]\n",
      "full transformation time: [1.64957357e-03 1.78384569e-03 2.08630238e-03 ... 2.26822285e+05\n",
      " 2.82001009e+05 3.50301298e+05]\n",
      "[5.47242605e+03 5.05860144e+03 4.32199149e+03 ... 4.01498265e-05\n",
      " 3.25392801e-05 2.64227067e-05]\n",
      "0.1317931458156132\n",
      "Residual 100000000000.000000\n",
      "step:  92 Min. temperature 294.2906375158953 Max. temperature 1382.7396790726082\n",
      "n = 1.49 and k = [1.19519517e-07 1.34300418e-07 1.69600496e-07 ... 1.59781589e+05\n",
      " 2.21018434e+05 3.05332626e+05]\n",
      "crystalline fraction: [3.47325009e-06 3.91296679e-06 4.96872452e-06 ... 0.00000000e+00\n",
      " 0.00000000e+00 0.00000000e+00]\n",
      "full transformation time: [1.64957357e-03 1.78384569e-03 2.08630238e-03 ... 2.26822285e+05\n",
      " 2.82001009e+05 3.50301298e+05]\n",
      "[5.53304778e+03 5.11466010e+03 4.36992318e+03 ... 4.05907003e-05\n",
      " 3.28938887e-05 2.67081753e-05]\n",
      "0.1360584469673084\n",
      "Residual 100000000000.000000\n",
      "step:  93 Min. temperature 294.2906375158953 Max. temperature 1382.7396790726084\n",
      "n = 1.49 and k = [1.19519517e-07 1.34300418e-07 1.69600496e-07 ... 1.59781589e+05\n",
      " 2.21018434e+05 3.05332626e+05]\n",
      "crystalline fraction: [3.52731903e-06 3.97377419e-06 5.04565304e-06 ... 0.00000000e+00\n",
      " 0.00000000e+00 0.00000000e+00]\n",
      "full transformation time: [1.64957357e-03 1.78384569e-03 2.08630238e-03 ... 2.26822285e+05\n",
      " 2.82001009e+05 3.50301298e+05]\n",
      "[5.59366951e+03 5.17071876e+03 4.41785487e+03 ... 4.10315741e-05\n",
      " 3.32484974e-05 2.69936438e-05]\n",
      "0.1403502092759381\n",
      "Residual 100000000000.000000\n",
      "step:  94 Min. temperature 294.29063751589524 Max. temperature 1382.7396790726102\n",
      "n = 1.49 and k = [1.19519517e-07 1.34300418e-07 1.69600496e-07 ... 1.59781589e+05\n",
      " 2.21018434e+05 3.05332626e+05]\n",
      "crystalline fraction: [3.58166192e-06 4.03488914e-06 5.12296923e-06 ... 0.00000000e+00\n",
      " 0.00000000e+00 0.00000000e+00]\n",
      "full transformation time: [1.64957357e-03 1.78384569e-03 2.08630238e-03 ... 2.26822285e+05\n",
      " 2.82001009e+05 3.50301298e+05]\n",
      "[5.65429123e+03 5.22677742e+03 4.46578657e+03 ... 4.14724479e-05\n",
      " 3.36031060e-05 2.72791124e-05]\n",
      "0.14466729137841194\n",
      "Residual 100000000000.000000\n",
      "step:  95 Min. temperature 294.29063751589524 Max. temperature 1382.7396790726102\n",
      "n = 1.49 and k = [1.19519517e-07 1.34300418e-07 1.69600496e-07 ... 1.59781589e+05\n",
      " 2.21018434e+05 3.05332626e+05]\n",
      "crystalline fraction: [3.63627731e-06 4.09631004e-06 5.20067106e-06 ... 0.00000000e+00\n",
      " 0.00000000e+00 0.00000000e+00]\n",
      "full transformation time: [1.64957357e-03 1.78384569e-03 2.08630238e-03 ... 2.26822285e+05\n",
      " 2.82001009e+05 3.50301298e+05]\n",
      "[5.71491296e+03 5.28283608e+03 4.51371826e+03 ... 4.19133217e-05\n",
      " 3.39577147e-05 2.75645809e-05]\n",
      "0.14900857923601774\n",
      "Residual 100000000000.000000\n",
      "step:  96 Min. temperature 294.2906375158953 Max. temperature 1382.7396790726086\n",
      "n = 1.49 and k = [1.19519517e-07 1.34300418e-07 1.69600496e-07 ... 1.59781589e+05\n",
      " 2.21018434e+05 3.05332626e+05]\n",
      "crystalline fraction: [3.69116382e-06 4.15803530e-06 5.27875656e-06 ... 0.00000000e+00\n",
      " 0.00000000e+00 0.00000000e+00]\n",
      "full transformation time: [1.64957357e-03 1.78384569e-03 2.08630238e-03 ... 2.26822285e+05\n",
      " 2.82001009e+05 3.50301298e+05]\n",
      "[5.77553469e+03 5.33889474e+03 4.56164995e+03 ... 4.23541954e-05\n",
      " 3.43123234e-05 2.78500494e-05]\n",
      "0.15337298502752694\n",
      "Residual 100000000000.000000\n",
      "step:  97 Min. temperature 294.29063751589524 Max. temperature 1382.739679072608\n",
      "n = 1.49 and k = [1.19519517e-07 1.34300418e-07 1.69600496e-07 ... 1.59781589e+05\n",
      " 2.21018434e+05 3.05332626e+05]\n",
      "crystalline fraction: [3.74632004e-06 4.22006338e-06 5.35722378e-06 ... 0.00000000e+00\n",
      " 0.00000000e+00 0.00000000e+00]\n",
      "full transformation time: [1.64957357e-03 1.78384569e-03 2.08630238e-03 ... 2.26822285e+05\n",
      " 2.82001009e+05 3.50301298e+05]\n",
      "[5.83615642e+03 5.39495340e+03 4.60958164e+03 ... 4.27950692e-05\n",
      " 3.46669320e-05 2.81355180e-05]\n",
      "0.1577594461225923\n",
      "Residual 100000000000.000000\n",
      "step:  98 Min. temperature 294.2906375158953 Max. temperature 1382.7396790726077\n",
      "n = 1.49 and k = [1.19519517e-07 1.34300418e-07 1.69600496e-07 ... 1.59781589e+05\n",
      " 2.21018434e+05 3.05332626e+05]\n",
      "crystalline fraction: [3.80174462e-06 4.28239275e-06 5.43607079e-06 ... 0.00000000e+00\n",
      " 0.00000000e+00 0.00000000e+00]\n",
      "full transformation time: [1.64957357e-03 1.78384569e-03 2.08630238e-03 ... 2.26822285e+05\n",
      " 2.82001009e+05 3.50301298e+05]\n",
      "[5.89677815e+03 5.45101206e+03 4.65751333e+03 ... 4.32359430e-05\n",
      " 3.50215407e-05 2.84209865e-05]\n",
      "0.16216692412788536\n",
      "Residual 100000000000.000000\n",
      "step:  99 Min. temperature 294.29063751589524 Max. temperature 1382.7396790726084\n"
     ]
    },
    {
     "data": {
      "text/plain": [
       "<Figure size 432x288 with 0 Axes>"
      ]
     },
     "metadata": {},
     "output_type": "display_data"
    }
   ],
   "source": [
    "#import fipy.solvers.pyAMG as solvers\n",
    "import fipy.solvers.pysparse as solvers\n",
    "import numpy as np\n",
    "solver = solvers.linearGMRESSolver.LinearGMRESSolver(precon=None, iterations=1500, tolerance=1e-15) \n",
    "poisson= solvers.linearLUSolver.LinearLUSolver()\n",
    "\n",
    "steps = 100 # number of steps to calculate\n",
    "eps =1e-5\n",
    "Tvstime = [] # temperature values during cooling\n",
    "\n",
    "for i in range(steps):\n",
    "    terr=10e+10\n",
    "    temperature.updateOld()\n",
    "    fi.updateOld()\n",
    "    fc.updateOld()\n",
    "    \n",
    "    # calculate incubation time\n",
    "    n = calcn(temperature)\n",
    "    k = calck(0.005,temperature)\n",
    "    print \"n = {} and k = {}\".format(n,k)\n",
    "    print \"crystalline fraction: {}\".format(fc)\n",
    "    tt = transformation_time(fc,k,n)\n",
    "    kt = k0*np.exp(-E/(Rt*temperature))\n",
    "    print \"full transformation time: {}\".format(transformation_time(0.95,kt,n))\n",
    "    tincubation.setValue(tincubation.value + dt/transformation_time(0.95,kt,n))\n",
    "    print tincubation\n",
    "    # calculate volume fraction of the crystalline phase\n",
    "    # the reaction start when incubation time reaches 1.0\n",
    "    volume_fraction(tt+dt,k,n) \n",
    "        \n",
    "    # update martensite fraction using koistinen-marburger eq.\n",
    "    # koistinen_marburger(temperature) \n",
    "    # update complete volume fraction\n",
    "    xi = fc + fi\n",
    "    print max(xi)\n",
    "    while(terr > eps):\n",
    "        print \"Residual %f\" % terr\n",
    "        terr = temperatureEq.sweep(temperature, dt=dt,solver=poisson)\n",
    "    \n",
    "    #print min(phaseSourceT())\n",
    "    if __name__ == '__main__':\n",
    "        path = \"../../TEST/temperature/\"\n",
    "        temperatureViewer.plot(path+\"temperatureBMG\"+str(i)+\".eps\")  \n",
    "        np.savetxt(path+\"temperatureBMG\"+str(i),temperature)\n",
    "        np.savetxt(path+\"amorphousBMG\"+str(i),fi)\n",
    "        np.savetxt(path+\"crystallineBMG\"+str(i),fc)\n",
    "        Tvstime.append(temperature.value[0])\n",
    "        print \"step: \", i, \"Min. temperature\",min(temperature), \"Max. temperature\", max(temperature)\n",
    "        "
   ]
  },
  {
   "cell_type": "code",
   "execution_count": 24,
   "metadata": {},
   "outputs": [
    {
     "data": {
      "image/png": "[encoded data removed]",
      "text/plain": [
       "<Figure size 288x288 with 2 Axes>"
      ]
     },
     "metadata": {
      "needs_background": "light"
     },
     "output_type": "display_data"
    }
   ],
   "source": [
    "viewerTemperature = Matplotlib2DGridViewer(vars=temperature, title = '$temperature$')"
   ]
  },
  {
   "cell_type": "markdown",
   "metadata": {},
   "source": [
    "# Visualize the results"
   ]
  },
  {
   "cell_type": "code",
   "execution_count": 32,
   "metadata": {},
   "outputs": [
    {
     "data": {
      "image/png": "[encoded data removed]",
      "text/plain": [
       "<Figure size 1008x720 with 4 Axes>"
      ]
     },
     "metadata": {
      "needs_background": "light"
     },
     "output_type": "display_data"
    }
   ],
   "source": [
    "fig1, (axp2, axc2)= plt.subplots(2, 1, sharex=False, sharey=False, figsize=(14,10))\n",
    "\n",
    "viewer1 = MultiViewer(viewers = (Matplotlib2DGridViewer(vars=fi, title='$amorphous$', axes=axp2, \\\n",
    "                                                       datamin=0., datamax=1000.), \\\n",
    "                                Matplotlib2DGridViewer(vars=fc,  title='$crystalline$'   , axes=axc2, \\\n",
    "                                                       datamin=0., datamax=.1)))\n"
   ]
  },
  {
   "cell_type": "code",
   "execution_count": 26,
   "metadata": {},
   "outputs": [
    {
     "data": {
      "text/plain": [
       "<matplotlib.contour.QuadContourSet at 0x127839a90>"
      ]
     },
     "execution_count": 26,
     "metadata": {},
     "output_type": "execute_result"
    },
    {
     "data": {
      "image/png": "[encoded data removed]",
      "text/plain": [
       "<Figure size 432x288 with 1 Axes>"
      ]
     },
     "metadata": {
      "needs_background": "light"
     },
     "output_type": "display_data"
    }
   ],
   "source": [
    "load=np.loadtxt(path+\"temperatureBMG99\")\n",
    "fig,ax = plt.subplots()\n",
    "ax.contourf(load.reshape(N,N))"
   ]
  },
  {
   "cell_type": "code",
   "execution_count": 27,
   "metadata": {},
   "outputs": [
    {
     "data": {
      "text/plain": [
       "<Figure size 432x288 with 0 Axes>"
      ]
     },
     "metadata": {},
     "output_type": "display_data"
    }
   ],
   "source": [
    "%matplotlib inline\n",
    "temperatureViewer.plot(path + \"temperature100.png\")"
   ]
  },
  {
   "cell_type": "markdown",
   "metadata": {},
   "source": [
    "Plotting the value of the temperature in the middle of the cylinder at the convection surface."
   ]
  },
  {
   "cell_type": "code",
   "execution_count": 28,
   "metadata": {},
   "outputs": [
    {
     "data": {
      "text/plain": [
       "[Text(0,0.5,'Temperature K'),\n",
       " Text(0.5,0,'timesteps'),\n",
       " Text(0.5,1,'Temperature')]"
      ]
     },
     "execution_count": 28,
     "metadata": {},
     "output_type": "execute_result"
    },
    {
     "data": {
      "image/png": "[encoded data removed]",
      "text/plain": [
       "<Figure size 432x288 with 1 Axes>"
      ]
     },
     "metadata": {
      "needs_background": "light"
     },
     "output_type": "display_data"
    }
   ],
   "source": [
    "t=[]\n",
    "t1=[]\n",
    "for i in range(1,100,1):\n",
    "    load = np.loadtxt(path+\"temperatureBMG\"+str(i))\n",
    "    t.append(load.reshape(N,N)[5,1])\n",
    "    t1.append(load.reshape(N,N)[20,20])\n",
    "fig, ax = plt.subplots()\n",
    "ax.plot(t)\n",
    "ax.plot(t1)\n",
    "ax.set(title='Temperature',ylabel='Temperature K',xlabel='timesteps')"
   ]
  },
  {
   "cell_type": "markdown",
   "metadata": {},
   "source": [
    "Plot of the temperature at central point of the cylinder. The temperature rises on the point and then drops again due to enthalphy of austinite to martensite phase transformation. Is this numerical instability??"
   ]
  },
  {
   "cell_type": "code",
   "execution_count": 29,
   "metadata": {},
   "outputs": [
    {
     "data": {
      "text/plain": [
       "[Text(0,0.5,'amount %'), Text(0.5,0,'timesteps'), Text(0.5,1,'Crystalline')]"
      ]
     },
     "execution_count": 29,
     "metadata": {},
     "output_type": "execute_result"
    },
    {
     "data": {
      "image/png": "[encoded data removed]",
      "text/plain": [
       "<Figure size 432x288 with 1 Axes>"
      ]
     },
     "metadata": {
      "needs_background": "light"
     },
     "output_type": "display_data"
    }
   ],
   "source": [
    "cry = []\n",
    "cry1 = []\n",
    "for i in range(1,54,2):\n",
    "    load = np.loadtxt(path+\"crystallineBMG\"+str(i))\n",
    "    cry.append(load.reshape(N,N)[5,1])\n",
    "    cry1.append(load.reshape(N,N)[20,20])\n",
    "fig, ax = plt.subplots()\n",
    "ax.plot(cry)\n",
    "ax.plot(cry1)\n",
    "ax.set(title='Crystalline',ylabel='amount %',xlabel='timesteps')"
   ]
  },
  {
   "cell_type": "code",
   "execution_count": 30,
   "metadata": {},
   "outputs": [],
   "source": [
    "point = []\n",
    "for i in range(1, 54,2):\n",
    "    load = np.loadtxt(path+ \"amorphousOH\"+str(i))\n",
    "    point.append(load.reshape(N,N))"
   ]
  },
  {
   "cell_type": "markdown",
   "metadata": {},
   "source": [
    "### Crystalline and amorphous amounts at end of simulation"
   ]
  },
  {
   "cell_type": "code",
   "execution_count": 31,
   "metadata": {},
   "outputs": [
    {
     "data": {
      "text/plain": [
       "Text(0.5,1,'Amount of crystalline (blue) and amorph (red) phases')"
      ]
     },
     "execution_count": 31,
     "metadata": {},
     "output_type": "execute_result"
    },
    {
     "data": {
      "image/png": "[encoded data removed]",
      "text/plain": [
       "<Figure size 1008x720 with 2 Axes>"
      ]
     },
     "metadata": {
      "needs_background": "light"
     },
     "output_type": "display_data"
    }
   ],
   "source": [
    "fig2, (axp22, axc22)= plt.subplots(2, 1, sharex=False, sharey=False, figsize=(14,10))\n",
    "\n",
    "axp22.plot(fi.value.reshape(N,N)[2,:], 'r')\n",
    "axp22.plot(fc.value.reshape(N,N)[2,:], 'b')\n",
    "axp22.set_xlabel('Radius')\n",
    "axp22.set_ylabel('Amount of phase %')\n",
    "axp22.set_title('Amount of crystalline (blue) and amorph (red) phases')\n",
    "\n",
    "axc22.plot(fi.value.reshape(N,N)[:,20], 'r')\n",
    "axc22.plot(fc.value.reshape(N,N)[:,20], 'b')\n",
    "axc22.set_xlabel('Height')\n",
    "axc22.set_ylabel('Amount of phase %')\n",
    "axc22.set_title('Amount of crystalline (blue) and amorph (red) phases')"
   ]
  },
  {
   "cell_type": "code",
   "execution_count": null,
   "metadata": {},
   "outputs": [],
   "source": []
  }
 ],
 "metadata": {
  "kernelspec": {
   "display_name": "Python 2",
   "language": "python",
   "name": "python2"
  },
  "language_info": {
   "codemirror_mode": {
    "name": "ipython",
    "version": 2
   },
   "file_extension": ".py",
   "mimetype": "text/x-python",
   "name": "python",
   "nbconvert_exporter": "python",
   "pygments_lexer": "ipython2",
   "version": "2.7.15"
  }
 },
 "nbformat": 4,
 "nbformat_minor": 2
}
