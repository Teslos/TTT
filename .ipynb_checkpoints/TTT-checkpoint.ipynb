{
 "cells": [
  {
   "cell_type": "markdown",
   "metadata": {},
   "source": [
    "In this simulation we are calculating TTT and CCT diagrams for following the cooling behaviour of the PM Steels.\n",
    "The current notebook follows presentation given by A.Malakizadi:\n",
    "\n",
    "Diploma work No. 42/2010\n",
    "at Department of Materials and Manufacturing Technology\n",
    "CHALMERS UNIVERSITY OF TECHNOLOGY\n",
    "Gotheburg Sweden\n"
   ]
  },
  {
   "cell_type": "markdown",
   "metadata": {},
   "source": [
    "# Constitutive equation and finite element formulation"
   ]
  },
  {
   "cell_type": "markdown",
   "metadata": {},
   "source": [
    "Heat equation is given here in the general form to model also the phase transformations during the phase transformations of the alloy:"
   ]
  },
  {
   "cell_type": "markdown",
   "metadata": {},
   "source": [
    "Conservation of the energy is given by the equation:\n",
    "$$\n",
    "\\rho \\frac{\\partial E}{\\partial t} - \\nabla(k\\nabla T)= 0\n",
    "$$\n",
    "where the E is specific internal energy. $ \\rho, k$ and $T,t$ are density, thermal conductivity, temperature and time.\n",
    "Specific internal energy can also be represented using:\n",
    "$$\n",
    "E(t,x)= e(T,X_i)\n",
    "$$\n",
    "where $ X_i $ for $i={1,2,3,4}$ are volume fraction for example of the perlite, bainite, ferrite and martensite phase.\n",
    "Differenting the $e(T,X_i)$ with the respect to internal variables:\n",
    "$$\n",
    "\\frac{\\partial e}{\\partial T} = c_p \\\\\n",
    "\\frac{\\partial e}{\\partial X_i}=-q_i\n",
    "$$\n",
    "Thus the general equation is given by:"
   ]
  },
  {
   "cell_type": "markdown",
   "metadata": {},
   "source": [
    "$$\n",
    "\\rho(T)c_p(T)\\frac{\\partial T}{\\partial t}=\\frac{\\partial }{\\partial x}(k(T)\\frac{\\partial T}{\\partial x}) +\n",
    "\\frac{\\partial }{\\partial y}(k(T)\\frac{\\partial T}{\\partial y})+\\frac{\\partial }{\\partial z}(k(T)\\frac{\\partial T}{\\partial z})\n",
    "+\\sum{\\rho_i(T)q_i(T) \\frac{\\partial X_i}{\\partial t}}\n",
    "$$"
   ]
  },
  {
   "cell_type": "markdown",
   "metadata": {},
   "source": [
    "It is important to set also the correct boundary conditions and initial boundary conditions  for the cooling:"
   ]
  },
  {
   "cell_type": "markdown",
   "metadata": {},
   "source": [
    "Cooling condition for radiation and air convection:\n",
    "$$\n",
    "-k\\frac{\\partial T}{\\partial n} = h_c(T) (T-T_{\\infty})+\\sigma\\epsilon(T)(T^{4}-T^{4}_\\infty)\n",
    "$$\n",
    "If we are cooling by water or quenching:\n",
    "$$\n",
    "-k\\frac{\\partial T}{\\partial n} = h_q(T) (T-T_{\\infty})\n",
    "$$\n",
    "And the start temperature of the sample is given:\n",
    "$$\n",
    "T_0 = T(x,y,0)\n",
    "$$\n",
    "here the $h_c(T)$ is the convective heat transfer coefficient, $\\sigma$ is the Stefan-Boltzmann constant, and $\\epsilon $ is radiation emissivity of the surface and $T_\\infty$ is the sorounding temperature.\n",
    "It is possible to reduce the surface radiation to:\n",
    "$$\n",
    "\\sigma \\epsilon(T) (T^4-T^4_\\infty)= \\sigma \\epsilon(T)(T^2+T^2_\\infty)(T+T_\\infty)(T-T_\\infty)=h_r(T)(T-T_\\infty)\n",
    "$$\n",
    "So combined radiation and convection boundary condition can be expressed by:\n",
    "$$\n",
    "-k\\frac{\\partial T}{\\partial n}=h_r(T)(T-T_\\infty)+h_c(T) (T-T_{\\infty})=h_{rc}(T)(T-T_{\\infty})\n",
    "$$\n",
    "where $h_{rc}$ is combined heat transfer.  "
   ]
  },
  {
   "cell_type": "markdown",
   "metadata": {},
   "source": [
    "$$\n",
    "\\rho(T)c_p(T) \\frac{\\partial T}{\\partial t} =k(T)\\left( \\frac{1}{r}  \\frac{\\partial }{\\partial r}(r\\frac{\\partial T}{\\partial r})+ \\frac{\\partial^2 T}{\\partial z^2}\\right)+\\sum{\\rho_i(T)q_i(T)\\frac{\\partial X_i}{\\partial t}}\n",
    "$$"
   ]
  },
  {
   "cell_type": "markdown",
   "metadata": {},
   "source": [
    "## Incoperation of the phase transformation terms"
   ]
  },
  {
   "cell_type": "markdown",
   "metadata": {},
   "source": [
    "Phase transformation in weak formulation for the phase transformation.\n",
    "$$\n",
    "R = \\int_{\\Gamma}{w rh_{rc} T_\\infty}+\\int_{\\omega} w\\sum{\\rho_i q_i \\frac{\\partial X_i}{\\partial t} rdrdz}\n",
    "$$\n",
    "At constant pressure is the latent heat of transformations are equal to entalphy changes $\\rho q_i = \\Delta H_i$\n",
    "\n",
    "$$\n",
    "R=\\int_{\\Gamma}{w rh_{rc} T_\\infty}+\\int_{\\omega} w\\sum{\\Delta H_i \\frac{\\partial X_i}{\\partial t} rdrdz}\n",
    "$$\n",
    "Time derivative can be approximated:\n",
    "$$\n",
    "\\frac{\\partial X_i}{\\partial t} = \\frac{\\Delta X_i}{\\Delta t}=\\frac{X_i^{j+1}-X_i^{j}}{\\Delta t}\n",
    "$$\n",
    "where $X^{j+1}_i$ is the volume fraction of the phase $i$ at time $j+1$. The thermal properties of the mixture are calculated\n",
    "using the mixture rule:\n",
    "$$\n",
    "\\rho c_p = \\sum{X_i\\rho_i c_{p_i}} \\\\\n",
    "k = \\sum{X_i k_i}\n",
    "$$\n",
    "Both models JMAK and AR model can be used to calculate the amount of the diffusive transformation. We focus now on the JMAK model.\n"
   ]
  },
  {
   "cell_type": "markdown",
   "metadata": {},
   "source": [
    "# Scheil principle\n"
   ]
  },
  {
   "cell_type": "markdown",
   "metadata": {},
   "source": [
    "The kinetics of the transformation during cooling (anisothermal condition) according to Scheil principle can the approximated by means of infinitesimal time increments $\\Delta t$ and ficitious time $t^{*}$ need to gain same fraction of phase $i$ at the current temperature $T_j$"
   ]
  },
  {
   "cell_type": "markdown",
   "metadata": {},
   "source": [
    "$$\n",
    "t_j = \\Delta t + t_j^{*}\n",
    "$$\n",
    "where we can calculate $t^{*}$ from JMAK model as:\n",
    "$$\n",
    "t_j^{*} = \\left [ \\frac{ln(\\frac{1}{1-X_{i,j-1}})}{k(T_j)}\\right]\n",
    "$$\n",
    "In the case of the remaining austenite phase we should correct $X_{i,j-1}$ with:\n",
    "$$\n",
    "F_{i,j-1}=\\frac{X_{i,j-1}}{X_{i,j-1}+X_{\\gamma,j-1}}\n",
    "$$\n",
    "then previous equation is written as:\n",
    "$$\n",
    "t_j^{*} = \\left [ \\frac{ln(\\frac{1}{1-F_{i,j-1}})}{k(T_j)}\\right]\n",
    "$$\n",
    "So we can calculate then the fictious volume fraction of phase $i$ at time $j$:\n",
    "$$\n",
    "F_{i,j}^{*}=1-exp\\left(-k(T_j)t_j^{n(T_j)} \\right)\n",
    "$$\n",
    "The incubation time of the diffusive transformation are calculated using equation:\n",
    "$$\n",
    "Q = \\int_{0}^{t} \\frac{d\\epsilon}{\\tau_s(T(\\epsilon))}= \\sum\\frac{\\Delta t}{\\tau_s(T_j)}\n",
    "$$\n"
   ]
  },
  {
   "cell_type": "code",
   "execution_count": 1,
   "metadata": {},
   "outputs": [],
   "source": [
    "rho=7800; Cp=600.0; k=37.0; alpha=k/(Cp*rho)\n",
    "def h(T):\n",
    "    if (T < (225+273)):\n",
    "        return 20.0\n",
    "    elif ( (225+273) < T < (800+273) ):\n",
    "        return -2.11e-9 * T**4 + 3.78e-6 * T**3 -0.00217*T**2 + 0.555*T-32.47\n",
    "    else:\n",
    "        return 92.5\n",
    "    \n",
    "    "
   ]
  },
  {
   "cell_type": "markdown",
   "metadata": {},
   "source": [
    "Assuming that the Jominy test can be treated as the semi-infinite plate. The surface exposed to convective boundary condition exposed on one side, the analytical solution is given as:\n",
    "$$\n",
    "\\frac{T(x,t)-T_i}{T_{\\infty}-T_i}=erfc \\left(\\frac{x}{2\\sqrt{\\alpha t}}\\right) - exp\\left(\\frac{h x }{k}+\\frac{h^2 \\alpha t }{k^2}\\right)\n",
    "erfc\\left(\\frac{x}{2\\sqrt{\\alpha t}} + \\frac{h\\sqrt{\\alpha t} }{k}\\right)\n",
    "$$\n",
    "The temperature distribution of the bar at different position $x$ and time $t$ can be obtained if we know distribution of temperature $T$ at previous time step $t_{i-1}$."
   ]
  },
  {
   "cell_type": "code",
   "execution_count": 2,
   "metadata": {},
   "outputs": [],
   "source": [
    "import math\n",
    "def T(x,t,T):\n",
    "    return math.erfc(x/(2*math.sqrt(alpha*t)))-math.exp(h(T)*x/k + (h(T)**2 * alpha * t/(k**2))) * math.erfc(x/(2*math.sqrt(alpha*t))+h(T)*math.sqrt(alpha*t)/k)"
   ]
  },
  {
   "cell_type": "markdown",
   "metadata": {},
   "source": [
    "Here we calculate the temperature drop from the one dimensional solution described in previous cell, we set initial temperature of the bar to $T=1173$ K:"
   ]
  },
  {
   "cell_type": "code",
   "execution_count": 3,
   "metadata": {},
   "outputs": [],
   "source": [
    "t_initial=900.0+273; t_inf=23.0+273\n",
    "tr=t_initial\n",
    "temp=[]\n",
    "for step in range(1,120):\n",
    "    a=T(0.0,step,tr)\n",
    "    tr = a*(t_inf-t_initial)+t_initial\n",
    "    temp.append(tr)"
   ]
  },
  {
   "cell_type": "markdown",
   "metadata": {},
   "source": [
    "Plot the given temperature for position $x=0$"
   ]
  },
  {
   "cell_type": "code",
   "execution_count": 4,
   "metadata": {},
   "outputs": [
    {
     "data": {
      "image/png": "[encoded data removed]",
      "text/plain": [
       "<Figure size 432x288 with 1 Axes>"
      ]
     },
     "metadata": {},
     "output_type": "display_data"
    }
   ],
   "source": [
    "%matplotlib inline\n",
    "import matplotlib.pyplot as plt\n",
    "plt.plot(temp)\n",
    "plt.show()\n"
   ]
  },
  {
   "cell_type": "markdown",
   "metadata": {},
   "source": [
    "# Calculation of heat "
   ]
  },
  {
   "cell_type": "markdown",
   "metadata": {},
   "source": [
    "In this section we solve general 2d heat equation using fipy library."
   ]
  },
  {
   "cell_type": "code",
   "execution_count": 5,
   "metadata": {},
   "outputs": [],
   "source": [
    "from fipy import *\n",
    "import numpy as np"
   ]
  },
  {
   "cell_type": "markdown",
   "metadata": {},
   "source": [
    "Define some common mesh values for 2D heat flow. We create uniform cylinder mesh on which we solve axisymmetric case."
   ]
  },
  {
   "cell_type": "code",
   "execution_count": 6,
   "metadata": {},
   "outputs": [],
   "source": [
    "steps = 100\n",
    "N = 40\n",
    "L = 2.5*N/400\n",
    "dL = L / N\n",
    "dt = 1.\n",
    "mesh = CylindricalGrid2D(dx = dL, dy = dL, nx = N, ny = N)"
   ]
  },
  {
   "cell_type": "code",
   "execution_count": 7,
   "metadata": {},
   "outputs": [],
   "source": [
    "temperature = CellVariable(mesh = mesh, name='temperature',value=1173., hasOld=True)\n",
    "(r,z) = mesh.cellCenters()"
   ]
  },
  {
   "cell_type": "markdown",
   "metadata": {},
   "source": [
    "Initial temperature of the cylinder and surface is set to:\n",
    "$T_o= 1173K$.\n",
    "Boundary condition at $y=0$ is given by convection cooling condition:\n",
    "$$\n",
    "-k \\frac{\\partial T}{\\partial n} = h_{rc}(T) (T-T_{\\infty})\n",
    "$$\n",
    "\n",
    "The boundary condition on the $x=0$ left side of the domain is isolated:\n",
    "$$\n",
    "-k \\frac{\\partial T}{\\partial n} = 0\n",
    "$$\n",
    "The temperature on the top and right side of cylinder are set to surounding temperature:\n",
    "$T_0 = T_{\\infty}$"
   ]
  },
  {
   "cell_type": "code",
   "execution_count": 8,
   "metadata": {},
   "outputs": [],
   "source": [
    "vh = np.vectorize(h)\n",
    "#temperature.faceGrad.dot([0,1]).constrain(-vh(temperature.faceValue)*1/k*(temperature.faceValue-t_inf),mesh.facesBottom)\n",
    "temperature.faceGrad.dot([0,1]).constrain(0,mesh.facesBottom)\n",
    "temperature.faceGrad.dot([1,0]).constrain(0,mesh.facesLeft)\n",
    "#temperature.constrain(t_inf, mesh.facesRight)\n",
    "temperature.constrain(1173., mesh.facesTop)\n",
    "fluxBottom = vh(temperature.faceValue)*(temperature.faceValue-t_inf)"
   ]
  },
  {
   "cell_type": "markdown",
   "metadata": {},
   "source": [
    "Now setup the temperature equation for now we dont have a source term comming from the phase transformations."
   ]
  },
  {
   "cell_type": "code",
   "execution_count": 9,
   "metadata": {},
   "outputs": [],
   "source": [
    "temperatureEq = TransientTerm(coeff=rho*Cp,var=temperature) == DiffusionTerm(coeff=k,var=temperature)+(mesh.facesBottom*fluxBottom).divergence"
   ]
  },
  {
   "cell_type": "code",
   "execution_count": 10,
   "metadata": {},
   "outputs": [
    {
     "data": {
      "image/png": "[encoded data removed]",
      "text/plain": [
       "<Figure size 288x288 with 2 Axes>"
      ]
     },
     "metadata": {},
     "output_type": "display_data"
    }
   ],
   "source": [
    "if __name__ == '__main__':\n",
    "    temperatureViewer = Viewer(vars=temperature,figaspect=1,datamin=0,datamax=1200)"
   ]
  },
  {
   "cell_type": "markdown",
   "metadata": {},
   "source": [
    "We step the solution in time, plotting as we go interactively"
   ]
  },
  {
   "cell_type": "code",
   "execution_count": 11,
   "metadata": {},
   "outputs": [
    {
     "name": "stdout",
     "output_type": "stream",
     "text": [
      "step:  0 Min. temperature 1170.6348161526162 Max. temperature 1173.0000000000007\n",
      "step:  1 Min. temperature 1168.5794854576031 Max. temperature 1173.000000000001\n",
      "step:  2 Min. temperature 1166.7594729524785 Max. temperature 1173.0000000000014\n",
      "step:  3 Min. temperature 1165.122047471125 Max. temperature 1173.0000000000014\n",
      "step:  4 Min. temperature 1163.629237891398 Max. temperature 1173.0000000000018\n",
      "step:  5 Min. temperature 1162.2532073136272 Max. temperature 1173.0000000000018\n",
      "step:  6 Min. temperature 1160.9731802405324 Max. temperature 1173.0000000000018\n",
      "step:  7 Min. temperature 1159.773376617443 Max. temperature 1173.0000000000018\n",
      "step:  8 Min. temperature 1158.641605182679 Max. temperature 1173.0000000000018\n",
      "step:  9 Min. temperature 1157.5682931091192 Max. temperature 1173.000000000002\n",
      "step:  10 Min. temperature 1156.5458075592614 Max. temperature 1173.0000000000023\n",
      "step:  11 Min. temperature 1155.5679748109746 Max. temperature 1173.0000000000025\n",
      "step:  12 Min. temperature 1154.629734699076 Max. temperature 1173.0000000000025\n",
      "step:  13 Min. temperature 1153.7268888694252 Max. temperature 1173.0000000000023\n",
      "step:  14 Min. temperature 1152.8559148812615 Max. temperature 1173.0000000000025\n",
      "step:  15 Min. temperature 1152.01382710862 Max. temperature 1173.0000000000027\n",
      "step:  16 Min. temperature 1151.1980713186279 Max. temperature 1173.0000000000027\n",
      "step:  17 Min. temperature 1150.4064437841018 Max. temperature 1173.0000000000027\n",
      "step:  18 Min. temperature 1149.637028487319 Max. temperature 1173.000000000003\n",
      "step:  19 Min. temperature 1148.888147822052 Max. temperature 1173.0000000000027\n",
      "step:  20 Min. temperature 1148.158323482537 Max. temperature 1173.000000000003\n",
      "step:  21 Min. temperature 1147.4462451252061 Max. temperature 1173.000000000003\n",
      "step:  22 Min. temperature 1146.7507450237717 Max. temperature 1173.000000000003\n",
      "step:  23 Min. temperature 1146.0707773920865 Max. temperature 1173.000000000003\n",
      "step:  24 Min. temperature 1145.4054013771024 Max. temperature 1173.0000000000032\n",
      "step:  25 Min. temperature 1144.7537669635549 Max. temperature 1173.0000000000032\n",
      "step:  26 Min. temperature 1144.1151032084208 Max. temperature 1173.0000000000034\n",
      "step:  27 Min. temperature 1143.4887083545043 Max. temperature 1173.0000000000034\n",
      "step:  28 Min. temperature 1142.8739414711617 Max. temperature 1173.0000000000036\n",
      "step:  29 Min. temperature 1142.2702153449645 Max. temperature 1173.0000000000036\n",
      "step:  30 Min. temperature 1141.6769904002895 Max. temperature 1173.0000000000036\n",
      "step:  31 Min. temperature 1141.0937694739218 Max. temperature 1173.0000000000036\n",
      "step:  32 Min. temperature 1140.5200933020237 Max. temperature 1173.0000000000034\n",
      "step:  33 Min. temperature 1139.9555366046545 Max. temperature 1173.0000000000036\n",
      "step:  34 Min. temperature 1139.399704674199 Max. temperature 1173.0000000000036\n",
      "step:  35 Min. temperature 1138.8522303908487 Max. temperature 1173.0000000000034\n",
      "step:  36 Min. temperature 1138.3127716017418 Max. temperature 1173.0000000000034\n",
      "step:  37 Min. temperature 1137.7810088111416 Max. temperature 1173.0000000000036\n",
      "step:  38 Min. temperature 1137.2566431377961 Max. temperature 1173.0000000000034\n",
      "step:  39 Min. temperature 1136.7393945027227 Max. temperature 1173.000000000003\n",
      "step:  40 Min. temperature 1136.2290000164803 Max. temperature 1173.0000000000027\n",
      "step:  41 Min. temperature 1135.725212539777 Max. temperature 1173.0000000000027\n",
      "step:  42 Min. temperature 1135.227799395207 Max. temperature 1173.0000000000027\n",
      "step:  43 Min. temperature 1134.736541211193 Max. temperature 1173.0000000000025\n",
      "step:  44 Min. temperature 1134.2512308819455 Max. temperature 1173.000000000002\n",
      "step:  45 Min. temperature 1133.7716726295369 Max. temperature 1173.000000000002\n",
      "step:  46 Min. temperature 1133.2976811561095 Max. temperature 1173.0000000000018\n",
      "step:  47 Min. temperature 1132.829080875871 Max. temperature 1173.0000000000011\n",
      "step:  48 Min. temperature 1132.365705217889 Max. temperature 1173.000000000001\n",
      "step:  49 Min. temperature 1131.9073959918828 Max. temperature 1173.0000000000007\n",
      "step:  50 Min. temperature 1131.4540028101965 Max. temperature 1173.0000000000005\n",
      "step:  51 Min. temperature 1131.0053825599914 Max. temperature 1173.0\n",
      "step:  52 Min. temperature 1130.5613989204362 Max. temperature 1172.9999999999993\n",
      "step:  53 Min. temperature 1130.1219219202899 Max. temperature 1172.999999999999\n",
      "step:  54 Min. temperature 1129.6868275318336 Max. temperature 1172.999999999998\n",
      "step:  55 Min. temperature 1129.2559972975635 Max. temperature 1172.9999999999968\n",
      "step:  56 Min. temperature 1128.8293179864775 Max. temperature 1172.9999999999952\n",
      "step:  57 Min. temperature 1128.406681277137 Max. temperature 1172.999999999993\n",
      "step:  58 Min. temperature 1127.9879834650023 Max. temperature 1172.9999999999902\n",
      "step:  59 Min. temperature 1127.5731251918066 Max. temperature 1172.999999999987\n",
      "step:  60 Min. temperature 1127.162011194976 Max. temperature 1172.9999999999825\n",
      "step:  61 Min. temperature 1126.7545500753135 Max. temperature 1172.9999999999766\n",
      "step:  62 Min. temperature 1126.3506540813403 Max. temperature 1172.9999999999686\n",
      "step:  63 Min. temperature 1125.9502389088668 Max. temperature 1172.9999999999582\n",
      "step:  64 Min. temperature 1125.5532235144917 Max. temperature 1172.999999999945\n",
      "step:  65 Min. temperature 1125.1595299418727 Max. temperature 1172.9999999999286\n",
      "step:  66 Min. temperature 1124.76908315971 Max. temperature 1172.9999999999077\n",
      "step:  67 Min. temperature 1124.3818109104934 Max. temperature 1172.9999999998815\n",
      "step:  68 Min. temperature 1123.9976435691583 Max. temperature 1172.999999999849\n",
      "step:  69 Min. temperature 1123.6165140108578 Max. temperature 1172.9999999998079\n",
      "step:  70 Min. temperature 1123.2383574871546 Max. temperature 1172.9999999997574\n",
      "step:  71 Min. temperature 1122.863111509977 Max. temperature 1172.9999999996946\n",
      "step:  72 Min. temperature 1122.490715742759 Max. temperature 1172.9999999996173\n",
      "step:  73 Min. temperature 1122.1211118982274 Max. temperature 1172.9999999995225\n",
      "step:  74 Min. temperature 1121.754243642341 Max. temperature 1172.9999999994068\n",
      "step:  75 Min. temperature 1121.3900565039444 Max. temperature 1172.9999999992656\n",
      "step:  76 Min. temperature 1121.0284977897188 Max. temperature 1172.9999999990948\n",
      "step:  77 Min. temperature 1120.6695165040621 Max. temperature 1172.999999998888\n",
      "step:  78 Min. temperature 1120.3130632735465 Max. temperature 1172.9999999986387\n",
      "step:  79 Min. temperature 1119.9590902756424 Max. temperature 1172.999999998339\n",
      "step:  80 Min. temperature 1119.6075511714187 Max. temperature 1172.999999997981\n",
      "step:  81 Min. temperature 1119.2584010419491 Max. temperature 1172.9999999975535\n",
      "step:  82 Min. temperature 1118.91159632818 Max. temperature 1172.999999997045\n",
      "step:  83 Min. temperature 1118.56709477403 Max. temperature 1172.9999999964423\n",
      "step:  84 Min. temperature 1118.2248553725144 Max. temperature 1172.9999999957297\n",
      "step:  85 Min. temperature 1117.8848383146988 Max. temperature 1172.9999999948895\n",
      "step:  86 Min. temperature 1117.5470049413032 Max. temperature 1172.9999999939018\n",
      "step:  87 Min. temperature 1117.2113176967896 Max. temperature 1172.999999992744\n",
      "step:  88 Min. temperature 1116.8777400857775 Max. temperature 1172.99999999139\n",
      "step:  89 Min. temperature 1116.5462366316513 Max. temperature 1172.9999999898116\n",
      "step:  90 Min. temperature 1116.2167728372153 Max. temperature 1172.9999999879753\n",
      "step:  91 Min. temperature 1115.8893151472867 Max. temperature 1172.9999999858453\n",
      "step:  92 Min. temperature 1115.5638309131004 Max. temperature 1172.9999999833794\n",
      "step:  93 Min. temperature 1115.2402883584268 Max. temperature 1172.9999999805323\n",
      "step:  94 Min. temperature 1114.9186565472967 Max. temperature 1172.9999999772529\n",
      "step:  95 Min. temperature 1114.5989053532483 Max. temperature 1172.9999999734837\n",
      "step:  96 Min. temperature 1114.2810054300032 Max. temperature 1172.9999999691613\n",
      "step:  97 Min. temperature 1113.964928183495 Max. temperature 1172.999999964215\n",
      "step:  98 Min. temperature 1113.650645745173 Max. temperature 1172.9999999585673\n",
      "step:  99 Min. temperature 1113.3381309465103 Max. temperature 1172.999999952132\n",
      "step:  100 Min. temperature 1113.0273572946548 Max. temperature 1172.9999999448144\n"
     ]
    },
    {
     "name": "stdout",
     "output_type": "stream",
     "text": [
      "step:  101 Min. temperature 1112.718298949154 Max. temperature 1172.99999993651\n",
      "step:  102 Min. temperature 1112.4109306997034 Max. temperature 1172.9999999271038\n",
      "step:  103 Min. temperature 1112.1052279448588 Max. temperature 1172.9999999164704\n",
      "step:  104 Min. temperature 1111.8011666716654 Max. temperature 1172.9999999044724\n",
      "step:  105 Min. temperature 1111.4987234361533 Max. temperature 1172.999999890959\n",
      "step:  106 Min. temperature 1111.197875344657 Max. temperature 1172.9999998757662\n",
      "step:  107 Min. temperature 1110.8986000359155 Max. temperature 1172.9999998587155\n",
      "step:  108 Min. temperature 1110.600875663914 Max. temperature 1172.9999998396122\n",
      "step:  109 Min. temperature 1110.3046808814279 Max. temperature 1172.999999818245\n",
      "step:  110 Min. temperature 1110.009994824241 Max. temperature 1172.999999794386\n",
      "step:  111 Min. temperature 1109.7167970959927 Max. temperature 1172.9999997677871\n",
      "step:  112 Min. temperature 1109.425067753638 Max. temperature 1172.9999997381808\n",
      "step:  113 Min. temperature 1109.1347872934775 Max. temperature 1172.9999997052778\n",
      "step:  114 Min. temperature 1108.8459366377385 Max. temperature 1172.999999668767\n",
      "step:  115 Min. temperature 1108.5584971216779 Max. temperature 1172.9999996283134\n",
      "step:  116 Min. temperature 1108.2724504811827 Max. temperature 1172.9999995835562\n",
      "step:  117 Min. temperature 1107.9877788408457 Max. temperature 1172.9999995341095\n",
      "step:  118 Min. temperature 1107.7044647024902 Max. temperature 1172.9999994795576\n",
      "step:  119 Min. temperature 1107.4224909341312 Max. temperature 1172.999999419457\n"
     ]
    },
    {
     "data": {
      "text/plain": [
       "<Figure size 432x288 with 0 Axes>"
      ]
     },
     "metadata": {},
     "output_type": "display_data"
    }
   ],
   "source": [
    "#import fipy.solvers.pyAMG as solvers\n",
    "import fipy.solvers.pysparse as solvers\n",
    "import numpy as np\n",
    "solver = solvers.linearGMRESSolver.LinearGMRESSolver(precon=None, iterations=1500, tolerance=1e-15) \n",
    "poisson= solvers.linearLUSolver.LinearLUSolver()\n",
    "\n",
    "steps = 120\n",
    "Tvstime = [] # temperature values during cooling\n",
    "\n",
    "for i in range(steps):\n",
    "    temperature.updateOld()\n",
    "    #print temperature\n",
    "    temperatureEq.solve(temperature, dt=dt,solver=solver)\n",
    "    \n",
    "    if __name__ == '__main__':\n",
    "        path = \"../../TEST/temperature/\"\n",
    "        temperatureViewer.plot(path+\"temperature\"+str(i)+\".eps\")  \n",
    "        np.savetxt(path+\"temperature\"+str(i),temperature)\n",
    "        Tvstime.append(temperature.value[0])\n",
    "        print \"step: \", i, \"Min. temperature\",min(temperature), \"Max. temperature\", max(temperature)\n",
    "        "
   ]
  },
  {
   "cell_type": "code",
   "execution_count": 12,
   "metadata": {},
   "outputs": [],
   "source": [
    "tempload = np.loadtxt(path+\"temperature99\")"
   ]
  },
  {
   "cell_type": "code",
   "execution_count": 13,
   "metadata": {},
   "outputs": [
    {
     "data": {
      "text/plain": [
       "<a list of 8 text.Text objects>"
      ]
     },
     "execution_count": 13,
     "metadata": {},
     "output_type": "execute_result"
    },
    {
     "data": {
      "image/png": "[encoded data removed]",
      "text/plain": [
       "<Figure size 432x288 with 1 Axes>"
      ]
     },
     "metadata": {},
     "output_type": "display_data"
    }
   ],
   "source": [
    "m = tempload.reshape(N,N)\n",
    "cm = plt.contourf(m)\n",
    "plt.clabel(cm,colors='r')"
   ]
  },
  {
   "cell_type": "code",
   "execution_count": 14,
   "metadata": {},
   "outputs": [
    {
     "data": {
      "text/plain": [
       "<Figure size 432x288 with 0 Axes>"
      ]
     },
     "metadata": {},
     "output_type": "display_data"
    }
   ],
   "source": [
    "%matplotlib inline\n",
    "temperatureViewer.plot(path + \"temperature99.png\")"
   ]
  },
  {
   "cell_type": "markdown",
   "metadata": {},
   "source": [
    "Plotting the value of the temperature in the middle of the cylinder at the convection surface."
   ]
  },
  {
   "cell_type": "code",
   "execution_count": 15,
   "metadata": {},
   "outputs": [
    {
     "name": "stdout",
     "output_type": "stream",
     "text": [
      "1172.0905154685818\n",
      "1164.1826503704103\n",
      "1157.242926370178\n",
      "1151.4258487840232\n",
      "1146.3646380140997\n",
      "1141.8427732595678\n",
      "1137.7282406640716\n",
      "1133.9346661105099\n",
      "1130.402160703508\n",
      "1127.0872736028755\n",
      "1123.9573317099507\n",
      "1120.9870489490424\n"
     ]
    }
   ],
   "source": [
    "for i in range(1,120,10):\n",
    "    load = np.loadtxt(path+\"temperature\"+str(i))\n",
    "    t = load.reshape(N,N)[1,35]\n",
    "    print t\n",
    "    "
   ]
  },
  {
   "cell_type": "code",
   "execution_count": 16,
   "metadata": {},
   "outputs": [
    {
     "data": {
      "image/png": "[encoded data removed]",
      "text/plain": [
       "<Figure size 432x288 with 1 Axes>"
      ]
     },
     "metadata": {},
     "output_type": "display_data"
    }
   ],
   "source": [
    "plta = plt.plot(Tvstime)"
   ]
  },
  {
   "cell_type": "code",
   "execution_count": 17,
   "metadata": {},
   "outputs": [
    {
     "data": {
      "image/png": "[encoded data removed]",
      "text/plain": [
       "<Figure size 432x288 with 1 Axes>"
      ]
     },
     "metadata": {},
     "output_type": "display_data"
    }
   ],
   "source": [
    "plt.plot(Tvstime)\n",
    "plt.plot(temp)\n",
    "plt.show()"
   ]
  },
  {
   "cell_type": "code",
   "execution_count": null,
   "metadata": {},
   "outputs": [],
   "source": []
  }
 ],
 "metadata": {
  "kernelspec": {
   "display_name": "Python 2",
   "language": "python",
   "name": "python2"
  },
  "language_info": {
   "codemirror_mode": {
    "name": "ipython",
    "version": 2
   },
   "file_extension": ".py",
   "mimetype": "text/x-python",
   "name": "python",
   "nbconvert_exporter": "python",
   "pygments_lexer": "ipython2",
   "version": "2.7.14"
  }
 },
 "nbformat": 4,
 "nbformat_minor": 2
}
