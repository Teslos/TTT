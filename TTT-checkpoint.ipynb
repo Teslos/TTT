{
 "cells": [
  {
   "cell_type": "markdown",
   "metadata": {},
   "source": [
    "In this simulation we are calculating TTT and CCT diagrams for following the cooling behaviour of the PM Steels.\n",
    "The current notebook follows presentation given by A.Malakizadi:\n",
    "\n",
    "Diploma work No. 42/2010\n",
    "at Department of Materials and Manufacturing Technology\n",
    "CHALMERS UNIVERSITY OF TECHNOLOGY\n",
    "Gotheburg Sweden\n"
   ]
  },
  {
   "cell_type": "markdown",
   "metadata": {},
   "source": [
    "# Constitutive equation and finite element formulation"
   ]
  },
  {
   "cell_type": "markdown",
   "metadata": {},
   "source": [
    "Heat equation is given here in the general form to model also the phase transformations during the phase transformations of the alloy:"
   ]
  },
  {
   "cell_type": "markdown",
   "metadata": {},
   "source": [
    "Conservation of the energy is given by the equation:\n",
    "$$\n",
    "\\rho \\frac{\\partial E}{\\partial t} - \\nabla(k\\nabla T)= 0\n",
    "$$\n",
    "where the E is specific internal energy. $ \\rho, k$ and $T,t$ are density, thermal conductivity, temperature and time.\n",
    "Specific internal energy can also be represented using:\n",
    "$$\n",
    "E(t,x)= e(T,X_i)\n",
    "$$\n",
    "where $ X_i $ for $i={1,2,3,4}$ are volume fraction for example of the perlite, bainite, ferrite and martensite phase.\n",
    "Differenting the $e(T,X_i)$ with the respect to internal variables:\n",
    "$$\n",
    "\\frac{\\partial e}{\\partial T} = c_p \\\\\n",
    "\\frac{\\partial e}{\\partial X_i}=-q_i\n",
    "$$\n",
    "Thus the general equation is given by:"
   ]
  },
  {
   "cell_type": "markdown",
   "metadata": {},
   "source": [
    "$$\n",
    "\\rho(T)c_p(T)\\frac{\\partial T}{\\partial t}=\\frac{\\partial }{\\partial x}(k(T)\\frac{\\partial T}{\\partial x}) +\n",
    "\\frac{\\partial }{\\partial y}(k(T)\\frac{\\partial T}{\\partial y})+\\frac{\\partial }{\\partial z}(k(T)\\frac{\\partial T}{\\partial z})\n",
    "+\\sum{\\rho_i(T)q_i(T) \\frac{\\partial X_i}{\\partial t}}\n",
    "$$"
   ]
  },
  {
   "cell_type": "markdown",
   "metadata": {},
   "source": [
    "It is important to set also the correct boundary conditions and initial boundary conditions  for the cooling:"
   ]
  },
  {
   "cell_type": "markdown",
   "metadata": {},
   "source": [
    "Cooling condition for radiation and air convection:\n",
    "$$\n",
    "-k\\frac{\\partial T}{\\partial n} = h_c(T) (T-T_{\\infty})+\\sigma\\epsilon(T)(T^{4}-T^{4}_\\infty)\n",
    "$$\n",
    "If we are cooling by water or quenching:\n",
    "$$\n",
    "-k\\frac{\\partial T}{\\partial n} = h_q(T) (T-T_{\\infty})\n",
    "$$\n",
    "And the start temperature of the sample is given:\n",
    "$$\n",
    "T_0 = T(x,y,0)\n",
    "$$\n",
    "here the $h_c(T)$ is the convective heat transfer coefficient, $\\sigma$ is the Stefan-Boltzmann constant, and $\\epsilon $ is radiation emissivity of the surface and $T_\\infty$ is the sorounding temperature.\n",
    "It is possible to reduce the surface radiation to:\n",
    "$$\n",
    "\\sigma \\epsilon(T) (T^4-T^4_\\infty)= \\sigma \\epsilon(T)(T^2+T^2_\\infty)(T+T_\\infty)(T-T_\\infty)=h_r(T)(T-T_\\infty)\n",
    "$$\n",
    "So combined radiation and convection boundary condition can be expressed by:\n",
    "$$\n",
    "-k\\frac{\\partial T}{\\partial n}=h_r(T)(T-T_\\infty)+h_c(T) (T-T_{\\infty})=h_{rc}(T)(T-T_{\\infty})\n",
    "$$\n",
    "where $h_{rc}$ is combined heat transfer.  "
   ]
  },
  {
   "cell_type": "markdown",
   "metadata": {},
   "source": [
    "$$\n",
    "\\rho(T)c_p(T) \\frac{\\partial T}{\\partial t} =k(T)\\left( \\frac{1}{r}  \\frac{\\partial }{\\partial r}(r\\frac{\\partial T}{\\partial r})+ \\frac{\\partial^2 T}{\\partial z^2}\\right)+\\sum{\\rho_i(T)q_i(T)\\frac{\\partial X_i}{\\partial t}}\n",
    "$$"
   ]
  },
  {
   "cell_type": "markdown",
   "metadata": {},
   "source": [
    "## Incoperation of the phase transformation terms"
   ]
  },
  {
   "cell_type": "markdown",
   "metadata": {},
   "source": [
    "Phase transformation in weak formulation for the phase transformation.\n",
    "$$\n",
    "R = \\int_{\\Gamma}{w rh_{rc} T_\\infty}+\\int_{\\omega} w\\sum{\\rho_i q_i \\frac{\\partial X_i}{\\partial t} rdrdz}\n",
    "$$\n",
    "At constant pressure is the latent heat of transformations are equal to entalphy changes $\\rho q_i = \\Delta H_i$\n",
    "\n",
    "$$\n",
    "R=\\int_{\\Gamma}{w rh_{rc} T_\\infty}+\\int_{\\omega} w\\sum{\\Delta H_i \\frac{\\partial X_i}{\\partial t} rdrdz}\n",
    "$$\n",
    "Time derivative can be approximated:\n",
    "$$\n",
    "\\frac{\\partial X_i}{\\partial t} = \\frac{\\Delta X_i}{\\Delta t}=\\frac{X_i^{j+1}-X_i^{j}}{\\Delta t}\n",
    "$$\n",
    "where $X^{j+1}_i$ is the volume fraction of the phase $i$ at time $j+1$. The thermal properties of the mixture are calculated\n",
    "using the mixture rule:\n",
    "$$\n",
    "\\rho c_p = \\sum{X_i\\rho_i c_{p_i}} \\\\\n",
    "k = \\sum{X_i k_i}\n",
    "$$\n",
    "Both models JMAK and AR model can be used to calculate the amount of the diffusive transformation. We focus now on the JMAK model.\n"
   ]
  },
  {
   "cell_type": "markdown",
   "metadata": {},
   "source": [
    "# Scheil principle\n"
   ]
  },
  {
   "cell_type": "markdown",
   "metadata": {},
   "source": [
    "The kinetics of the transformation during cooling (anisothermal condition) according to Scheil principle can the approximated by means of infinitesimal time increments $\\Delta t$ and ficitious time $t^{*}$ need to gain same fraction of phase $i$ at the current temperature $T_j$"
   ]
  },
  {
   "cell_type": "markdown",
   "metadata": {},
   "source": [
    "$$\n",
    "t_j = \\Delta t + t_j^{*}\n",
    "$$\n",
    "where we can calculate $t^{*}$ from JMAK model as:\n",
    "$$\n",
    "t_j^{*} = \\left [ \\frac{ln(\\frac{1}{1-X_{i,j-1}})}{k(T_j)}\\right]^{1/n(T_j)}\n",
    "$$\n",
    "In the case of the remaining austenite phase we should correct $X_{i,j-1}$ with:\n",
    "$$\n",
    "F_{i,j-1}=\\frac{X_{i,j-1}}{X_{i,j-1}+X_{\\gamma,j-1}}\n",
    "$$\n",
    "then previous equation is written as:\n",
    "$$\n",
    "t_j^{*} = \\left [ \\frac{ln(\\frac{1}{1-F_{i,j-1}})}{k(T_j)}\\right]^{1/n(T_j)}\n",
    "$$\n",
    "So we can calculate then the fictious volume fraction of phase $i$ at time $j$:\n",
    "$$\n",
    "F_{i,j}^{*}=1-exp\\left(-k(T_j)t_j^{n(T_j)} \\right)\n",
    "$$\n",
    "The incubation time of the diffusive transformation are calculated using equation:\n",
    "$$\n",
    "Q = \\int_{0}^{t} \\frac{d\\epsilon}{\\tau_s(T(\\epsilon))}= \\sum\\frac{\\Delta t}{\\tau_s(T_j)}\n",
    "$$\n"
   ]
  },
  {
   "cell_type": "code",
   "execution_count": 1,
   "metadata": {},
   "outputs": [],
   "source": [
    "rho=7800; Cp=600.0; k=37.0; alpha=k/(Cp*rho)\n",
    "def h(T):\n",
    "    if (T < (225+273)):\n",
    "        return 20.0\n",
    "    elif ( (225+273) < T < (800+273) ):\n",
    "        return -2.11e-9 * T**4 + 3.78e-6 * T**3 -0.00217*T**2 + 0.555*T-32.47\n",
    "    else:\n",
    "        return 92.5\n",
    "    \n",
    "    "
   ]
  },
  {
   "cell_type": "markdown",
   "metadata": {},
   "source": [
    "Assuming that the Jominy test can be treated as the semi-infinite plate. The surface exposed to convective boundary condition exposed on one side, the analytical solution is given as:\n",
    "$$\n",
    "\\frac{T(x,t)-T_i}{T_{\\infty}-T_i}=erfc \\left(\\frac{x}{2\\sqrt{\\alpha t}}\\right) - exp\\left(\\frac{h x }{k}+\\frac{h^2 \\alpha t }{k^2}\\right)\n",
    "erfc\\left(\\frac{x}{2\\sqrt{\\alpha t}} + \\frac{h\\sqrt{\\alpha t} }{k}\\right)\n",
    "$$\n",
    "The temperature distribution of the bar at different position $x$ and time $t$ can be obtained if we know distribution of temperature $T$ at previous time step $t_{i-1}$."
   ]
  },
  {
   "cell_type": "code",
   "execution_count": 2,
   "metadata": {},
   "outputs": [],
   "source": [
    "import math\n",
    "def T(x,t,T):\n",
    "    return math.erfc(x/(2*math.sqrt(alpha*t)))-math.exp(h(T)*x/k + (h(T)**2 * alpha * t/(k**2))) * math.erfc(x/(2*math.sqrt(alpha*t))+h(T)*math.sqrt(alpha*t)/k)"
   ]
  },
  {
   "cell_type": "markdown",
   "metadata": {},
   "source": [
    "Here we calculate the temperature drop from the one dimensional solution described in previous cell, we set initial temperature of the bar to $T=1173$ K:"
   ]
  },
  {
   "cell_type": "code",
   "execution_count": 3,
   "metadata": {},
   "outputs": [],
   "source": [
    "t_initial=900.0+273; t_inf=23.0+273\n",
    "tr=t_initial\n",
    "temp=[]\n",
    "for step in range(1,300):\n",
    "    a=T(0.0,step,tr)\n",
    "    tr = a*(t_inf-t_initial)+t_initial\n",
    "    temp.append(tr)"
   ]
  },
  {
   "cell_type": "markdown",
   "metadata": {},
   "source": [
    "Plot the given temperature for position $x=0$"
   ]
  },
  {
   "cell_type": "code",
   "execution_count": 4,
   "metadata": {},
   "outputs": [
    {
     "data": {
      "image/png": "[encoded data removed]",
      "text/plain": [
       "<Figure size 432x288 with 1 Axes>"
      ]
     },
     "metadata": {
      "needs_background": "light"
     },
     "output_type": "display_data"
    }
   ],
   "source": [
    "%matplotlib inline\n",
    "import matplotlib.pyplot as plt\n",
    "plt.plot(temp)\n",
    "plt.show()\n"
   ]
  },
  {
   "cell_type": "markdown",
   "metadata": {},
   "source": [
    "# Calculation of heat transfer"
   ]
  },
  {
   "cell_type": "markdown",
   "metadata": {},
   "source": [
    "In this section we solve general 2d heat equation using fipy library."
   ]
  },
  {
   "cell_type": "code",
   "execution_count": 5,
   "metadata": {},
   "outputs": [],
   "source": [
    "from fipy import *\n",
    "import numpy as np"
   ]
  },
  {
   "cell_type": "markdown",
   "metadata": {},
   "source": [
    "Here we define the material properties for the 1080 low carbon stainless steel. The data are taken from the paper (ref).\n",
    "Data are saved in the text file for reading."
   ]
  },
  {
   "cell_type": "code",
   "execution_count": 6,
   "metadata": {},
   "outputs": [],
   "source": [
    "def read_properties():\n",
    "    # read the text file for different properties\n",
    "    densityP = np.loadtxt(fname='./density1080Pearlite.txt', comments='#', delimiter=',', dtype='double')\n",
    "    densityMA = np.loadtxt(fname='./density1080MartensiteAustenite.txt', comments='#', delimiter=',', dtype='double')\n",
    "    \n",
    "    conductivityP = np.loadtxt(fname='./conductivity1080Pearlite.txt', comments='#', delimiter=',', dtype='double')\n",
    "    conductivityM = np.loadtxt(fname='./conductivity1080Martensite.txt', comments='#', delimiter=',', dtype='double')\n",
    "    conductivityA = np.loadtxt(fname='./conductivity1080Austenite.txt', comments='#', delimiter=',', dtype='double')\n",
    "    \n",
    "    specificP = np.loadtxt(fname='./specificheat1080Pearlite.txt', comments='#', delimiter=',', dtype='double')\n",
    "    specificMA = np.loadtxt(fname='./specificheat1080MartensiteAustenite.txt', comments='#', delimiter=',', dtype='double')\n",
    "    \n",
    "    return (densityP,densityMA,conductivityP,conductivityM, conductivityA,specificP,specificMA)"
   ]
  },
  {
   "cell_type": "markdown",
   "metadata": {},
   "source": [
    "Interpolate the experimental data to get interpolating function:"
   ]
  },
  {
   "cell_type": "code",
   "execution_count": 7,
   "metadata": {},
   "outputs": [
    {
     "data": {
      "text/plain": [
       "[<matplotlib.lines.Line2D at 0x99822b0>]"
      ]
     },
     "execution_count": 7,
     "metadata": {},
     "output_type": "execute_result"
    },
    {
     "data": {
      "image/png": "[encoded data removed]",
      "text/plain": [
       "<Figure size 432x288 with 1 Axes>"
      ]
     },
     "metadata": {
      "needs_background": "light"
     },
     "output_type": "display_data"
    }
   ],
   "source": [
    "# curve fitting\n",
    "from scipy.optimize import curve_fit, fsolve, newton\n",
    "from scipy.interpolate import RectBivariateSpline\n",
    "# fit the density function to second order polynomial\n",
    "def density(x,a,b,c):\n",
    "     return a*x**2 + b*x + c\n",
    "def conductivity(x,a,b,c):\n",
    "    return a*x**2 + b*x + c\n",
    "def specific_heat(x,a,b,c):\n",
    "    return a*x**2 + b*x + c\n",
    "    \n",
    "#density polynomial\n",
    "densP = [0.]\n",
    "condM = [0.]\n",
    "specificM = [0.]\n",
    "\n",
    "densityP=read_properties()[0]\n",
    "densP,pcov = curve_fit(density,densityP[:,0],densityP[:,1])\n",
    "conductivityM = read_properties()[3]\n",
    "condM,pcov = curve_fit(conductivity,conductivityM[:,0],conductivityM[:,1])\n",
    "specificMA = read_properties()[6]\n",
    "specificM,pcov = curve_fit(specific_heat,specificMA[:,0],specificMA[:,1])\n",
    "def fP(t_):\n",
    "    return densP[0]*t_**2+ densP[1]*t_ + densP[2]\n",
    "def cM(t_):\n",
    "    return condM[0]*t_**2+ condM[1]*t_ + condM[2]\n",
    "def sM(t_):\n",
    "    return specificM[0]*t_**2+ specificM[1]*t_ + specificM[2]\n",
    "\n",
    "plt.plot(specificMA[:,0],specificMA[:,1])\n",
    "w = np.linspace(0,1200,100)\n",
    "plt.plot(w,sM(w))"
   ]
  },
  {
   "cell_type": "markdown",
   "metadata": {},
   "source": [
    "We now reading the data for cooling coeficient $h_{rc}$. This coefficient contains both contributions from the radiation and convection heat transfer."
   ]
  },
  {
   "cell_type": "code",
   "execution_count": 8,
   "metadata": {},
   "outputs": [
    {
     "data": {
      "text/plain": [
       "[<matplotlib.lines.Line2D at 0x9afaeb8>]"
      ]
     },
     "execution_count": 8,
     "metadata": {},
     "output_type": "execute_result"
    },
    {
     "data": {
      "image/png": "[encoded data removed]",
      "text/plain": [
       "<Figure size 432x288 with 1 Axes>"
      ]
     },
     "metadata": {
      "needs_background": "light"
     },
     "output_type": "display_data"
    }
   ],
   "source": [
    "def read_cooling_transfer():\n",
    "     return np.loadtxt(fname='.\\cooling1080steel.txt', comments='#', delimiter=',', dtype='double')\n",
    "def cooling(x, a, b, c, d, e, f, g, h, i, j, k):\n",
    "    return a*x**10 + b*x**9 + c*x**8 + d*x**7 + e*x**6 + \\\n",
    "           f*x**5 + g*x**4 + h*x**3 + i*x**2 + j*x + k\n",
    "hrcP=[0.]\n",
    "hrc = read_cooling_transfer()\n",
    "hrcP,pconv = curve_fit(cooling,hrc[:,0],hrc[:,1])\n",
    "def hrcf(t_):\n",
    "      return hrcP[0]*t_**10 + hrcP[1]*t_**9 + hrcP[2]*t_**8 + hrcP[3]*t_**7 \\\n",
    "           + hrcP[4]*t_**6  + hrcP[5]*t_**5 + hrcP[6]*t_**4 + hrcP[7]*t_**3 \\\n",
    "           + hrcP[8]*t_**2  + hrcP[9]*t_    + hrcP[10]\n",
    "\n",
    "plt.plot(hrc[:,0],hrc[:,1])\n",
    "tw = np.linspace(50,850,125)\n",
    "plt.plot(tw,hrcf(tw))"
   ]
  },
  {
   "cell_type": "markdown",
   "metadata": {},
   "source": [
    "Define some common mesh values for 2D heat flow. We create uniform cylinder mesh on which we solve axisymmetric case."
   ]
  },
  {
   "cell_type": "code",
   "execution_count": 9,
   "metadata": {},
   "outputs": [],
   "source": [
    "steps = 100\n",
    "N = 40\n",
    "L = 2.5*N/4000\n",
    "dL = L / N\n",
    "dt = 0.1\n",
    "mesh = CylindricalGrid2D(dx = dL, dy = dL, nx = N, ny = N)"
   ]
  },
  {
   "cell_type": "markdown",
   "metadata": {},
   "source": [
    "Also adds the fraction of different phases as cell variable, so we can calculate the contributions from different phases to heat equation."
   ]
  },
  {
   "cell_type": "code",
   "execution_count": 10,
   "metadata": {},
   "outputs": [],
   "source": [
    "fi = CellVariable(mesh=mesh, name='fractions', hasOld=True, value=0.0)\n",
    "temperature = CellVariable(mesh = mesh, name='temperature',value=1173., hasOld=True)\n",
    "(r,z) = mesh.cellCenters()"
   ]
  },
  {
   "cell_type": "markdown",
   "metadata": {},
   "source": [
    "Initial temperature of the cylinder and surface is set to:\n",
    "$T_o= 1173K$.\n",
    "Boundary condition at $y=0$ is given by convection cooling condition:\n",
    "$$\n",
    "-k \\frac{\\partial T}{\\partial n} = h_{rc}(T) (T-T_{\\infty})\n",
    "$$\n",
    "\n",
    "The boundary condition on the $x=0$ left side of the domain is isolated:\n",
    "$$\n",
    "-k \\frac{\\partial T}{\\partial n} = 0\n",
    "$$\n",
    "The temperature on the top and right side of cylinder are set to surounding temperature:\n",
    "$T_0 = T_{\\infty}$"
   ]
  },
  {
   "cell_type": "code",
   "execution_count": 11,
   "metadata": {},
   "outputs": [],
   "source": [
    "vh = np.vectorize(h)\n",
    "#temperature.faceGrad.dot([0,1]).constrain(-vh(temperature.faceValue)*1/k*(temperature.faceValue-t_inf),mesh.facesBottom)\n",
    "temperature.faceGrad.dot([0,1]).constrain(0,mesh.facesBottom)\n",
    "temperature.faceGrad.dot([1,0]).constrain(0,mesh.facesLeft)\n",
    "#temperature.constrain(t_inf, mesh.facesRight)\n",
    "#temperature.constrain(1173., mesh.facesTop)\n",
    "fluxBottom = hrcf(temperature.faceValue)*(temperature.faceValue-t_inf) #changed the default value to exp. measured "
   ]
  },
  {
   "cell_type": "markdown",
   "metadata": {},
   "source": [
    "For now we are assuming that complete austinite is transforming directly in martensite phase. We are using here Koistinen-Marburger law:\n",
    "$$\n",
    "F_m = (1-exp(-\\alpha(T_{ms}-T))(1-\\sum_{i=1}F_i)\n",
    "$$\n",
    "where $F_i$ represent the fraction of the different fractions of the perlite, banite and austinite phase. The sumation is not done for martensite phase. \n",
    "Alpha is constant taken from the paper "
   ]
  },
  {
   "cell_type": "code",
   "execution_count": 12,
   "metadata": {},
   "outputs": [],
   "source": [
    "alpha = 1.10E-2; \n",
    "Tm= 850+273;    # martensitic start temperature\n",
    "def koistinen_marburger(temperature):\n",
    "    #fi.setValue(1.0-np.exp(-alpha*(Tm-temperature)), where=Tm-temperature > 0)\n",
    "    fi.setValue(1.0-(np.exp(-alpha*Tm)*(1+alpha*temperature+0.5*(alpha*temperature)**2+1./6*(alpha*temperature)**3)), where=Tm-temperature > 0)"
   ]
  },
  {
   "cell_type": "markdown",
   "metadata": {},
   "source": [
    "Define the source term for the phase transformation effects. The phase transformation source contains the fraction of the austinite phase transformed in martensite and enthalpy of the formation."
   ]
  },
  {
   "cell_type": "code",
   "execution_count": 13,
   "metadata": {},
   "outputs": [],
   "source": [
    "deltaHm = 320E+6;\n",
    "#deltaHm=0.\n",
    "#def phaseSourceT():\n",
    "#    return deltaHm*(fi-fi.old)/dt\n",
    "def phaseSourceT():\n",
    "    return TransientTerm(var=fi,coeff=deltaHm)"
   ]
  },
  {
   "cell_type": "markdown",
   "metadata": {},
   "source": [
    "Now setup the temperature equation for source term comming from the phase transformations defined the flag phaseTrans."
   ]
  },
  {
   "cell_type": "code",
   "execution_count": 14,
   "metadata": {},
   "outputs": [],
   "source": [
    "temperatureEq = TransientTerm(coeff=rho*Cp,var=temperature)== DiffusionTerm(coeff=cM(temperature),var=temperature)+(mesh.facesBottom*fluxBottom).divergence+phaseSourceT()"
   ]
  },
  {
   "cell_type": "code",
   "execution_count": 15,
   "metadata": {},
   "outputs": [
    {
     "data": {
      "image/png": "[encoded data removed]",
      "text/plain": [
       "<Figure size 288x288 with 2 Axes>"
      ]
     },
     "metadata": {
      "needs_background": "light"
     },
     "output_type": "display_data"
    }
   ],
   "source": [
    "if __name__ == '__main__':\n",
    "    temperatureViewer = Viewer(vars=temperature,figaspect=1,datamin=0,datamax=1200)"
   ]
  },
  {
   "cell_type": "markdown",
   "metadata": {},
   "source": [
    "We step the solution in time, plotting as we go interactively"
   ]
  },
  {
   "cell_type": "code",
   "execution_count": 16,
   "metadata": {},
   "outputs": [
    {
     "name": "stdout",
     "output_type": "stream",
     "text": [
      "0.0\n",
      "Residual 100000000000.000000\n",
      "Residual 1114531.979750\n",
      "Residual 1787164957967901920605855974355369984.000000\n"
     ]
    },
    {
     "name": "stderr",
     "output_type": "stream",
     "text": [
      "C:\\Users\\tonii\\Anaconda2\\lib\\site-packages\\fipy\\variables\\variable.py:1159: RuntimeWarning: overflow encountered in power\n",
      "  return self._BinaryOperatorVariable(lambda a,b: pow(a,b), other)\n",
      "C:\\Users\\tonii\\Anaconda2\\lib\\site-packages\\fipy\\variables\\variable.py:1132: RuntimeWarning: invalid value encountered in add\n",
      "  return self._BinaryOperatorVariable(lambda a,b: a+b, other)\n",
      "C:\\Users\\tonii\\Anaconda2\\lib\\site-packages\\fipy\\variables\\variable.py:1151: RuntimeWarning: overflow encountered in multiply\n",
      "  return self._BinaryOperatorVariable(lambda a,b: a*b, other)\n",
      "C:\\Users\\tonii\\Anaconda2\\lib\\site-packages\\fipy\\variables\\variable.py:1151: RuntimeWarning: invalid value encountered in multiply\n",
      "  return self._BinaryOperatorVariable(lambda a,b: a*b, other)\n"
     ]
    },
    {
     "ename": "RuntimeError",
     "evalue": "Factor is exactly singular",
     "output_type": "error",
     "traceback": [
      "\u001b[1;31m---------------------------------------------------------------------------\u001b[0m",
      "\u001b[1;31mRuntimeError\u001b[0m                              Traceback (most recent call last)",
      "\u001b[1;32m<ipython-input-16-82cdb927853f>\u001b[0m in \u001b[0;36m<module>\u001b[1;34m()\u001b[0m\n\u001b[0;32m     19\u001b[0m     \u001b[1;32mwhile\u001b[0m\u001b[1;33m(\u001b[0m\u001b[0mterr\u001b[0m \u001b[1;33m>\u001b[0m \u001b[0meps\u001b[0m\u001b[1;33m)\u001b[0m\u001b[1;33m:\u001b[0m\u001b[1;33m\u001b[0m\u001b[0m\n\u001b[0;32m     20\u001b[0m         \u001b[1;32mprint\u001b[0m \u001b[1;34m\"Residual %f\"\u001b[0m \u001b[1;33m%\u001b[0m \u001b[0mterr\u001b[0m\u001b[1;33m\u001b[0m\u001b[0m\n\u001b[1;32m---> 21\u001b[1;33m         \u001b[0mterr\u001b[0m \u001b[1;33m=\u001b[0m \u001b[0mtemperatureEq\u001b[0m\u001b[1;33m.\u001b[0m\u001b[0msweep\u001b[0m\u001b[1;33m(\u001b[0m\u001b[0mtemperature\u001b[0m\u001b[1;33m,\u001b[0m \u001b[0mdt\u001b[0m\u001b[1;33m=\u001b[0m\u001b[0mdt\u001b[0m\u001b[1;33m,\u001b[0m\u001b[0msolver\u001b[0m\u001b[1;33m=\u001b[0m\u001b[0mpoisson\u001b[0m\u001b[1;33m)\u001b[0m\u001b[1;33m\u001b[0m\u001b[0m\n\u001b[0m\u001b[0;32m     22\u001b[0m \u001b[1;33m\u001b[0m\u001b[0m\n\u001b[0;32m     23\u001b[0m     \u001b[1;31m#print min(phaseSourceT())\u001b[0m\u001b[1;33m\u001b[0m\u001b[1;33m\u001b[0m\u001b[0m\n",
      "\u001b[1;32mC:\\Users\\tonii\\Anaconda2\\lib\\site-packages\\fipy\\terms\\term.pyc\u001b[0m in \u001b[0;36msweep\u001b[1;34m(self, var, solver, boundaryConditions, dt, underRelaxation, residualFn, cacheResidual, cacheError)\u001b[0m\n\u001b[0;32m    252\u001b[0m             \u001b[0mself\u001b[0m\u001b[1;33m.\u001b[0m\u001b[0mresidualVector\u001b[0m \u001b[1;33m=\u001b[0m \u001b[0mNone\u001b[0m\u001b[1;33m\u001b[0m\u001b[0m\n\u001b[0;32m    253\u001b[0m \u001b[1;33m\u001b[0m\u001b[0m\n\u001b[1;32m--> 254\u001b[1;33m         \u001b[0msolver\u001b[0m\u001b[1;33m.\u001b[0m\u001b[0m_solve\u001b[0m\u001b[1;33m(\u001b[0m\u001b[1;33m)\u001b[0m\u001b[1;33m\u001b[0m\u001b[0m\n\u001b[0m\u001b[0;32m    255\u001b[0m \u001b[1;33m\u001b[0m\u001b[0m\n\u001b[0;32m    256\u001b[0m         \u001b[1;32mreturn\u001b[0m \u001b[0mresidual\u001b[0m\u001b[1;33m\u001b[0m\u001b[0m\n",
      "\u001b[1;32mC:\\Users\\tonii\\Anaconda2\\lib\\site-packages\\fipy\\solvers\\pysparse\\pysparseSolver.pyc\u001b[0m in \u001b[0;36m_solve\u001b[1;34m(self)\u001b[0m\n\u001b[0;32m    101\u001b[0m             \u001b[1;32mraise\u001b[0m \u001b[0mSolutionVariableNumberError\u001b[0m\u001b[1;33m\u001b[0m\u001b[0m\n\u001b[0;32m    102\u001b[0m \u001b[1;33m\u001b[0m\u001b[0m\n\u001b[1;32m--> 103\u001b[1;33m         \u001b[0mself\u001b[0m\u001b[1;33m.\u001b[0m\u001b[0m_solve_\u001b[0m\u001b[1;33m(\u001b[0m\u001b[0mself\u001b[0m\u001b[1;33m.\u001b[0m\u001b[0mmatrix\u001b[0m\u001b[1;33m,\u001b[0m \u001b[0marray\u001b[0m\u001b[1;33m,\u001b[0m \u001b[0mself\u001b[0m\u001b[1;33m.\u001b[0m\u001b[0mRHSvector\u001b[0m\u001b[1;33m)\u001b[0m\u001b[1;33m\u001b[0m\u001b[0m\n\u001b[0m\u001b[0;32m    104\u001b[0m         \u001b[0mfactor\u001b[0m \u001b[1;33m=\u001b[0m \u001b[0mself\u001b[0m\u001b[1;33m.\u001b[0m\u001b[0mvar\u001b[0m\u001b[1;33m.\u001b[0m\u001b[0munit\u001b[0m\u001b[1;33m.\u001b[0m\u001b[0mfactor\u001b[0m\u001b[1;33m\u001b[0m\u001b[0m\n\u001b[0;32m    105\u001b[0m         \u001b[1;32mif\u001b[0m \u001b[0mfactor\u001b[0m \u001b[1;33m!=\u001b[0m \u001b[1;36m1\u001b[0m\u001b[1;33m:\u001b[0m\u001b[1;33m\u001b[0m\u001b[0m\n",
      "\u001b[1;32mC:\\Users\\tonii\\Anaconda2\\lib\\site-packages\\fipy\\solvers\\pysparse\\linearLUSolver.pyc\u001b[0m in \u001b[0;36m_solve_\u001b[1;34m(self, L, x, b)\u001b[0m\n\u001b[0;32m     85\u001b[0m         \u001b[0mb\u001b[0m \u001b[1;33m=\u001b[0m \u001b[0mb\u001b[0m \u001b[1;33m*\u001b[0m \u001b[1;33m(\u001b[0m\u001b[1;36m1\u001b[0m \u001b[1;33m/\u001b[0m \u001b[0mmaxdiag\u001b[0m\u001b[1;33m)\u001b[0m\u001b[1;33m\u001b[0m\u001b[0m\n\u001b[0;32m     86\u001b[0m \u001b[1;33m\u001b[0m\u001b[0m\n\u001b[1;32m---> 87\u001b[1;33m         \u001b[0mLU\u001b[0m \u001b[1;33m=\u001b[0m \u001b[0msuperlu\u001b[0m\u001b[1;33m.\u001b[0m\u001b[0mfactorize\u001b[0m\u001b[1;33m(\u001b[0m\u001b[0mL\u001b[0m\u001b[1;33m.\u001b[0m\u001b[0mmatrix\u001b[0m\u001b[1;33m.\u001b[0m\u001b[0mto_csr\u001b[0m\u001b[1;33m(\u001b[0m\u001b[1;33m)\u001b[0m\u001b[1;33m)\u001b[0m\u001b[1;33m\u001b[0m\u001b[0m\n\u001b[0m\u001b[0;32m     88\u001b[0m \u001b[1;33m\u001b[0m\u001b[0m\n\u001b[0;32m     89\u001b[0m         \u001b[1;32mif\u001b[0m \u001b[0mDEBUG\u001b[0m\u001b[1;33m:\u001b[0m\u001b[1;33m\u001b[0m\u001b[0m\n",
      "\u001b[1;32mC:\\Users\\tonii\\Anaconda2\\lib\\site-packages\\pysparse\\misc\\__init__.pyc\u001b[0m in \u001b[0;36mnewFunc\u001b[1;34m(*args, **kwargs)\u001b[0m\n\u001b[0;32m     27\u001b[0m                             \u001b[0mcategory\u001b[0m\u001b[1;33m=\u001b[0m\u001b[0mDeprecationWarning\u001b[0m\u001b[1;33m,\u001b[0m\u001b[1;33m\u001b[0m\u001b[0m\n\u001b[0;32m     28\u001b[0m                             stacklevel=2)\n\u001b[1;32m---> 29\u001b[1;33m             \u001b[1;32mreturn\u001b[0m \u001b[0mfunc\u001b[0m\u001b[1;33m(\u001b[0m\u001b[1;33m*\u001b[0m\u001b[0margs\u001b[0m\u001b[1;33m,\u001b[0m \u001b[1;33m**\u001b[0m\u001b[0mkwargs\u001b[0m\u001b[1;33m)\u001b[0m\u001b[1;33m\u001b[0m\u001b[0m\n\u001b[0m\u001b[0;32m     30\u001b[0m         \u001b[0mnewFunc\u001b[0m\u001b[1;33m.\u001b[0m\u001b[0m__name__\u001b[0m \u001b[1;33m=\u001b[0m \u001b[0mfunc\u001b[0m\u001b[1;33m.\u001b[0m\u001b[0m__name__\u001b[0m\u001b[1;33m\u001b[0m\u001b[0m\n\u001b[0;32m     31\u001b[0m         \u001b[0mnewFunc\u001b[0m\u001b[1;33m.\u001b[0m\u001b[0m__doc__\u001b[0m \u001b[1;33m=\u001b[0m \u001b[0mfunc\u001b[0m\u001b[1;33m.\u001b[0m\u001b[0m__doc__\u001b[0m\u001b[1;33m\u001b[0m\u001b[0m\n",
      "\u001b[1;32mC:\\Users\\tonii\\Anaconda2\\lib\\site-packages\\pysparse\\__init__.pyc\u001b[0m in \u001b[0;36mfactorize\u001b[1;34m(self, *args, **kwargs)\u001b[0m\n\u001b[0;32m     45\u001b[0m         \u001b[1;32mimport\u001b[0m \u001b[0mpysparse\u001b[0m\u001b[1;33m.\u001b[0m\u001b[0mdirect\u001b[0m\u001b[1;33m.\u001b[0m\u001b[0msuperlu\u001b[0m\u001b[1;33m\u001b[0m\u001b[0m\n\u001b[0;32m     46\u001b[0m         \u001b[0mself\u001b[0m\u001b[1;33m.\u001b[0m\u001b[0mfactorizeFnc\u001b[0m \u001b[1;33m=\u001b[0m \u001b[0mpysparse\u001b[0m\u001b[1;33m.\u001b[0m\u001b[0mdirect\u001b[0m\u001b[1;33m.\u001b[0m\u001b[0msuperlu\u001b[0m\u001b[1;33m.\u001b[0m\u001b[0mfactorize\u001b[0m\u001b[1;33m\u001b[0m\u001b[0m\n\u001b[1;32m---> 47\u001b[1;33m         \u001b[1;32mreturn\u001b[0m \u001b[0mself\u001b[0m\u001b[1;33m.\u001b[0m\u001b[0mfactorizeFnc\u001b[0m\u001b[1;33m(\u001b[0m\u001b[1;33m*\u001b[0m\u001b[0margs\u001b[0m\u001b[1;33m,\u001b[0m \u001b[1;33m**\u001b[0m\u001b[0mkwargs\u001b[0m\u001b[1;33m)\u001b[0m\u001b[1;33m\u001b[0m\u001b[0m\n\u001b[0m\u001b[0;32m     48\u001b[0m \u001b[1;33m\u001b[0m\u001b[0m\n\u001b[0;32m     49\u001b[0m \u001b[0msuperlu\u001b[0m \u001b[1;33m=\u001b[0m \u001b[0m_superlu\u001b[0m\u001b[1;33m(\u001b[0m\u001b[1;33m)\u001b[0m\u001b[1;33m\u001b[0m\u001b[0m\n",
      "\u001b[1;31mRuntimeError\u001b[0m: Factor is exactly singular"
     ]
    }
   ],
   "source": [
    "#import fipy.solvers.pyAMG as solvers\n",
    "import fipy.solvers.pysparse as solvers\n",
    "import numpy as np\n",
    "solver = solvers.linearGMRESSolver.LinearGMRESSolver(precon=None, iterations=1500, tolerance=1e-15) \n",
    "poisson= solvers.linearLUSolver.LinearLUSolver()\n",
    "\n",
    "steps = 3000 # number of steps to calculate\n",
    "eps =1e-5\n",
    "Tvstime = [] # temperature values during cooling\n",
    "\n",
    "for i in range(steps):\n",
    "    terr=10e+10\n",
    "    temperature.updateOld()\n",
    "    fi.updateOld()\n",
    "    \n",
    "    #update martensite fraction using koistinen-marburger eq.\n",
    "    koistinen_marburger(temperature) \n",
    "    print max(fi)\n",
    "    while(terr > eps):\n",
    "        print \"Residual %f\" % terr\n",
    "        terr = temperatureEq.sweep(temperature, dt=dt,solver=poisson)\n",
    "    \n",
    "    #print min(phaseSourceT())\n",
    "    if __name__ == '__main__':\n",
    "        path = \"../../TEST/temperature/\"\n",
    "        temperatureViewer.plot(path+\"temperatureOH\"+str(i)+\".eps\")  \n",
    "        np.savetxt(path+\"temperatureOH\"+str(i),temperature)\n",
    "        np.savetxt(path+\"martensiteOH\"+str(i),fi)\n",
    "        Tvstime.append(temperature.value[0])\n",
    "        print \"step: \", i, \"Min. temperature\",min(temperature), \"Max. temperature\", max(temperature)\n",
    "        "
   ]
  },
  {
   "cell_type": "code",
   "execution_count": null,
   "metadata": {},
   "outputs": [],
   "source": [
    "tempload = np.loadtxt(path+\"martensiteOH1800\")"
   ]
  },
  {
   "cell_type": "code",
   "execution_count": null,
   "metadata": {},
   "outputs": [],
   "source": [
    "m = tempload.reshape(N,N)\n",
    "cm = plt.contourf(m)\n",
    "plt.clabel(cm,colors='r')"
   ]
  },
  {
   "cell_type": "code",
   "execution_count": null,
   "metadata": {},
   "outputs": [],
   "source": [
    "%matplotlib inline\n",
    "temperatureViewer.plot(path + \"temperature599.png\")"
   ]
  },
  {
   "cell_type": "markdown",
   "metadata": {},
   "source": [
    "Plotting the value of the temperature in the middle of the cylinder at the convection surface."
   ]
  },
  {
   "cell_type": "code",
   "execution_count": null,
   "metadata": {},
   "outputs": [],
   "source": [
    "t=[]\n",
    "for i in range(1,3000,10):\n",
    "    load = np.loadtxt(path+\"temperatureOH\"+str(i))\n",
    "    t.append(load.reshape(N,N)[10,0])\n",
    "plt.plot(t)   "
   ]
  },
  {
   "cell_type": "markdown",
   "metadata": {},
   "source": [
    "Plot of the temperature at central point of the cylinder. The temperature rises on the point and then drops again due to enthalphy of austinite to martensite phase transformation. Is this numerical instability??"
   ]
  },
  {
   "cell_type": "code",
   "execution_count": null,
   "metadata": {},
   "outputs": [],
   "source": [
    "plta = plt.plot(Tvstime)"
   ]
  },
  {
   "cell_type": "code",
   "execution_count": null,
   "metadata": {},
   "outputs": [],
   "source": [
    "plt.plot(Tvstime)\n",
    "plt.plot(temp)\n",
    "plt.show()"
   ]
  },
  {
   "cell_type": "code",
   "execution_count": null,
   "metadata": {},
   "outputs": [],
   "source": []
  }
 ],
 "metadata": {
  "kernelspec": {
   "display_name": "Python 2",
   "language": "python",
   "name": "python2"
  },
  "language_info": {
   "codemirror_mode": {
    "name": "ipython",
    "version": 2
   },
   "file_extension": ".py",
   "mimetype": "text/x-python",
   "name": "python",
   "nbconvert_exporter": "python",
   "pygments_lexer": "ipython2",
   "version": "2.7.16"
  }
 },
 "nbformat": 4,
 "nbformat_minor": 2
}
